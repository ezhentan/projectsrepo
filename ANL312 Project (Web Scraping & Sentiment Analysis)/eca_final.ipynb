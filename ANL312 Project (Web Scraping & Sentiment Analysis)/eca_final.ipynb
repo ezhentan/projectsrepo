{
 "cells": [
  {
   "cell_type": "markdown",
   "metadata": {},
   "source": [
    "# Loading packages"
   ]
  },
  {
   "cell_type": "code",
   "execution_count": 172,
   "metadata": {},
   "outputs": [],
   "source": [
    "import pandas as pd\n",
    "import numpy as np\n",
    "import matplotlib.pyplot as plt\n",
    "import time"
   ]
  },
  {
   "cell_type": "markdown",
   "metadata": {},
   "source": [
    "# Loading dataset"
   ]
  },
  {
   "cell_type": "code",
   "execution_count": 594,
   "metadata": {},
   "outputs": [
    {
     "data": {
      "text/html": [
       "<div>\n",
       "<style scoped>\n",
       "    .dataframe tbody tr th:only-of-type {\n",
       "        vertical-align: middle;\n",
       "    }\n",
       "\n",
       "    .dataframe tbody tr th {\n",
       "        vertical-align: top;\n",
       "    }\n",
       "\n",
       "    .dataframe thead th {\n",
       "        text-align: right;\n",
       "    }\n",
       "</style>\n",
       "<table border=\"1\" class=\"dataframe\">\n",
       "  <thead>\n",
       "    <tr style=\"text-align: right;\">\n",
       "      <th></th>\n",
       "      <th>Gender</th>\n",
       "      <th>Age</th>\n",
       "      <th>AccountWeeks</th>\n",
       "      <th>Subscription</th>\n",
       "      <th>Reviews</th>\n",
       "      <th>AvgRides</th>\n",
       "      <th>AvgSpend</th>\n",
       "      <th>LastRating</th>\n",
       "      <th>Churn</th>\n",
       "    </tr>\n",
       "  </thead>\n",
       "  <tbody>\n",
       "    <tr>\n",
       "      <td>0</td>\n",
       "      <td>Female</td>\n",
       "      <td>26</td>\n",
       "      <td>157</td>\n",
       "      <td>Yes</td>\n",
       "      <td>My Order ADR-5838292-8-257. I made it 5.30pm. ...</td>\n",
       "      <td>29</td>\n",
       "      <td>156</td>\n",
       "      <td>4</td>\n",
       "      <td>No</td>\n",
       "    </tr>\n",
       "    <tr>\n",
       "      <td>1</td>\n",
       "      <td>Male</td>\n",
       "      <td>22</td>\n",
       "      <td>10</td>\n",
       "      <td>No</td>\n",
       "      <td>I think Grab should make it clear that all del...</td>\n",
       "      <td>15</td>\n",
       "      <td>196</td>\n",
       "      <td>2</td>\n",
       "      <td>No</td>\n",
       "    </tr>\n",
       "    <tr>\n",
       "      <td>2</td>\n",
       "      <td>Female</td>\n",
       "      <td>59</td>\n",
       "      <td>65</td>\n",
       "      <td>No</td>\n",
       "      <td>I've been trying to order grabfood since 4.45p...</td>\n",
       "      <td>8</td>\n",
       "      <td>181</td>\n",
       "      <td>3</td>\n",
       "      <td>Yes</td>\n",
       "    </tr>\n",
       "    <tr>\n",
       "      <td>3</td>\n",
       "      <td>Female</td>\n",
       "      <td>32</td>\n",
       "      <td>82</td>\n",
       "      <td>No</td>\n",
       "      <td>WE SHOULD BOYCOTT GRAB LOUSLY FARES NO INCENTI...</td>\n",
       "      <td>21</td>\n",
       "      <td>103</td>\n",
       "      <td>1</td>\n",
       "      <td>Yes</td>\n",
       "    </tr>\n",
       "    <tr>\n",
       "      <td>4</td>\n",
       "      <td>Male</td>\n",
       "      <td>35</td>\n",
       "      <td>95</td>\n",
       "      <td>No</td>\n",
       "      <td>Hi Sir Anthony Tan  I would like to enquire wi...</td>\n",
       "      <td>19</td>\n",
       "      <td>40</td>\n",
       "      <td>5</td>\n",
       "      <td>Yes</td>\n",
       "    </tr>\n",
       "  </tbody>\n",
       "</table>\n",
       "</div>"
      ],
      "text/plain": [
       "   Gender  Age  AccountWeeks Subscription  \\\n",
       "0  Female   26           157          Yes   \n",
       "1    Male   22            10           No   \n",
       "2  Female   59            65           No   \n",
       "3  Female   32            82           No   \n",
       "4    Male   35            95           No   \n",
       "\n",
       "                                             Reviews  AvgRides  AvgSpend  \\\n",
       "0  My Order ADR-5838292-8-257. I made it 5.30pm. ...        29       156   \n",
       "1  I think Grab should make it clear that all del...        15       196   \n",
       "2  I've been trying to order grabfood since 4.45p...         8       181   \n",
       "3  WE SHOULD BOYCOTT GRAB LOUSLY FARES NO INCENTI...        21       103   \n",
       "4  Hi Sir Anthony Tan  I would like to enquire wi...        19        40   \n",
       "\n",
       "   LastRating Churn  \n",
       "0           4    No  \n",
       "1           2    No  \n",
       "2           3   Yes  \n",
       "3           1   Yes  \n",
       "4           5   Yes  "
      ]
     },
     "execution_count": 594,
     "metadata": {},
     "output_type": "execute_result"
    }
   ],
   "source": [
    "data = pd.read_csv('eca_dataset_final.csv')\n",
    "data.head()"
   ]
  },
  {
   "cell_type": "code",
   "execution_count": 174,
   "metadata": {},
   "outputs": [
    {
     "data": {
      "text/plain": [
       "392"
      ]
     },
     "execution_count": 174,
     "metadata": {},
     "output_type": "execute_result"
    }
   ],
   "source": [
    "len(data)"
   ]
  },
  {
   "cell_type": "markdown",
   "metadata": {},
   "source": [
    "# Data Quality"
   ]
  },
  {
   "cell_type": "code",
   "execution_count": 175,
   "metadata": {
    "scrolled": false
   },
   "outputs": [
    {
     "data": {
      "text/html": [
       "<div>\n",
       "<style scoped>\n",
       "    .dataframe tbody tr th:only-of-type {\n",
       "        vertical-align: middle;\n",
       "    }\n",
       "\n",
       "    .dataframe tbody tr th {\n",
       "        vertical-align: top;\n",
       "    }\n",
       "\n",
       "    .dataframe thead th {\n",
       "        text-align: right;\n",
       "    }\n",
       "</style>\n",
       "<table border=\"1\" class=\"dataframe\">\n",
       "  <thead>\n",
       "    <tr style=\"text-align: right;\">\n",
       "      <th></th>\n",
       "      <th>Gender</th>\n",
       "      <th>Age</th>\n",
       "      <th>AccountWeeks</th>\n",
       "      <th>Subscription</th>\n",
       "      <th>Reviews</th>\n",
       "      <th>AvgRides</th>\n",
       "      <th>AvgSpend</th>\n",
       "      <th>LastRating</th>\n",
       "      <th>Churn</th>\n",
       "    </tr>\n",
       "  </thead>\n",
       "  <tbody>\n",
       "    <tr>\n",
       "      <td>0</td>\n",
       "      <td>False</td>\n",
       "      <td>False</td>\n",
       "      <td>False</td>\n",
       "      <td>False</td>\n",
       "      <td>False</td>\n",
       "      <td>False</td>\n",
       "      <td>False</td>\n",
       "      <td>False</td>\n",
       "      <td>False</td>\n",
       "    </tr>\n",
       "    <tr>\n",
       "      <td>1</td>\n",
       "      <td>False</td>\n",
       "      <td>False</td>\n",
       "      <td>False</td>\n",
       "      <td>False</td>\n",
       "      <td>False</td>\n",
       "      <td>False</td>\n",
       "      <td>False</td>\n",
       "      <td>False</td>\n",
       "      <td>False</td>\n",
       "    </tr>\n",
       "    <tr>\n",
       "      <td>2</td>\n",
       "      <td>False</td>\n",
       "      <td>False</td>\n",
       "      <td>False</td>\n",
       "      <td>False</td>\n",
       "      <td>False</td>\n",
       "      <td>False</td>\n",
       "      <td>False</td>\n",
       "      <td>False</td>\n",
       "      <td>False</td>\n",
       "    </tr>\n",
       "    <tr>\n",
       "      <td>3</td>\n",
       "      <td>False</td>\n",
       "      <td>False</td>\n",
       "      <td>False</td>\n",
       "      <td>False</td>\n",
       "      <td>False</td>\n",
       "      <td>False</td>\n",
       "      <td>False</td>\n",
       "      <td>False</td>\n",
       "      <td>False</td>\n",
       "    </tr>\n",
       "    <tr>\n",
       "      <td>4</td>\n",
       "      <td>False</td>\n",
       "      <td>False</td>\n",
       "      <td>False</td>\n",
       "      <td>False</td>\n",
       "      <td>False</td>\n",
       "      <td>False</td>\n",
       "      <td>False</td>\n",
       "      <td>False</td>\n",
       "      <td>False</td>\n",
       "    </tr>\n",
       "    <tr>\n",
       "      <td>...</td>\n",
       "      <td>...</td>\n",
       "      <td>...</td>\n",
       "      <td>...</td>\n",
       "      <td>...</td>\n",
       "      <td>...</td>\n",
       "      <td>...</td>\n",
       "      <td>...</td>\n",
       "      <td>...</td>\n",
       "      <td>...</td>\n",
       "    </tr>\n",
       "    <tr>\n",
       "      <td>387</td>\n",
       "      <td>False</td>\n",
       "      <td>False</td>\n",
       "      <td>False</td>\n",
       "      <td>False</td>\n",
       "      <td>False</td>\n",
       "      <td>False</td>\n",
       "      <td>False</td>\n",
       "      <td>False</td>\n",
       "      <td>False</td>\n",
       "    </tr>\n",
       "    <tr>\n",
       "      <td>388</td>\n",
       "      <td>False</td>\n",
       "      <td>False</td>\n",
       "      <td>False</td>\n",
       "      <td>False</td>\n",
       "      <td>False</td>\n",
       "      <td>False</td>\n",
       "      <td>False</td>\n",
       "      <td>False</td>\n",
       "      <td>False</td>\n",
       "    </tr>\n",
       "    <tr>\n",
       "      <td>389</td>\n",
       "      <td>False</td>\n",
       "      <td>False</td>\n",
       "      <td>False</td>\n",
       "      <td>False</td>\n",
       "      <td>False</td>\n",
       "      <td>False</td>\n",
       "      <td>False</td>\n",
       "      <td>False</td>\n",
       "      <td>False</td>\n",
       "    </tr>\n",
       "    <tr>\n",
       "      <td>390</td>\n",
       "      <td>False</td>\n",
       "      <td>False</td>\n",
       "      <td>False</td>\n",
       "      <td>False</td>\n",
       "      <td>False</td>\n",
       "      <td>False</td>\n",
       "      <td>False</td>\n",
       "      <td>False</td>\n",
       "      <td>False</td>\n",
       "    </tr>\n",
       "    <tr>\n",
       "      <td>391</td>\n",
       "      <td>False</td>\n",
       "      <td>False</td>\n",
       "      <td>False</td>\n",
       "      <td>False</td>\n",
       "      <td>False</td>\n",
       "      <td>False</td>\n",
       "      <td>False</td>\n",
       "      <td>False</td>\n",
       "      <td>False</td>\n",
       "    </tr>\n",
       "  </tbody>\n",
       "</table>\n",
       "<p>392 rows × 9 columns</p>\n",
       "</div>"
      ],
      "text/plain": [
       "     Gender    Age  AccountWeeks  Subscription  Reviews  AvgRides  AvgSpend  \\\n",
       "0     False  False         False         False    False     False     False   \n",
       "1     False  False         False         False    False     False     False   \n",
       "2     False  False         False         False    False     False     False   \n",
       "3     False  False         False         False    False     False     False   \n",
       "4     False  False         False         False    False     False     False   \n",
       "..      ...    ...           ...           ...      ...       ...       ...   \n",
       "387   False  False         False         False    False     False     False   \n",
       "388   False  False         False         False    False     False     False   \n",
       "389   False  False         False         False    False     False     False   \n",
       "390   False  False         False         False    False     False     False   \n",
       "391   False  False         False         False    False     False     False   \n",
       "\n",
       "     LastRating  Churn  \n",
       "0         False  False  \n",
       "1         False  False  \n",
       "2         False  False  \n",
       "3         False  False  \n",
       "4         False  False  \n",
       "..          ...    ...  \n",
       "387       False  False  \n",
       "388       False  False  \n",
       "389       False  False  \n",
       "390       False  False  \n",
       "391       False  False  \n",
       "\n",
       "[392 rows x 9 columns]"
      ]
     },
     "execution_count": 175,
     "metadata": {},
     "output_type": "execute_result"
    }
   ],
   "source": [
    "data.isnull()"
   ]
  },
  {
   "cell_type": "code",
   "execution_count": 287,
   "metadata": {},
   "outputs": [
    {
     "data": {
      "text/html": [
       "<div>\n",
       "<style scoped>\n",
       "    .dataframe tbody tr th:only-of-type {\n",
       "        vertical-align: middle;\n",
       "    }\n",
       "\n",
       "    .dataframe tbody tr th {\n",
       "        vertical-align: top;\n",
       "    }\n",
       "\n",
       "    .dataframe thead th {\n",
       "        text-align: right;\n",
       "    }\n",
       "</style>\n",
       "<table border=\"1\" class=\"dataframe\">\n",
       "  <thead>\n",
       "    <tr style=\"text-align: right;\">\n",
       "      <th></th>\n",
       "      <th>Gender</th>\n",
       "      <th>Age</th>\n",
       "      <th>AccountWeeks</th>\n",
       "      <th>Subscription</th>\n",
       "      <th>Reviews</th>\n",
       "      <th>AvgRides</th>\n",
       "      <th>AvgSpend</th>\n",
       "      <th>LastRating</th>\n",
       "      <th>Churn</th>\n",
       "      <th>Vader_Sentiment</th>\n",
       "    </tr>\n",
       "  </thead>\n",
       "  <tbody>\n",
       "  </tbody>\n",
       "</table>\n",
       "</div>"
      ],
      "text/plain": [
       "Empty DataFrame\n",
       "Columns: [Gender, Age, AccountWeeks, Subscription, Reviews, AvgRides, AvgSpend, LastRating, Churn, Vader_Sentiment]\n",
       "Index: []"
      ]
     },
     "execution_count": 287,
     "metadata": {},
     "output_type": "execute_result"
    }
   ],
   "source": [
    "# check for duplicate rows\n",
    "duplicate_row = data[data.duplicated()]\n",
    "duplicate_row"
   ]
  },
  {
   "cell_type": "markdown",
   "metadata": {},
   "source": [
    "# Data Exploration"
   ]
  },
  {
   "cell_type": "code",
   "execution_count": 176,
   "metadata": {
    "scrolled": true
   },
   "outputs": [
    {
     "data": {
      "text/plain": [
       "0.3826530612244898"
      ]
     },
     "execution_count": 176,
     "metadata": {},
     "output_type": "execute_result"
    }
   ],
   "source": [
    "len(data[data['Churn'] == 'Yes']) / len(data)"
   ]
  },
  {
   "cell_type": "code",
   "execution_count": 177,
   "metadata": {},
   "outputs": [],
   "source": [
    "def count_labels(df, labels):\n",
    "    df_count = []\n",
    "    \n",
    "    for i in labels:\n",
    "        df_count.append(sum(df == i))\n",
    "        \n",
    "    return df_count"
   ]
  },
  {
   "cell_type": "code",
   "execution_count": 178,
   "metadata": {},
   "outputs": [
    {
     "data": {
      "image/png": "[encoded data removed]",
      "text/plain": [
       "<Figure size 576x432 with 1 Axes>"
      ]
     },
     "metadata": {
      "needs_background": "light"
     },
     "output_type": "display_data"
    }
   ],
   "source": [
    "labels_g = ['Male', 'Female']\n",
    "count_label_g = count_labels(data['Gender'], labels_g)\n",
    "\n",
    "x = np.arange(len(labels_g)) # label locations\n",
    "width = 0.35\n",
    "\n",
    "fig = plt.figure(figsize=(8,6))\n",
    "ax = fig.add_subplot(111)\n",
    "rects1 = ax.bar(x, count_label_g, width)\n",
    "# rects2 = ax.bar(x + width / 2, bert_count, width, label='BERT')\n",
    "\n",
    "# adding labels\n",
    "ax.set_ylabel('Count')\n",
    "ax.set_xlabel('Gender', fontsize=14)\n",
    "ax.set_title('Distribution of Gender', fontsize=18)\n",
    "ax.set_xticks(x)\n",
    "ax.set_xticklabels(labels_g, fontsize=12)\n",
    "# ax.legend()\n",
    "\n",
    "def autolabel(rects):\n",
    "    \"\"\"Attach a text label above each bar in *rects*, displaying its height.\"\"\"\n",
    "    for rect in rects:\n",
    "        height = rect.get_height()\n",
    "        ax.annotate('{}'.format(height),\n",
    "                    xy=(rect.get_x() + rect.get_width() / 2, height),\n",
    "                    xytext=(0, 3),  # 3 points vertical offset\n",
    "                    textcoords=\"offset points\",\n",
    "                    ha='center', va='bottom')\n",
    "\n",
    "\n",
    "autolabel(rects1)\n",
    "# autolabel(rects2)\n",
    "\n",
    "plt.bar(x, count_label_g)\n",
    "plt.xticks(x, labels_g)\n",
    "\n",
    "# fig.tight_layout()\n",
    "\n",
    "plt.savefig('gender_dist.png')\n",
    "plt.show()"
   ]
  },
  {
   "cell_type": "code",
   "execution_count": 179,
   "metadata": {},
   "outputs": [
    {
     "data": {
      "image/png": "[encoded data removed]",
      "text/plain": [
       "<Figure size 576x432 with 1 Axes>"
      ]
     },
     "metadata": {
      "needs_background": "light"
     },
     "output_type": "display_data"
    }
   ],
   "source": [
    "labels = ['Yes', 'No']\n",
    "count_label_sub = count_labels(data['Subscription'], labels)\n",
    "\n",
    "x = np.arange(len(labels)) # label locations\n",
    "width = 0.35\n",
    "\n",
    "fig = plt.figure(figsize=(8,6))\n",
    "ax = fig.add_subplot(111)\n",
    "rects1 = ax.bar(x, count_label_sub, width)\n",
    "# rects2 = ax.bar(x + width / 2, bert_count, width, label='BERT')\n",
    "\n",
    "# adding labels\n",
    "ax.set_ylabel('Count')\n",
    "ax.set_xlabel('Subscription', fontsize=14)\n",
    "ax.set_title('Distribution of Customers with Subscription', fontsize=18)\n",
    "ax.set_xticks(x)\n",
    "ax.set_xticklabels(labels, fontsize=12)\n",
    "# ax.legend()\n",
    "\n",
    "def autolabel(rects):\n",
    "    \"\"\"Attach a text label above each bar in *rects*, displaying its height.\"\"\"\n",
    "    for rect in rects:\n",
    "        height = rect.get_height()\n",
    "        ax.annotate('{}'.format(height),\n",
    "                    xy=(rect.get_x() + rect.get_width() / 2, height),\n",
    "                    xytext=(0, 3),  # 3 points vertical offset\n",
    "                    textcoords=\"offset points\",\n",
    "                    ha='center', va='bottom')\n",
    "\n",
    "\n",
    "autolabel(rects1)\n",
    "# autolabel(rects2)\n",
    "\n",
    "plt.bar(x, count_label_sub)\n",
    "plt.xticks(x, labels)\n",
    "\n",
    "# fig.tight_layout()\n",
    "\n",
    "plt.savefig('subscription_dist.png')\n",
    "plt.show()"
   ]
  },
  {
   "cell_type": "code",
   "execution_count": 180,
   "metadata": {},
   "outputs": [
    {
     "data": {
      "image/png": "[encoded data removed]",
      "text/plain": [
       "<Figure size 576x432 with 1 Axes>"
      ]
     },
     "metadata": {
      "needs_background": "light"
     },
     "output_type": "display_data"
    }
   ],
   "source": [
    "# labels = ['Yes', 'No']\n",
    "count_label_sub = count_labels(data['Churn'], labels)\n",
    "\n",
    "x = np.arange(len(labels)) # label locations\n",
    "width = 0.35\n",
    "\n",
    "fig = plt.figure(figsize=(8,6))\n",
    "ax = fig.add_subplot(111)\n",
    "rects1 = ax.bar(x, count_label_sub, width)\n",
    "# rects2 = ax.bar(x + width / 2, bert_count, width, label='BERT')\n",
    "\n",
    "# adding labels\n",
    "ax.set_ylabel('Count')\n",
    "ax.set_xlabel('Churn', fontsize=14)\n",
    "ax.set_title('Distribution of Churn', fontsize=18)\n",
    "ax.set_xticks(x)\n",
    "ax.set_xticklabels(labels, fontsize=12)\n",
    "# ax.legend()\n",
    "\n",
    "def autolabel(rects):\n",
    "    \"\"\"Attach a text label above each bar in *rects*, displaying its height.\"\"\"\n",
    "    for rect in rects:\n",
    "        height = rect.get_height()\n",
    "        ax.annotate('{}'.format(height),\n",
    "                    xy=(rect.get_x() + rect.get_width() / 2, height),\n",
    "                    xytext=(0, 3),  # 3 points vertical offset\n",
    "                    textcoords=\"offset points\",\n",
    "                    ha='center', va='bottom')\n",
    "\n",
    "\n",
    "autolabel(rects1)\n",
    "# autolabel(rects2)\n",
    "\n",
    "plt.bar(x, count_label_sub)\n",
    "plt.xticks(x, labels)\n",
    "\n",
    "# fig.tight_layout()\n",
    "\n",
    "plt.savefig('churn_dist.png')\n",
    "plt.show()"
   ]
  },
  {
   "cell_type": "code",
   "execution_count": 181,
   "metadata": {},
   "outputs": [
    {
     "data": {
      "image/png": "[encoded data removed]",
      "text/plain": [
       "<Figure size 576x432 with 1 Axes>"
      ]
     },
     "metadata": {
      "needs_background": "light"
     },
     "output_type": "display_data"
    }
   ],
   "source": [
    "labels_rating = [1, 2, 3, 4, 5]\n",
    "count_label_rating = count_labels(data['LastRating'], labels_rating)\n",
    "\n",
    "x = np.arange(len(labels_rating)) # label locations\n",
    "width = 0.35\n",
    "\n",
    "fig = plt.figure(figsize=(8,6))\n",
    "ax = fig.add_subplot(111)\n",
    "rects1 = ax.bar(x, count_label_rating, width)\n",
    "# rects2 = ax.bar(x + width / 2, bert_count, width, label='BERT')\n",
    "\n",
    "# adding labels\n",
    "ax.set_ylabel('Count')\n",
    "ax.set_xlabel('Last Rating', fontsize=14)\n",
    "ax.set_title('Distribution of Last Rating', fontsize=18)\n",
    "ax.set_xticks(x)\n",
    "ax.set_xticklabels(labels_rating, fontsize=12)\n",
    "# ax.legend()\n",
    "\n",
    "def autolabel(rects):\n",
    "    \"\"\"Attach a text label above each bar in *rects*, displaying its height.\"\"\"\n",
    "    for rect in rects:\n",
    "        height = rect.get_height()\n",
    "        ax.annotate('{}'.format(height),\n",
    "                    xy=(rect.get_x() + rect.get_width() / 2, height),\n",
    "                    xytext=(0, 3),  # 3 points vertical offset\n",
    "                    textcoords=\"offset points\",\n",
    "                    ha='center', va='bottom')\n",
    "\n",
    "\n",
    "autolabel(rects1)\n",
    "# autolabel(rects2)\n",
    "\n",
    "plt.bar(x, count_label_rating)\n",
    "plt.xticks(x, labels_rating)\n",
    "\n",
    "# fig.tight_layout()\n",
    "\n",
    "plt.savefig('last_rating_dist.png')\n",
    "plt.show()"
   ]
  },
  {
   "cell_type": "code",
   "execution_count": 182,
   "metadata": {
    "scrolled": true
   },
   "outputs": [
    {
     "data": {
      "image/png": "[encoded data removed]",
      "text/plain": [
       "<Figure size 432x288 with 1 Axes>"
      ]
     },
     "metadata": {
      "needs_background": "light"
     },
     "output_type": "display_data"
    }
   ],
   "source": [
    "plt.hist(data['Age'])\n",
    "plt.show()"
   ]
  },
  {
   "cell_type": "code",
   "execution_count": 183,
   "metadata": {
    "scrolled": false
   },
   "outputs": [
    {
     "data": {
      "image/png": "[encoded data removed]",
      "text/plain": [
       "<Figure size 432x288 with 1 Axes>"
      ]
     },
     "metadata": {
      "needs_background": "light"
     },
     "output_type": "display_data"
    }
   ],
   "source": [
    "plt.hist(data['AvgSpend'])\n",
    "plt.show()"
   ]
  },
  {
   "cell_type": "code",
   "execution_count": 184,
   "metadata": {},
   "outputs": [
    {
     "data": {
      "image/png": "[encoded data removed]",
      "text/plain": [
       "<Figure size 432x288 with 1 Axes>"
      ]
     },
     "metadata": {
      "needs_background": "light"
     },
     "output_type": "display_data"
    }
   ],
   "source": [
    "plt.hist(data['AvgRides'])\n",
    "plt.show()"
   ]
  },
  {
   "cell_type": "code",
   "execution_count": 185,
   "metadata": {},
   "outputs": [
    {
     "data": {
      "image/png": "[encoded data removed]",
      "text/plain": [
       "<Figure size 432x288 with 1 Axes>"
      ]
     },
     "metadata": {
      "needs_background": "light"
     },
     "output_type": "display_data"
    }
   ],
   "source": [
    "plt.hist(data['AvgSpend'])\n",
    "plt.show()"
   ]
  },
  {
   "cell_type": "code",
   "execution_count": 186,
   "metadata": {},
   "outputs": [
    {
     "data": {
      "image/png": "[encoded data removed]",
      "text/plain": [
       "<Figure size 432x288 with 1 Axes>"
      ]
     },
     "metadata": {
      "needs_background": "light"
     },
     "output_type": "display_data"
    }
   ],
   "source": [
    "plt.hist(data['AccountWeeks'])\n",
    "plt.show()"
   ]
  },
  {
   "cell_type": "markdown",
   "metadata": {},
   "source": [
    "# Sentiment Analysis with Vader"
   ]
  },
  {
   "cell_type": "code",
   "execution_count": 608,
   "metadata": {},
   "outputs": [],
   "source": [
    "from vaderSentiment.vaderSentiment import SentimentIntensityAnalyzer\n",
    "\n",
    "analyzer = SentimentIntensityAnalyzer()\n",
    "\n",
    "def vader_sentiment(df_column):\n",
    "    sentiment_result = []\n",
    "    \n",
    "    for review in df_column:\n",
    "        vs = analyzer.polarity_scores(review)\n",
    "        \n",
    "        if vs['compound'] >= 0.05:\n",
    "            sentiment_result.append('pos')\n",
    "            \n",
    "        elif vs['compound'] <= -0.05:\n",
    "            sentiment_result.append('neg')\n",
    "            \n",
    "        else:\n",
    "            sentiment_result.append('neu')\n",
    "            \n",
    "    return sentiment_result"
   ]
  },
  {
   "cell_type": "code",
   "execution_count": 609,
   "metadata": {},
   "outputs": [],
   "source": [
    "data['LastReview'] = vader_sentiment(data['Reviews'])"
   ]
  },
  {
   "cell_type": "code",
   "execution_count": 610,
   "metadata": {},
   "outputs": [
    {
     "data": {
      "text/plain": [
       "pos    191\n",
       "neg    144\n",
       "neu     57\n",
       "Name: LastReview, dtype: int64"
      ]
     },
     "execution_count": 610,
     "metadata": {},
     "output_type": "execute_result"
    }
   ],
   "source": [
    "data['LastReview'].value_counts()"
   ]
  },
  {
   "cell_type": "code",
   "execution_count": 611,
   "metadata": {},
   "outputs": [
    {
     "data": {
      "text/html": [
       "<div>\n",
       "<style scoped>\n",
       "    .dataframe tbody tr th:only-of-type {\n",
       "        vertical-align: middle;\n",
       "    }\n",
       "\n",
       "    .dataframe tbody tr th {\n",
       "        vertical-align: top;\n",
       "    }\n",
       "\n",
       "    .dataframe thead th {\n",
       "        text-align: right;\n",
       "    }\n",
       "</style>\n",
       "<table border=\"1\" class=\"dataframe\">\n",
       "  <thead>\n",
       "    <tr style=\"text-align: right;\">\n",
       "      <th></th>\n",
       "      <th>Gender</th>\n",
       "      <th>Age</th>\n",
       "      <th>AccountWeeks</th>\n",
       "      <th>Subscription</th>\n",
       "      <th>Reviews</th>\n",
       "      <th>AvgRides</th>\n",
       "      <th>AvgSpend</th>\n",
       "      <th>LastRating</th>\n",
       "      <th>Churn</th>\n",
       "      <th>LastReview</th>\n",
       "    </tr>\n",
       "  </thead>\n",
       "  <tbody>\n",
       "    <tr>\n",
       "      <td>0</td>\n",
       "      <td>Female</td>\n",
       "      <td>26</td>\n",
       "      <td>157</td>\n",
       "      <td>Yes</td>\n",
       "      <td>My Order ADR-5838292-8-257. I made it 5.30pm. ...</td>\n",
       "      <td>29</td>\n",
       "      <td>156</td>\n",
       "      <td>4</td>\n",
       "      <td>No</td>\n",
       "      <td>neu</td>\n",
       "    </tr>\n",
       "    <tr>\n",
       "      <td>1</td>\n",
       "      <td>Male</td>\n",
       "      <td>22</td>\n",
       "      <td>10</td>\n",
       "      <td>No</td>\n",
       "      <td>I think Grab should make it clear that all del...</td>\n",
       "      <td>15</td>\n",
       "      <td>196</td>\n",
       "      <td>2</td>\n",
       "      <td>No</td>\n",
       "      <td>pos</td>\n",
       "    </tr>\n",
       "    <tr>\n",
       "      <td>2</td>\n",
       "      <td>Female</td>\n",
       "      <td>59</td>\n",
       "      <td>65</td>\n",
       "      <td>No</td>\n",
       "      <td>I've been trying to order grabfood since 4.45p...</td>\n",
       "      <td>8</td>\n",
       "      <td>181</td>\n",
       "      <td>3</td>\n",
       "      <td>Yes</td>\n",
       "      <td>neg</td>\n",
       "    </tr>\n",
       "    <tr>\n",
       "      <td>3</td>\n",
       "      <td>Female</td>\n",
       "      <td>32</td>\n",
       "      <td>82</td>\n",
       "      <td>No</td>\n",
       "      <td>WE SHOULD BOYCOTT GRAB LOUSLY FARES NO INCENTI...</td>\n",
       "      <td>21</td>\n",
       "      <td>103</td>\n",
       "      <td>1</td>\n",
       "      <td>Yes</td>\n",
       "      <td>neg</td>\n",
       "    </tr>\n",
       "    <tr>\n",
       "      <td>4</td>\n",
       "      <td>Male</td>\n",
       "      <td>35</td>\n",
       "      <td>95</td>\n",
       "      <td>No</td>\n",
       "      <td>Hi Sir Anthony Tan  I would like to enquire wi...</td>\n",
       "      <td>19</td>\n",
       "      <td>40</td>\n",
       "      <td>5</td>\n",
       "      <td>Yes</td>\n",
       "      <td>pos</td>\n",
       "    </tr>\n",
       "  </tbody>\n",
       "</table>\n",
       "</div>"
      ],
      "text/plain": [
       "   Gender  Age  AccountWeeks Subscription  \\\n",
       "0  Female   26           157          Yes   \n",
       "1    Male   22            10           No   \n",
       "2  Female   59            65           No   \n",
       "3  Female   32            82           No   \n",
       "4    Male   35            95           No   \n",
       "\n",
       "                                             Reviews  AvgRides  AvgSpend  \\\n",
       "0  My Order ADR-5838292-8-257. I made it 5.30pm. ...        29       156   \n",
       "1  I think Grab should make it clear that all del...        15       196   \n",
       "2  I've been trying to order grabfood since 4.45p...         8       181   \n",
       "3  WE SHOULD BOYCOTT GRAB LOUSLY FARES NO INCENTI...        21       103   \n",
       "4  Hi Sir Anthony Tan  I would like to enquire wi...        19        40   \n",
       "\n",
       "   LastRating Churn LastReview  \n",
       "0           4    No        neu  \n",
       "1           2    No        pos  \n",
       "2           3   Yes        neg  \n",
       "3           1   Yes        neg  \n",
       "4           5   Yes        pos  "
      ]
     },
     "execution_count": 611,
     "metadata": {},
     "output_type": "execute_result"
    }
   ],
   "source": [
    "data.head()"
   ]
  },
  {
   "cell_type": "code",
   "execution_count": 320,
   "metadata": {},
   "outputs": [
    {
     "data": {
      "image/png": "[encoded data removed]",
      "text/plain": [
       "<Figure size 720x576 with 1 Axes>"
      ]
     },
     "metadata": {
      "needs_background": "light"
     },
     "output_type": "display_data"
    }
   ],
   "source": [
    "label_sentiment = ['pos', 'neu', 'neg']\n",
    "count_label = count_labels(data['LastReview'], label_sentiment)\n",
    "\n",
    "x = np.arange(len(label_sentiment)) # label locations\n",
    "width = 0.35\n",
    "\n",
    "fig = plt.figure(figsize=(10,8))\n",
    "ax = fig.add_subplot(111)\n",
    "rects1 = ax.bar(x, count_label, width, color='blue')\n",
    "# rects2 = ax.bar(x + width / 2, bert_count, width, label='BERT')\n",
    "\n",
    "# adding labels\n",
    "ax.set_ylabel('Count')\n",
    "ax.set_xlabel('Sentiment', fontsize=14)\n",
    "ax.set_title('Distribution of Review Sentiment', fontsize=18)\n",
    "ax.set_xticks(x)\n",
    "ax.set_xticklabels(label_sentiment, fontsize=12)\n",
    "# ax.legend()\n",
    "\n",
    "def autolabel(rects):\n",
    "    \"\"\"Attach a text label above each bar in *rects*, displaying its height.\"\"\"\n",
    "    for rect in rects:\n",
    "        height = rect.get_height()\n",
    "        ax.annotate('{}'.format(height),\n",
    "                    xy=(rect.get_x() + rect.get_width() / 2, height),\n",
    "                    xytext=(0, 3),  # 3 points vertical offset\n",
    "                    textcoords=\"offset points\",\n",
    "                    ha='center', va='bottom')\n",
    "\n",
    "\n",
    "autolabel(rects1)\n",
    "# autolabel(rects2)\n",
    "\n",
    "plt.bar(x, count_label)\n",
    "plt.xticks(x, label_sentiment)\n",
    "\n",
    "# fig.tight_layout()\n",
    "\n",
    "plt.savefig('review_sentiment_dist.png')\n",
    "plt.show()"
   ]
  },
  {
   "cell_type": "code",
   "execution_count": 288,
   "metadata": {},
   "outputs": [
    {
     "name": "stdout",
     "output_type": "stream",
     "text": [
      "\n",
      "Number of null values in Gender: 0\n",
      "Number of null values in Age: 0\n",
      "Number of null values in AccountWeeks: 0\n",
      "Number of null values in Subscription: 0\n",
      "Number of null values in Reviews: 0      \n",
      "Number of null values in AvgRides: 0\n",
      "Number of null values in AvgSpend: 0\n",
      "Number of null values in LastRating: 0\n",
      "Number of null values in Churn: 0\n",
      "\n"
     ]
    }
   ],
   "source": [
    "print(f'''\n",
    "Number of null values in Gender: {sum(data['Gender'].isnull())}\n",
    "Number of null values in Age: {sum(data['Age'].isnull())}\n",
    "Number of null values in AccountWeeks: {sum(data['AccountWeeks'].isnull())}\n",
    "Number of null values in Subscription: {sum(data['Subscription'].isnull())}\n",
    "Number of null values in Reviews: {sum(data['Reviews'].isnull())}      \n",
    "Number of null values in AvgRides: {sum(data['AvgRides'].isnull())}\n",
    "Number of null values in AvgSpend: {sum(data['AvgSpend'].isnull())}\n",
    "Number of null values in LastRating: {sum(data['LastRating'].isnull())}\n",
    "Number of null values in Churn: {sum(data['Churn'].isnull())}\n",
    "''')"
   ]
  },
  {
   "cell_type": "markdown",
   "metadata": {},
   "source": [
    "# Predicting Customer Churn"
   ]
  },
  {
   "cell_type": "code",
   "execution_count": 193,
   "metadata": {},
   "outputs": [],
   "source": [
    "import tensorflow as tf\n",
    "from keras.models import Model, Sequential, load_model\n",
    "from keras.layers import Input, Dense, Dropout, Bidirectional\n",
    "from keras.constraints import maxnorm\n",
    "\n",
    "from sklearn.preprocessing import StandardScaler, MinMaxScaler\n",
    "from sklearn.preprocessing import LabelEncoder, OneHotEncoder\n",
    "from sklearn.model_selection import train_test_split\n",
    "from sklearn.compose import ColumnTransformer\n",
    "from sklearn.pipeline import Pipeline\n",
    "from sklearn.neural_network import MLPClassifier\n",
    "from sklearn.naive_bayes import MultinomialNB\n",
    "from sklearn.linear_model import LogisticRegression\n",
    "from sklearn.metrics import f1_score, classification_report, accuracy_score"
   ]
  },
  {
   "cell_type": "code",
   "execution_count": 321,
   "metadata": {
    "scrolled": true
   },
   "outputs": [
    {
     "data": {
      "text/plain": [
       "Gender          object\n",
       "Age              int64\n",
       "AccountWeeks     int64\n",
       "Subscription    object\n",
       "Reviews         object\n",
       "AvgRides         int64\n",
       "AvgSpend         int64\n",
       "LastRating       int64\n",
       "Churn           object\n",
       "LastReview      object\n",
       "dtype: object"
      ]
     },
     "execution_count": 321,
     "metadata": {},
     "output_type": "execute_result"
    }
   ],
   "source": [
    "data.dtypes"
   ]
  },
  {
   "cell_type": "code",
   "execution_count": 660,
   "metadata": {},
   "outputs": [],
   "source": [
    "data['LastRating'] = data['LastRating'].astype('str')"
   ]
  },
  {
   "cell_type": "code",
   "execution_count": 695,
   "metadata": {},
   "outputs": [],
   "source": [
    "X = data.drop(['Reviews', 'Churn'], axis=1)\n",
    "Y = data['Churn']"
   ]
  },
  {
   "cell_type": "code",
   "execution_count": 696,
   "metadata": {},
   "outputs": [],
   "source": [
    "numerical_ix = X.select_dtypes(include=['int64']).columns\n",
    "categorical_ix = X.select_dtypes(include=['object']).columns"
   ]
  },
  {
   "cell_type": "code",
   "execution_count": 697,
   "metadata": {
    "scrolled": true
   },
   "outputs": [
    {
     "data": {
      "text/plain": [
       "Index(['Age', 'AccountWeeks', 'AvgRides', 'AvgSpend'], dtype='object')"
      ]
     },
     "execution_count": 697,
     "metadata": {},
     "output_type": "execute_result"
    }
   ],
   "source": [
    "numerical_ix"
   ]
  },
  {
   "cell_type": "code",
   "execution_count": 698,
   "metadata": {},
   "outputs": [],
   "source": [
    "X_num = X.select_dtypes(include=['int64'])\n",
    "X_cat = X.select_dtypes(include=['object'])"
   ]
  },
  {
   "cell_type": "code",
   "execution_count": 699,
   "metadata": {},
   "outputs": [
    {
     "data": {
      "text/html": [
       "<div>\n",
       "<style scoped>\n",
       "    .dataframe tbody tr th:only-of-type {\n",
       "        vertical-align: middle;\n",
       "    }\n",
       "\n",
       "    .dataframe tbody tr th {\n",
       "        vertical-align: top;\n",
       "    }\n",
       "\n",
       "    .dataframe thead th {\n",
       "        text-align: right;\n",
       "    }\n",
       "</style>\n",
       "<table border=\"1\" class=\"dataframe\">\n",
       "  <thead>\n",
       "    <tr style=\"text-align: right;\">\n",
       "      <th></th>\n",
       "      <th>Gender_Male</th>\n",
       "      <th>Subscription_Yes</th>\n",
       "      <th>LastRating_1</th>\n",
       "      <th>LastRating_2</th>\n",
       "      <th>LastRating_3</th>\n",
       "      <th>LastRating_4</th>\n",
       "      <th>LastReview_neg</th>\n",
       "      <th>LastReview_neu</th>\n",
       "    </tr>\n",
       "  </thead>\n",
       "  <tbody>\n",
       "    <tr>\n",
       "      <td>0</td>\n",
       "      <td>0</td>\n",
       "      <td>1</td>\n",
       "      <td>0</td>\n",
       "      <td>0</td>\n",
       "      <td>0</td>\n",
       "      <td>1</td>\n",
       "      <td>0</td>\n",
       "      <td>1</td>\n",
       "    </tr>\n",
       "    <tr>\n",
       "      <td>1</td>\n",
       "      <td>1</td>\n",
       "      <td>0</td>\n",
       "      <td>0</td>\n",
       "      <td>1</td>\n",
       "      <td>0</td>\n",
       "      <td>0</td>\n",
       "      <td>0</td>\n",
       "      <td>0</td>\n",
       "    </tr>\n",
       "    <tr>\n",
       "      <td>2</td>\n",
       "      <td>0</td>\n",
       "      <td>0</td>\n",
       "      <td>0</td>\n",
       "      <td>0</td>\n",
       "      <td>1</td>\n",
       "      <td>0</td>\n",
       "      <td>1</td>\n",
       "      <td>0</td>\n",
       "    </tr>\n",
       "    <tr>\n",
       "      <td>3</td>\n",
       "      <td>0</td>\n",
       "      <td>0</td>\n",
       "      <td>1</td>\n",
       "      <td>0</td>\n",
       "      <td>0</td>\n",
       "      <td>0</td>\n",
       "      <td>1</td>\n",
       "      <td>0</td>\n",
       "    </tr>\n",
       "    <tr>\n",
       "      <td>4</td>\n",
       "      <td>1</td>\n",
       "      <td>0</td>\n",
       "      <td>0</td>\n",
       "      <td>0</td>\n",
       "      <td>0</td>\n",
       "      <td>0</td>\n",
       "      <td>0</td>\n",
       "      <td>0</td>\n",
       "    </tr>\n",
       "    <tr>\n",
       "      <td>...</td>\n",
       "      <td>...</td>\n",
       "      <td>...</td>\n",
       "      <td>...</td>\n",
       "      <td>...</td>\n",
       "      <td>...</td>\n",
       "      <td>...</td>\n",
       "      <td>...</td>\n",
       "      <td>...</td>\n",
       "    </tr>\n",
       "    <tr>\n",
       "      <td>387</td>\n",
       "      <td>0</td>\n",
       "      <td>0</td>\n",
       "      <td>0</td>\n",
       "      <td>1</td>\n",
       "      <td>0</td>\n",
       "      <td>0</td>\n",
       "      <td>0</td>\n",
       "      <td>0</td>\n",
       "    </tr>\n",
       "    <tr>\n",
       "      <td>388</td>\n",
       "      <td>1</td>\n",
       "      <td>0</td>\n",
       "      <td>0</td>\n",
       "      <td>0</td>\n",
       "      <td>0</td>\n",
       "      <td>0</td>\n",
       "      <td>1</td>\n",
       "      <td>0</td>\n",
       "    </tr>\n",
       "    <tr>\n",
       "      <td>389</td>\n",
       "      <td>0</td>\n",
       "      <td>0</td>\n",
       "      <td>0</td>\n",
       "      <td>0</td>\n",
       "      <td>0</td>\n",
       "      <td>0</td>\n",
       "      <td>1</td>\n",
       "      <td>0</td>\n",
       "    </tr>\n",
       "    <tr>\n",
       "      <td>390</td>\n",
       "      <td>0</td>\n",
       "      <td>0</td>\n",
       "      <td>0</td>\n",
       "      <td>0</td>\n",
       "      <td>1</td>\n",
       "      <td>0</td>\n",
       "      <td>0</td>\n",
       "      <td>0</td>\n",
       "    </tr>\n",
       "    <tr>\n",
       "      <td>391</td>\n",
       "      <td>1</td>\n",
       "      <td>0</td>\n",
       "      <td>0</td>\n",
       "      <td>0</td>\n",
       "      <td>1</td>\n",
       "      <td>0</td>\n",
       "      <td>1</td>\n",
       "      <td>0</td>\n",
       "    </tr>\n",
       "  </tbody>\n",
       "</table>\n",
       "<p>392 rows × 8 columns</p>\n",
       "</div>"
      ],
      "text/plain": [
       "     Gender_Male  Subscription_Yes  LastRating_1  LastRating_2  LastRating_3  \\\n",
       "0              0                 1             0             0             0   \n",
       "1              1                 0             0             1             0   \n",
       "2              0                 0             0             0             1   \n",
       "3              0                 0             1             0             0   \n",
       "4              1                 0             0             0             0   \n",
       "..           ...               ...           ...           ...           ...   \n",
       "387            0                 0             0             1             0   \n",
       "388            1                 0             0             0             0   \n",
       "389            0                 0             0             0             0   \n",
       "390            0                 0             0             0             1   \n",
       "391            1                 0             0             0             1   \n",
       "\n",
       "     LastRating_4  LastReview_neg  LastReview_neu  \n",
       "0               1               0               1  \n",
       "1               0               0               0  \n",
       "2               0               1               0  \n",
       "3               0               1               0  \n",
       "4               0               0               0  \n",
       "..            ...             ...             ...  \n",
       "387             0               0               0  \n",
       "388             0               1               0  \n",
       "389             0               1               0  \n",
       "390             0               0               0  \n",
       "391             0               1               0  \n",
       "\n",
       "[392 rows x 8 columns]"
      ]
     },
     "execution_count": 699,
     "metadata": {},
     "output_type": "execute_result"
    }
   ],
   "source": [
    "X_cat = pd.get_dummies(X_cat)\n",
    "X_cat.drop(['Gender_Female', 'Subscription_No', 'LastRating_5',\n",
    "           'LastReview_pos'], axis=1, inplace=True)\n",
    "X_cat"
   ]
  },
  {
   "cell_type": "code",
   "execution_count": 343,
   "metadata": {},
   "outputs": [
    {
     "data": {
      "text/plain": [
       "array([[0.27142857, 0.69955157, 0.84848485, 0.77835052],\n",
       "       [0.21428571, 0.04035874, 0.42424242, 0.98453608],\n",
       "       [0.74285714, 0.28699552, 0.21212121, 0.90721649],\n",
       "       ...,\n",
       "       [0.42857143, 0.35874439, 0.60606061, 0.74226804],\n",
       "       [0.58571429, 0.51121076, 0.27272727, 0.06185567],\n",
       "       [0.64285714, 0.39013453, 0.24242424, 0.12371134]])"
      ]
     },
     "execution_count": 343,
     "metadata": {},
     "output_type": "execute_result"
    }
   ],
   "source": [
    "x_num_mm"
   ]
  },
  {
   "cell_type": "code",
   "execution_count": 700,
   "metadata": {},
   "outputs": [],
   "source": [
    "minmax = MinMaxScaler()\n",
    "x_num_mm = minmax.fit_transform(X_num)"
   ]
  },
  {
   "cell_type": "code",
   "execution_count": 701,
   "metadata": {},
   "outputs": [
    {
     "data": {
      "text/html": [
       "<div>\n",
       "<style scoped>\n",
       "    .dataframe tbody tr th:only-of-type {\n",
       "        vertical-align: middle;\n",
       "    }\n",
       "\n",
       "    .dataframe tbody tr th {\n",
       "        vertical-align: top;\n",
       "    }\n",
       "\n",
       "    .dataframe thead th {\n",
       "        text-align: right;\n",
       "    }\n",
       "</style>\n",
       "<table border=\"1\" class=\"dataframe\">\n",
       "  <thead>\n",
       "    <tr style=\"text-align: right;\">\n",
       "      <th></th>\n",
       "      <th>Age</th>\n",
       "      <th>AccountWeeks</th>\n",
       "      <th>AvgRides</th>\n",
       "      <th>AvgSpend</th>\n",
       "    </tr>\n",
       "  </thead>\n",
       "  <tbody>\n",
       "    <tr>\n",
       "      <td>0</td>\n",
       "      <td>0.271429</td>\n",
       "      <td>0.699552</td>\n",
       "      <td>0.848485</td>\n",
       "      <td>0.778351</td>\n",
       "    </tr>\n",
       "    <tr>\n",
       "      <td>1</td>\n",
       "      <td>0.214286</td>\n",
       "      <td>0.040359</td>\n",
       "      <td>0.424242</td>\n",
       "      <td>0.984536</td>\n",
       "    </tr>\n",
       "    <tr>\n",
       "      <td>2</td>\n",
       "      <td>0.742857</td>\n",
       "      <td>0.286996</td>\n",
       "      <td>0.212121</td>\n",
       "      <td>0.907216</td>\n",
       "    </tr>\n",
       "    <tr>\n",
       "      <td>3</td>\n",
       "      <td>0.357143</td>\n",
       "      <td>0.363229</td>\n",
       "      <td>0.606061</td>\n",
       "      <td>0.505155</td>\n",
       "    </tr>\n",
       "    <tr>\n",
       "      <td>4</td>\n",
       "      <td>0.400000</td>\n",
       "      <td>0.421525</td>\n",
       "      <td>0.545455</td>\n",
       "      <td>0.180412</td>\n",
       "    </tr>\n",
       "    <tr>\n",
       "      <td>...</td>\n",
       "      <td>...</td>\n",
       "      <td>...</td>\n",
       "      <td>...</td>\n",
       "      <td>...</td>\n",
       "    </tr>\n",
       "    <tr>\n",
       "      <td>387</td>\n",
       "      <td>0.928571</td>\n",
       "      <td>0.511211</td>\n",
       "      <td>0.848485</td>\n",
       "      <td>0.221649</td>\n",
       "    </tr>\n",
       "    <tr>\n",
       "      <td>388</td>\n",
       "      <td>0.271429</td>\n",
       "      <td>0.430493</td>\n",
       "      <td>0.727273</td>\n",
       "      <td>0.123711</td>\n",
       "    </tr>\n",
       "    <tr>\n",
       "      <td>389</td>\n",
       "      <td>0.428571</td>\n",
       "      <td>0.358744</td>\n",
       "      <td>0.606061</td>\n",
       "      <td>0.742268</td>\n",
       "    </tr>\n",
       "    <tr>\n",
       "      <td>390</td>\n",
       "      <td>0.585714</td>\n",
       "      <td>0.511211</td>\n",
       "      <td>0.272727</td>\n",
       "      <td>0.061856</td>\n",
       "    </tr>\n",
       "    <tr>\n",
       "      <td>391</td>\n",
       "      <td>0.642857</td>\n",
       "      <td>0.390135</td>\n",
       "      <td>0.242424</td>\n",
       "      <td>0.123711</td>\n",
       "    </tr>\n",
       "  </tbody>\n",
       "</table>\n",
       "<p>392 rows × 4 columns</p>\n",
       "</div>"
      ],
      "text/plain": [
       "          Age  AccountWeeks  AvgRides  AvgSpend\n",
       "0    0.271429      0.699552  0.848485  0.778351\n",
       "1    0.214286      0.040359  0.424242  0.984536\n",
       "2    0.742857      0.286996  0.212121  0.907216\n",
       "3    0.357143      0.363229  0.606061  0.505155\n",
       "4    0.400000      0.421525  0.545455  0.180412\n",
       "..        ...           ...       ...       ...\n",
       "387  0.928571      0.511211  0.848485  0.221649\n",
       "388  0.271429      0.430493  0.727273  0.123711\n",
       "389  0.428571      0.358744  0.606061  0.742268\n",
       "390  0.585714      0.511211  0.272727  0.061856\n",
       "391  0.642857      0.390135  0.242424  0.123711\n",
       "\n",
       "[392 rows x 4 columns]"
      ]
     },
     "execution_count": 701,
     "metadata": {},
     "output_type": "execute_result"
    }
   ],
   "source": [
    "X_num = pd.DataFrame(x_num_mm)\n",
    "X_num.rename(columns={0: 'Age', 1: 'AccountWeeks', \n",
    "                      2: 'AvgRides', 3: 'AvgSpend'}, inplace=True)\n",
    "X_num"
   ]
  },
  {
   "cell_type": "code",
   "execution_count": 702,
   "metadata": {},
   "outputs": [],
   "source": [
    "X_num['idx'] = range(0, len(X_num))\n",
    "X_cat['idx'] = range(0, len(X_num))\n",
    "X = X_num.join(X_cat.set_index('idx'), how='left', on='idx')"
   ]
  },
  {
   "cell_type": "code",
   "execution_count": 703,
   "metadata": {},
   "outputs": [],
   "source": [
    "X.drop('idx', axis=1, inplace=True)"
   ]
  },
  {
   "cell_type": "code",
   "execution_count": 704,
   "metadata": {},
   "outputs": [
    {
     "data": {
      "text/plain": [
       "array([[0],\n",
       "       [0],\n",
       "       [1],\n",
       "       [1],\n",
       "       [1],\n",
       "       [0],\n",
       "       [1],\n",
       "       [0],\n",
       "       [1],\n",
       "       [0],\n",
       "       [0],\n",
       "       [1],\n",
       "       [1],\n",
       "       [0],\n",
       "       [0],\n",
       "       [1],\n",
       "       [0],\n",
       "       [0],\n",
       "       [1],\n",
       "       [0],\n",
       "       [0],\n",
       "       [0],\n",
       "       [0],\n",
       "       [1],\n",
       "       [0],\n",
       "       [0],\n",
       "       [0],\n",
       "       [1],\n",
       "       [0],\n",
       "       [0],\n",
       "       [1],\n",
       "       [1],\n",
       "       [0],\n",
       "       [0],\n",
       "       [1],\n",
       "       [0],\n",
       "       [0],\n",
       "       [0],\n",
       "       [0],\n",
       "       [0],\n",
       "       [0],\n",
       "       [0],\n",
       "       [0],\n",
       "       [0],\n",
       "       [0],\n",
       "       [0],\n",
       "       [1],\n",
       "       [0],\n",
       "       [0],\n",
       "       [0],\n",
       "       [1],\n",
       "       [0],\n",
       "       [1],\n",
       "       [0],\n",
       "       [1],\n",
       "       [1],\n",
       "       [1],\n",
       "       [0],\n",
       "       [0],\n",
       "       [0],\n",
       "       [0],\n",
       "       [1],\n",
       "       [1],\n",
       "       [1],\n",
       "       [0],\n",
       "       [1],\n",
       "       [0],\n",
       "       [1],\n",
       "       [0],\n",
       "       [0],\n",
       "       [0],\n",
       "       [1],\n",
       "       [1],\n",
       "       [0],\n",
       "       [0],\n",
       "       [0],\n",
       "       [0],\n",
       "       [0],\n",
       "       [0],\n",
       "       [1],\n",
       "       [1],\n",
       "       [1],\n",
       "       [1],\n",
       "       [1],\n",
       "       [1],\n",
       "       [0],\n",
       "       [0],\n",
       "       [0],\n",
       "       [1],\n",
       "       [0],\n",
       "       [0],\n",
       "       [0],\n",
       "       [0],\n",
       "       [0],\n",
       "       [1],\n",
       "       [1],\n",
       "       [0],\n",
       "       [0],\n",
       "       [1],\n",
       "       [0],\n",
       "       [0],\n",
       "       [0],\n",
       "       [0],\n",
       "       [1],\n",
       "       [0],\n",
       "       [0],\n",
       "       [1],\n",
       "       [0],\n",
       "       [1],\n",
       "       [0],\n",
       "       [1],\n",
       "       [0],\n",
       "       [0],\n",
       "       [1],\n",
       "       [0],\n",
       "       [0],\n",
       "       [0],\n",
       "       [1],\n",
       "       [0],\n",
       "       [1],\n",
       "       [1],\n",
       "       [0],\n",
       "       [1],\n",
       "       [0],\n",
       "       [1],\n",
       "       [0],\n",
       "       [0],\n",
       "       [1],\n",
       "       [0],\n",
       "       [0],\n",
       "       [0],\n",
       "       [1],\n",
       "       [1],\n",
       "       [0],\n",
       "       [0],\n",
       "       [0],\n",
       "       [0],\n",
       "       [1],\n",
       "       [0],\n",
       "       [1],\n",
       "       [1],\n",
       "       [0],\n",
       "       [1],\n",
       "       [0],\n",
       "       [0],\n",
       "       [0],\n",
       "       [0],\n",
       "       [0],\n",
       "       [0],\n",
       "       [0],\n",
       "       [0],\n",
       "       [0],\n",
       "       [0],\n",
       "       [0],\n",
       "       [1],\n",
       "       [0],\n",
       "       [0],\n",
       "       [0],\n",
       "       [0],\n",
       "       [0],\n",
       "       [0],\n",
       "       [1],\n",
       "       [1],\n",
       "       [0],\n",
       "       [0],\n",
       "       [1],\n",
       "       [0],\n",
       "       [0],\n",
       "       [0],\n",
       "       [0],\n",
       "       [1],\n",
       "       [0],\n",
       "       [0],\n",
       "       [1],\n",
       "       [0],\n",
       "       [1],\n",
       "       [0],\n",
       "       [1],\n",
       "       [1],\n",
       "       [0],\n",
       "       [0],\n",
       "       [1],\n",
       "       [0],\n",
       "       [1],\n",
       "       [1],\n",
       "       [0],\n",
       "       [1],\n",
       "       [1],\n",
       "       [1],\n",
       "       [1],\n",
       "       [0],\n",
       "       [1],\n",
       "       [0],\n",
       "       [1],\n",
       "       [0],\n",
       "       [0],\n",
       "       [0],\n",
       "       [0],\n",
       "       [1],\n",
       "       [0],\n",
       "       [1],\n",
       "       [1],\n",
       "       [0],\n",
       "       [1],\n",
       "       [1],\n",
       "       [1],\n",
       "       [0],\n",
       "       [1],\n",
       "       [0],\n",
       "       [0],\n",
       "       [1],\n",
       "       [0],\n",
       "       [0],\n",
       "       [1],\n",
       "       [0],\n",
       "       [0],\n",
       "       [1],\n",
       "       [1],\n",
       "       [0],\n",
       "       [0],\n",
       "       [1],\n",
       "       [0],\n",
       "       [1],\n",
       "       [0],\n",
       "       [0],\n",
       "       [0],\n",
       "       [0],\n",
       "       [1],\n",
       "       [1],\n",
       "       [1],\n",
       "       [0],\n",
       "       [0],\n",
       "       [1],\n",
       "       [0],\n",
       "       [1],\n",
       "       [1],\n",
       "       [1],\n",
       "       [0],\n",
       "       [0],\n",
       "       [1],\n",
       "       [0],\n",
       "       [1],\n",
       "       [0],\n",
       "       [1],\n",
       "       [0],\n",
       "       [0],\n",
       "       [1],\n",
       "       [1],\n",
       "       [1],\n",
       "       [1],\n",
       "       [1],\n",
       "       [0],\n",
       "       [0],\n",
       "       [1],\n",
       "       [0],\n",
       "       [0],\n",
       "       [0],\n",
       "       [0],\n",
       "       [1],\n",
       "       [1],\n",
       "       [0],\n",
       "       [1],\n",
       "       [0],\n",
       "       [0],\n",
       "       [0],\n",
       "       [0],\n",
       "       [0],\n",
       "       [1],\n",
       "       [0],\n",
       "       [1],\n",
       "       [0],\n",
       "       [0],\n",
       "       [0],\n",
       "       [0],\n",
       "       [1],\n",
       "       [0],\n",
       "       [0],\n",
       "       [0],\n",
       "       [0],\n",
       "       [0],\n",
       "       [0],\n",
       "       [0],\n",
       "       [0],\n",
       "       [1],\n",
       "       [1],\n",
       "       [1],\n",
       "       [1],\n",
       "       [0],\n",
       "       [0],\n",
       "       [0],\n",
       "       [0],\n",
       "       [0],\n",
       "       [0],\n",
       "       [1],\n",
       "       [1],\n",
       "       [0],\n",
       "       [1],\n",
       "       [0],\n",
       "       [1],\n",
       "       [1],\n",
       "       [1],\n",
       "       [1],\n",
       "       [0],\n",
       "       [1],\n",
       "       [0],\n",
       "       [0],\n",
       "       [0],\n",
       "       [0],\n",
       "       [0],\n",
       "       [0],\n",
       "       [1],\n",
       "       [0],\n",
       "       [0],\n",
       "       [0],\n",
       "       [1],\n",
       "       [0],\n",
       "       [1],\n",
       "       [0],\n",
       "       [0],\n",
       "       [1],\n",
       "       [0],\n",
       "       [0],\n",
       "       [0],\n",
       "       [1],\n",
       "       [0],\n",
       "       [0],\n",
       "       [0],\n",
       "       [1],\n",
       "       [0],\n",
       "       [1],\n",
       "       [0],\n",
       "       [1],\n",
       "       [0],\n",
       "       [0],\n",
       "       [0],\n",
       "       [0],\n",
       "       [0],\n",
       "       [1],\n",
       "       [0],\n",
       "       [0],\n",
       "       [1],\n",
       "       [0],\n",
       "       [1],\n",
       "       [0],\n",
       "       [1],\n",
       "       [0],\n",
       "       [1],\n",
       "       [1],\n",
       "       [0],\n",
       "       [0],\n",
       "       [0],\n",
       "       [0],\n",
       "       [1],\n",
       "       [1],\n",
       "       [0],\n",
       "       [1],\n",
       "       [1],\n",
       "       [0],\n",
       "       [0],\n",
       "       [0],\n",
       "       [1],\n",
       "       [0],\n",
       "       [0],\n",
       "       [0],\n",
       "       [0],\n",
       "       [1],\n",
       "       [0],\n",
       "       [1],\n",
       "       [0],\n",
       "       [0],\n",
       "       [0],\n",
       "       [0],\n",
       "       [0],\n",
       "       [1],\n",
       "       [1],\n",
       "       [0],\n",
       "       [0],\n",
       "       [1],\n",
       "       [0],\n",
       "       [1],\n",
       "       [0],\n",
       "       [0],\n",
       "       [0],\n",
       "       [0],\n",
       "       [1],\n",
       "       [1],\n",
       "       [0],\n",
       "       [1],\n",
       "       [1],\n",
       "       [1],\n",
       "       [1],\n",
       "       [0]])"
      ]
     },
     "execution_count": 704,
     "metadata": {},
     "output_type": "execute_result"
    }
   ],
   "source": [
    "labelencoder_y = LabelEncoder()\n",
    "Y = labelencoder_y.fit_transform(Y)\n",
    "Y.reshape(-1, 1)"
   ]
  },
  {
   "cell_type": "code",
   "execution_count": 478,
   "metadata": {},
   "outputs": [],
   "source": [
    "from keras.utils import to_categorical\n",
    "\n",
    "Y_onehot = to_categorical(Y)"
   ]
  },
  {
   "cell_type": "markdown",
   "metadata": {},
   "source": [
    "### w/o sentiment"
   ]
  },
  {
   "cell_type": "code",
   "execution_count": 705,
   "metadata": {},
   "outputs": [
    {
     "data": {
      "text/html": [
       "<div>\n",
       "<style scoped>\n",
       "    .dataframe tbody tr th:only-of-type {\n",
       "        vertical-align: middle;\n",
       "    }\n",
       "\n",
       "    .dataframe tbody tr th {\n",
       "        vertical-align: top;\n",
       "    }\n",
       "\n",
       "    .dataframe thead th {\n",
       "        text-align: right;\n",
       "    }\n",
       "</style>\n",
       "<table border=\"1\" class=\"dataframe\">\n",
       "  <thead>\n",
       "    <tr style=\"text-align: right;\">\n",
       "      <th></th>\n",
       "      <th>Age</th>\n",
       "      <th>AccountWeeks</th>\n",
       "      <th>AvgRides</th>\n",
       "      <th>AvgSpend</th>\n",
       "      <th>Gender_Male</th>\n",
       "      <th>Subscription_Yes</th>\n",
       "      <th>LastRating_1</th>\n",
       "      <th>LastRating_2</th>\n",
       "      <th>LastRating_3</th>\n",
       "      <th>LastRating_4</th>\n",
       "    </tr>\n",
       "  </thead>\n",
       "  <tbody>\n",
       "    <tr>\n",
       "      <td>0</td>\n",
       "      <td>0.271429</td>\n",
       "      <td>0.699552</td>\n",
       "      <td>0.848485</td>\n",
       "      <td>0.778351</td>\n",
       "      <td>0</td>\n",
       "      <td>1</td>\n",
       "      <td>0</td>\n",
       "      <td>0</td>\n",
       "      <td>0</td>\n",
       "      <td>1</td>\n",
       "    </tr>\n",
       "    <tr>\n",
       "      <td>1</td>\n",
       "      <td>0.214286</td>\n",
       "      <td>0.040359</td>\n",
       "      <td>0.424242</td>\n",
       "      <td>0.984536</td>\n",
       "      <td>1</td>\n",
       "      <td>0</td>\n",
       "      <td>0</td>\n",
       "      <td>1</td>\n",
       "      <td>0</td>\n",
       "      <td>0</td>\n",
       "    </tr>\n",
       "    <tr>\n",
       "      <td>2</td>\n",
       "      <td>0.742857</td>\n",
       "      <td>0.286996</td>\n",
       "      <td>0.212121</td>\n",
       "      <td>0.907216</td>\n",
       "      <td>0</td>\n",
       "      <td>0</td>\n",
       "      <td>0</td>\n",
       "      <td>0</td>\n",
       "      <td>1</td>\n",
       "      <td>0</td>\n",
       "    </tr>\n",
       "    <tr>\n",
       "      <td>3</td>\n",
       "      <td>0.357143</td>\n",
       "      <td>0.363229</td>\n",
       "      <td>0.606061</td>\n",
       "      <td>0.505155</td>\n",
       "      <td>0</td>\n",
       "      <td>0</td>\n",
       "      <td>1</td>\n",
       "      <td>0</td>\n",
       "      <td>0</td>\n",
       "      <td>0</td>\n",
       "    </tr>\n",
       "    <tr>\n",
       "      <td>4</td>\n",
       "      <td>0.400000</td>\n",
       "      <td>0.421525</td>\n",
       "      <td>0.545455</td>\n",
       "      <td>0.180412</td>\n",
       "      <td>1</td>\n",
       "      <td>0</td>\n",
       "      <td>0</td>\n",
       "      <td>0</td>\n",
       "      <td>0</td>\n",
       "      <td>0</td>\n",
       "    </tr>\n",
       "    <tr>\n",
       "      <td>...</td>\n",
       "      <td>...</td>\n",
       "      <td>...</td>\n",
       "      <td>...</td>\n",
       "      <td>...</td>\n",
       "      <td>...</td>\n",
       "      <td>...</td>\n",
       "      <td>...</td>\n",
       "      <td>...</td>\n",
       "      <td>...</td>\n",
       "      <td>...</td>\n",
       "    </tr>\n",
       "    <tr>\n",
       "      <td>387</td>\n",
       "      <td>0.928571</td>\n",
       "      <td>0.511211</td>\n",
       "      <td>0.848485</td>\n",
       "      <td>0.221649</td>\n",
       "      <td>0</td>\n",
       "      <td>0</td>\n",
       "      <td>0</td>\n",
       "      <td>1</td>\n",
       "      <td>0</td>\n",
       "      <td>0</td>\n",
       "    </tr>\n",
       "    <tr>\n",
       "      <td>388</td>\n",
       "      <td>0.271429</td>\n",
       "      <td>0.430493</td>\n",
       "      <td>0.727273</td>\n",
       "      <td>0.123711</td>\n",
       "      <td>1</td>\n",
       "      <td>0</td>\n",
       "      <td>0</td>\n",
       "      <td>0</td>\n",
       "      <td>0</td>\n",
       "      <td>0</td>\n",
       "    </tr>\n",
       "    <tr>\n",
       "      <td>389</td>\n",
       "      <td>0.428571</td>\n",
       "      <td>0.358744</td>\n",
       "      <td>0.606061</td>\n",
       "      <td>0.742268</td>\n",
       "      <td>0</td>\n",
       "      <td>0</td>\n",
       "      <td>0</td>\n",
       "      <td>0</td>\n",
       "      <td>0</td>\n",
       "      <td>0</td>\n",
       "    </tr>\n",
       "    <tr>\n",
       "      <td>390</td>\n",
       "      <td>0.585714</td>\n",
       "      <td>0.511211</td>\n",
       "      <td>0.272727</td>\n",
       "      <td>0.061856</td>\n",
       "      <td>0</td>\n",
       "      <td>0</td>\n",
       "      <td>0</td>\n",
       "      <td>0</td>\n",
       "      <td>1</td>\n",
       "      <td>0</td>\n",
       "    </tr>\n",
       "    <tr>\n",
       "      <td>391</td>\n",
       "      <td>0.642857</td>\n",
       "      <td>0.390135</td>\n",
       "      <td>0.242424</td>\n",
       "      <td>0.123711</td>\n",
       "      <td>1</td>\n",
       "      <td>0</td>\n",
       "      <td>0</td>\n",
       "      <td>0</td>\n",
       "      <td>1</td>\n",
       "      <td>0</td>\n",
       "    </tr>\n",
       "  </tbody>\n",
       "</table>\n",
       "<p>392 rows × 10 columns</p>\n",
       "</div>"
      ],
      "text/plain": [
       "          Age  AccountWeeks  AvgRides  AvgSpend  Gender_Male  \\\n",
       "0    0.271429      0.699552  0.848485  0.778351            0   \n",
       "1    0.214286      0.040359  0.424242  0.984536            1   \n",
       "2    0.742857      0.286996  0.212121  0.907216            0   \n",
       "3    0.357143      0.363229  0.606061  0.505155            0   \n",
       "4    0.400000      0.421525  0.545455  0.180412            1   \n",
       "..        ...           ...       ...       ...          ...   \n",
       "387  0.928571      0.511211  0.848485  0.221649            0   \n",
       "388  0.271429      0.430493  0.727273  0.123711            1   \n",
       "389  0.428571      0.358744  0.606061  0.742268            0   \n",
       "390  0.585714      0.511211  0.272727  0.061856            0   \n",
       "391  0.642857      0.390135  0.242424  0.123711            1   \n",
       "\n",
       "     Subscription_Yes  LastRating_1  LastRating_2  LastRating_3  LastRating_4  \n",
       "0                   1             0             0             0             1  \n",
       "1                   0             0             1             0             0  \n",
       "2                   0             0             0             1             0  \n",
       "3                   0             1             0             0             0  \n",
       "4                   0             0             0             0             0  \n",
       "..                ...           ...           ...           ...           ...  \n",
       "387                 0             0             1             0             0  \n",
       "388                 0             0             0             0             0  \n",
       "389                 0             0             0             0             0  \n",
       "390                 0             0             0             1             0  \n",
       "391                 0             0             0             1             0  \n",
       "\n",
       "[392 rows x 10 columns]"
      ]
     },
     "execution_count": 705,
     "metadata": {},
     "output_type": "execute_result"
    }
   ],
   "source": [
    "X_wo_sentiment = X.drop(['LastReview_neg', 'LastReview_neu'], axis=1)\n",
    "X_wo_sentiment"
   ]
  },
  {
   "cell_type": "code",
   "execution_count": 706,
   "metadata": {},
   "outputs": [],
   "source": [
    "x_train_nos,x_test_nos,y_train,y_test = train_test_split(X_wo_sentiment,Y,test_size=0.3, random_state=42)"
   ]
  },
  {
   "cell_type": "code",
   "execution_count": 674,
   "metadata": {
    "scrolled": false
   },
   "outputs": [
    {
     "data": {
      "text/plain": [
       "(392, 12)"
      ]
     },
     "execution_count": 674,
     "metadata": {},
     "output_type": "execute_result"
    }
   ],
   "source": [
    "X.shape"
   ]
  },
  {
   "cell_type": "code",
   "execution_count": 675,
   "metadata": {
    "scrolled": true
   },
   "outputs": [
    {
     "data": {
      "text/plain": [
       "(392,)"
      ]
     },
     "execution_count": 675,
     "metadata": {},
     "output_type": "execute_result"
    }
   ],
   "source": [
    "Y.shape"
   ]
  },
  {
   "cell_type": "markdown",
   "metadata": {},
   "source": [
    "## Trying sklearn"
   ]
  },
  {
   "cell_type": "code",
   "execution_count": 257,
   "metadata": {},
   "outputs": [],
   "source": [
    "t = [('cat', OneHotEncoder(), categorical_ix), \n",
    "     ('num', StandardScaler(), numerical_ix)]\n",
    "col_transform = ColumnTransformer(transformers=t)"
   ]
  },
  {
   "cell_type": "code",
   "execution_count": 258,
   "metadata": {},
   "outputs": [],
   "source": [
    "t_2 = [('cat', OneHotEncoder(), categorical_ix), \n",
    "     ('num', MinMaxScaler(), numerical_ix)]\n",
    "col_transform_2 = ColumnTransformer(transformers=t_2)"
   ]
  },
  {
   "cell_type": "code",
   "execution_count": 707,
   "metadata": {
    "scrolled": false
   },
   "outputs": [],
   "source": [
    "model_nn = MLPClassifier(activation='tanh', solver='adam', alpha = 0.0002, learning_rate_init=0.005)\n",
    "model_nn.fit(x_train_nos, y_train)\n",
    "y_pred = model_nn.predict(x_test_nos)"
   ]
  },
  {
   "cell_type": "code",
   "execution_count": 711,
   "metadata": {
    "scrolled": false
   },
   "outputs": [
    {
     "name": "stdout",
     "output_type": "stream",
     "text": [
      "Accuracy score for MLPClassifier: 0.56\n"
     ]
    }
   ],
   "source": [
    "print(f'Accuracy score for MLPClassifier: {accuracy_score(y_test, y_pred):.2f}')"
   ]
  },
  {
   "cell_type": "code",
   "execution_count": 710,
   "metadata": {
    "scrolled": true
   },
   "outputs": [
    {
     "name": "stdout",
     "output_type": "stream",
     "text": [
      "              precision    recall  f1-score   support\n",
      "\n",
      "           0       0.57      0.85      0.68        66\n",
      "           1       0.50      0.19      0.28        52\n",
      "\n",
      "    accuracy                           0.56       118\n",
      "   macro avg       0.54      0.52      0.48       118\n",
      "weighted avg       0.54      0.56      0.50       118\n",
      "\n"
     ]
    }
   ],
   "source": [
    "print(classification_report(y_test, y_pred))"
   ]
  },
  {
   "cell_type": "code",
   "execution_count": 712,
   "metadata": {
    "scrolled": true
   },
   "outputs": [
    {
     "name": "stdout",
     "output_type": "stream",
     "text": [
      "Accuracy score for Multinomial Naive Bayes model: 0.56\n"
     ]
    }
   ],
   "source": [
    "model_nb = MultinomialNB(alpha=2)\n",
    "# pipe_nb = Pipeline([('prep', col_transform_2), ('m', model_nb)])\n",
    "model_nb.fit(x_train_nos, y_train)\n",
    "y_pred_nb = model_nb.predict(x_test_nos)\n",
    "print(f'Accuracy score for Multinomial Naive Bayes model: {accuracy_score(y_test, y_pred_nb):.2f}')"
   ]
  },
  {
   "cell_type": "code",
   "execution_count": 713,
   "metadata": {
    "scrolled": false
   },
   "outputs": [
    {
     "name": "stdout",
     "output_type": "stream",
     "text": [
      "              precision    recall  f1-score   support\n",
      "\n",
      "           0       0.56      1.00      0.72        66\n",
      "           1       0.00      0.00      0.00        52\n",
      "\n",
      "    accuracy                           0.56       118\n",
      "   macro avg       0.28      0.50      0.36       118\n",
      "weighted avg       0.31      0.56      0.40       118\n",
      "\n"
     ]
    },
    {
     "name": "stderr",
     "output_type": "stream",
     "text": [
      "/Users/zhen/opt/anaconda3/lib/python3.7/site-packages/sklearn/metrics/classification.py:1437: UndefinedMetricWarning: Precision and F-score are ill-defined and being set to 0.0 in labels with no predicted samples.\n",
      "  'precision', 'predicted', average, warn_for)\n"
     ]
    }
   ],
   "source": [
    "print(classification_report(y_test, y_pred_nb))"
   ]
  },
  {
   "cell_type": "code",
   "execution_count": 726,
   "metadata": {
    "scrolled": true
   },
   "outputs": [],
   "source": [
    "logistic = LogisticRegression(solver='lbfgs')\n",
    "logistic.fit(x_train_nos, y_train)\n",
    "y_pred_logistic = logistic.predict(x_test_nos)"
   ]
  },
  {
   "cell_type": "code",
   "execution_count": 727,
   "metadata": {
    "scrolled": true
   },
   "outputs": [
    {
     "name": "stdout",
     "output_type": "stream",
     "text": [
      "              precision    recall  f1-score   support\n",
      "\n",
      "           0       0.58      1.00      0.73        66\n",
      "           1       1.00      0.08      0.14        52\n",
      "\n",
      "    accuracy                           0.59       118\n",
      "   macro avg       0.79      0.54      0.44       118\n",
      "weighted avg       0.76      0.59      0.47       118\n",
      "\n"
     ]
    }
   ],
   "source": [
    "print(classification_report(y_test, y_pred_logistic))"
   ]
  },
  {
   "cell_type": "markdown",
   "metadata": {},
   "source": [
    "## Trying Keras"
   ]
  },
  {
   "cell_type": "code",
   "execution_count": 427,
   "metadata": {
    "scrolled": true
   },
   "outputs": [
    {
     "data": {
      "text/plain": [
       "10"
      ]
     },
     "execution_count": 427,
     "metadata": {},
     "output_type": "execute_result"
    }
   ],
   "source": [
    "x_train_nos.shape[1]"
   ]
  },
  {
   "cell_type": "code",
   "execution_count": 731,
   "metadata": {
    "scrolled": true
   },
   "outputs": [
    {
     "name": "stdout",
     "output_type": "stream",
     "text": [
      "Model: \"sequential_20\"\n",
      "_________________________________________________________________\n",
      "Layer (type)                 Output Shape              Param #   \n",
      "=================================================================\n",
      "dense_58 (Dense)             (None, 32)                352       \n",
      "_________________________________________________________________\n",
      "dropout_39 (Dropout)         (None, 32)                0         \n",
      "_________________________________________________________________\n",
      "dense_59 (Dense)             (None, 64)                2112      \n",
      "_________________________________________________________________\n",
      "dropout_40 (Dropout)         (None, 64)                0         \n",
      "_________________________________________________________________\n",
      "dense_60 (Dense)             (None, 1)                 65        \n",
      "=================================================================\n",
      "Total params: 2,529\n",
      "Trainable params: 2,529\n",
      "Non-trainable params: 0\n",
      "_________________________________________________________________\n"
     ]
    }
   ],
   "source": [
    "model_nos = Sequential()\n",
    "model_nos.add(Dense(32, input_dim=x_train_nos.shape[1], activation='relu'))\n",
    "model_nos.add(Dropout(rate=0.2))\n",
    "model_nos.add(Dense(64, activation='tanh'))\n",
    "model_nos.add(Dropout(rate=0.2))\n",
    "model_nos.add(Dense(1, activation='sigmoid'))\n",
    "model_nos.compile(loss='binary_crossentropy', optimizer='adam', metrics=['accuracy'])\n",
    "model_nos.summary()"
   ]
  },
  {
   "cell_type": "code",
   "execution_count": 732,
   "metadata": {
    "scrolled": true
   },
   "outputs": [
    {
     "name": "stdout",
     "output_type": "stream",
     "text": [
      "Epoch 1/100\n",
      "274/274 [==============================] - 0s 758us/step - loss: 0.6705 - accuracy: 0.6168\n",
      "Epoch 2/100\n",
      "274/274 [==============================] - 0s 115us/step - loss: 0.6464 - accuracy: 0.6387\n",
      "Epoch 3/100\n",
      "274/274 [==============================] - 0s 107us/step - loss: 0.6332 - accuracy: 0.6350\n",
      "Epoch 4/100\n",
      "274/274 [==============================] - 0s 118us/step - loss: 0.6356 - accuracy: 0.6387\n",
      "Epoch 5/100\n",
      "274/274 [==============================] - 0s 96us/step - loss: 0.6483 - accuracy: 0.6350\n",
      "Epoch 6/100\n",
      "274/274 [==============================] - 0s 99us/step - loss: 0.6253 - accuracy: 0.6496\n",
      "Epoch 7/100\n",
      "274/274 [==============================] - 0s 99us/step - loss: 0.6506 - accuracy: 0.6350\n",
      "Epoch 8/100\n",
      "274/274 [==============================] - 0s 97us/step - loss: 0.6289 - accuracy: 0.6569\n",
      "Epoch 9/100\n",
      "274/274 [==============================] - 0s 103us/step - loss: 0.6312 - accuracy: 0.6423\n",
      "Epoch 10/100\n",
      "274/274 [==============================] - 0s 98us/step - loss: 0.6224 - accuracy: 0.6642\n",
      "Epoch 11/100\n",
      "274/274 [==============================] - 0s 96us/step - loss: 0.6251 - accuracy: 0.6314\n",
      "Epoch 12/100\n",
      "274/274 [==============================] - 0s 96us/step - loss: 0.6277 - accuracy: 0.6533\n",
      "Epoch 13/100\n",
      "274/274 [==============================] - 0s 94us/step - loss: 0.6414 - accuracy: 0.6387\n",
      "Epoch 14/100\n",
      "274/274 [==============================] - 0s 101us/step - loss: 0.6222 - accuracy: 0.6350\n",
      "Epoch 15/100\n",
      "274/274 [==============================] - 0s 88us/step - loss: 0.6346 - accuracy: 0.6277\n",
      "Epoch 16/100\n",
      "274/274 [==============================] - 0s 92us/step - loss: 0.6232 - accuracy: 0.6350\n",
      "Epoch 17/100\n",
      "274/274 [==============================] - 0s 89us/step - loss: 0.6299 - accuracy: 0.6460\n",
      "Epoch 18/100\n",
      "274/274 [==============================] - 0s 89us/step - loss: 0.6161 - accuracy: 0.6423\n",
      "Epoch 19/100\n",
      "274/274 [==============================] - 0s 90us/step - loss: 0.6228 - accuracy: 0.6277\n",
      "Epoch 20/100\n",
      "274/274 [==============================] - 0s 94us/step - loss: 0.6205 - accuracy: 0.6679\n",
      "Epoch 21/100\n",
      "274/274 [==============================] - 0s 94us/step - loss: 0.6170 - accuracy: 0.6423\n",
      "Epoch 22/100\n",
      "274/274 [==============================] - 0s 91us/step - loss: 0.5989 - accuracy: 0.6861\n",
      "Epoch 23/100\n",
      "274/274 [==============================] - 0s 92us/step - loss: 0.6218 - accuracy: 0.6168\n",
      "Epoch 24/100\n",
      "274/274 [==============================] - 0s 93us/step - loss: 0.6199 - accuracy: 0.6533\n",
      "Epoch 25/100\n",
      "274/274 [==============================] - 0s 93us/step - loss: 0.6276 - accuracy: 0.6533\n",
      "Epoch 26/100\n",
      "274/274 [==============================] - 0s 105us/step - loss: 0.6196 - accuracy: 0.6460\n",
      "Epoch 27/100\n",
      "274/274 [==============================] - 0s 91us/step - loss: 0.6118 - accuracy: 0.6606\n",
      "Epoch 28/100\n",
      "274/274 [==============================] - 0s 93us/step - loss: 0.6076 - accuracy: 0.6569\n",
      "Epoch 29/100\n",
      "274/274 [==============================] - 0s 96us/step - loss: 0.6089 - accuracy: 0.6277\n",
      "Epoch 30/100\n",
      "274/274 [==============================] - 0s 90us/step - loss: 0.5990 - accuracy: 0.6679\n",
      "Epoch 31/100\n",
      "274/274 [==============================] - 0s 91us/step - loss: 0.5938 - accuracy: 0.6752\n",
      "Epoch 32/100\n",
      "274/274 [==============================] - 0s 89us/step - loss: 0.6321 - accuracy: 0.6569\n",
      "Epoch 33/100\n",
      "274/274 [==============================] - 0s 92us/step - loss: 0.6029 - accuracy: 0.6533\n",
      "Epoch 34/100\n",
      "274/274 [==============================] - 0s 95us/step - loss: 0.6040 - accuracy: 0.6606\n",
      "Epoch 35/100\n",
      "274/274 [==============================] - 0s 92us/step - loss: 0.5878 - accuracy: 0.6788\n",
      "Epoch 36/100\n",
      "274/274 [==============================] - 0s 96us/step - loss: 0.5936 - accuracy: 0.6898\n",
      "Epoch 37/100\n",
      "274/274 [==============================] - 0s 89us/step - loss: 0.5976 - accuracy: 0.6642\n",
      "Epoch 38/100\n",
      "274/274 [==============================] - 0s 91us/step - loss: 0.5936 - accuracy: 0.6788\n",
      "Epoch 39/100\n",
      "274/274 [==============================] - 0s 96us/step - loss: 0.5920 - accuracy: 0.6679\n",
      "Epoch 40/100\n",
      "274/274 [==============================] - 0s 94us/step - loss: 0.5954 - accuracy: 0.6825\n",
      "Epoch 41/100\n",
      "274/274 [==============================] - 0s 98us/step - loss: 0.5958 - accuracy: 0.6642\n",
      "Epoch 42/100\n",
      "274/274 [==============================] - 0s 99us/step - loss: 0.5812 - accuracy: 0.6825\n",
      "Epoch 43/100\n",
      "274/274 [==============================] - 0s 93us/step - loss: 0.5909 - accuracy: 0.6971\n",
      "Epoch 44/100\n",
      "274/274 [==============================] - 0s 97us/step - loss: 0.6011 - accuracy: 0.6533\n",
      "Epoch 45/100\n",
      "274/274 [==============================] - 0s 89us/step - loss: 0.5968 - accuracy: 0.6679\n",
      "Epoch 46/100\n",
      "274/274 [==============================] - 0s 97us/step - loss: 0.5936 - accuracy: 0.6569\n",
      "Epoch 47/100\n",
      "274/274 [==============================] - 0s 89us/step - loss: 0.5686 - accuracy: 0.7044\n",
      "Epoch 48/100\n",
      "274/274 [==============================] - 0s 94us/step - loss: 0.5744 - accuracy: 0.6898\n",
      "Epoch 49/100\n",
      "274/274 [==============================] - 0s 91us/step - loss: 0.5919 - accuracy: 0.6642\n",
      "Epoch 50/100\n",
      "274/274 [==============================] - 0s 89us/step - loss: 0.5934 - accuracy: 0.6825\n",
      "Epoch 51/100\n",
      "274/274 [==============================] - 0s 97us/step - loss: 0.5953 - accuracy: 0.6788\n",
      "Epoch 52/100\n",
      "274/274 [==============================] - 0s 86us/step - loss: 0.5818 - accuracy: 0.6861\n",
      "Epoch 53/100\n",
      "274/274 [==============================] - 0s 88us/step - loss: 0.5758 - accuracy: 0.7080\n",
      "Epoch 54/100\n",
      "274/274 [==============================] - 0s 90us/step - loss: 0.5813 - accuracy: 0.6934\n",
      "Epoch 55/100\n",
      "274/274 [==============================] - 0s 92us/step - loss: 0.5582 - accuracy: 0.7007\n",
      "Epoch 56/100\n",
      "274/274 [==============================] - 0s 97us/step - loss: 0.5622 - accuracy: 0.6934\n",
      "Epoch 57/100\n",
      "274/274 [==============================] - 0s 96us/step - loss: 0.5796 - accuracy: 0.7153\n",
      "Epoch 58/100\n",
      "274/274 [==============================] - 0s 107us/step - loss: 0.5834 - accuracy: 0.6898\n",
      "Epoch 59/100\n",
      "274/274 [==============================] - 0s 99us/step - loss: 0.5671 - accuracy: 0.7153\n",
      "Epoch 60/100\n",
      "274/274 [==============================] - 0s 96us/step - loss: 0.5778 - accuracy: 0.6971\n",
      "Epoch 61/100\n",
      "274/274 [==============================] - 0s 101us/step - loss: 0.5734 - accuracy: 0.7117\n",
      "Epoch 62/100\n",
      "274/274 [==============================] - 0s 98us/step - loss: 0.5934 - accuracy: 0.6825\n",
      "Epoch 63/100\n",
      "274/274 [==============================] - 0s 91us/step - loss: 0.5739 - accuracy: 0.6825\n",
      "Epoch 64/100\n",
      "274/274 [==============================] - 0s 105us/step - loss: 0.5714 - accuracy: 0.7153\n",
      "Epoch 65/100\n",
      "274/274 [==============================] - 0s 99us/step - loss: 0.5755 - accuracy: 0.6934\n",
      "Epoch 66/100\n",
      "274/274 [==============================] - 0s 96us/step - loss: 0.5699 - accuracy: 0.6861\n",
      "Epoch 67/100\n",
      "274/274 [==============================] - 0s 102us/step - loss: 0.5599 - accuracy: 0.7153\n",
      "Epoch 68/100\n",
      "274/274 [==============================] - 0s 99us/step - loss: 0.5807 - accuracy: 0.7117\n",
      "Epoch 69/100\n",
      "274/274 [==============================] - 0s 94us/step - loss: 0.5779 - accuracy: 0.6825\n",
      "Epoch 70/100\n",
      "274/274 [==============================] - 0s 103us/step - loss: 0.5545 - accuracy: 0.6898\n",
      "Epoch 71/100\n",
      "274/274 [==============================] - 0s 101us/step - loss: 0.5761 - accuracy: 0.7044\n",
      "Epoch 72/100\n",
      "274/274 [==============================] - 0s 92us/step - loss: 0.5843 - accuracy: 0.6788\n",
      "Epoch 73/100\n",
      "274/274 [==============================] - 0s 97us/step - loss: 0.5454 - accuracy: 0.7190\n",
      "Epoch 74/100\n",
      "274/274 [==============================] - 0s 105us/step - loss: 0.5744 - accuracy: 0.6715\n",
      "Epoch 75/100\n",
      "274/274 [==============================] - 0s 91us/step - loss: 0.5528 - accuracy: 0.7117\n",
      "Epoch 76/100\n",
      "274/274 [==============================] - 0s 94us/step - loss: 0.5612 - accuracy: 0.7117\n",
      "Epoch 77/100\n",
      "274/274 [==============================] - 0s 104us/step - loss: 0.5633 - accuracy: 0.7226\n",
      "Epoch 78/100\n",
      "274/274 [==============================] - 0s 89us/step - loss: 0.5501 - accuracy: 0.7226\n",
      "Epoch 79/100\n",
      "274/274 [==============================] - 0s 103us/step - loss: 0.5511 - accuracy: 0.7190\n",
      "Epoch 80/100\n"
     ]
    },
    {
     "name": "stdout",
     "output_type": "stream",
     "text": [
      "274/274 [==============================] - 0s 100us/step - loss: 0.5606 - accuracy: 0.6971\n",
      "Epoch 81/100\n",
      "274/274 [==============================] - 0s 94us/step - loss: 0.5655 - accuracy: 0.7007\n",
      "Epoch 82/100\n",
      "274/274 [==============================] - 0s 91us/step - loss: 0.5476 - accuracy: 0.7190\n",
      "Epoch 83/100\n",
      "274/274 [==============================] - 0s 94us/step - loss: 0.5535 - accuracy: 0.7044\n",
      "Epoch 84/100\n",
      "274/274 [==============================] - 0s 97us/step - loss: 0.5721 - accuracy: 0.6642\n",
      "Epoch 85/100\n",
      "274/274 [==============================] - 0s 100us/step - loss: 0.5529 - accuracy: 0.7007\n",
      "Epoch 86/100\n",
      "274/274 [==============================] - 0s 102us/step - loss: 0.5412 - accuracy: 0.7153\n",
      "Epoch 87/100\n",
      "274/274 [==============================] - 0s 90us/step - loss: 0.5523 - accuracy: 0.7080\n",
      "Epoch 88/100\n",
      "274/274 [==============================] - 0s 98us/step - loss: 0.5609 - accuracy: 0.7044\n",
      "Epoch 89/100\n",
      "274/274 [==============================] - 0s 98us/step - loss: 0.5322 - accuracy: 0.7336\n",
      "Epoch 90/100\n",
      "274/274 [==============================] - 0s 92us/step - loss: 0.5343 - accuracy: 0.7226\n",
      "Epoch 91/100\n",
      "274/274 [==============================] - 0s 93us/step - loss: 0.5405 - accuracy: 0.7190\n",
      "Epoch 92/100\n",
      "274/274 [==============================] - 0s 92us/step - loss: 0.5634 - accuracy: 0.6971\n",
      "Epoch 93/100\n",
      "274/274 [==============================] - 0s 98us/step - loss: 0.5437 - accuracy: 0.7409\n",
      "Epoch 94/100\n",
      "274/274 [==============================] - 0s 110us/step - loss: 0.5521 - accuracy: 0.7263\n",
      "Epoch 95/100\n",
      "274/274 [==============================] - 0s 112us/step - loss: 0.5684 - accuracy: 0.6898\n",
      "Epoch 96/100\n",
      "274/274 [==============================] - 0s 101us/step - loss: 0.5305 - accuracy: 0.7190\n",
      "Epoch 97/100\n",
      "274/274 [==============================] - 0s 95us/step - loss: 0.5536 - accuracy: 0.7007\n",
      "Epoch 98/100\n",
      "274/274 [==============================] - 0s 110us/step - loss: 0.5354 - accuracy: 0.7336\n",
      "Epoch 99/100\n",
      "274/274 [==============================] - 0s 106us/step - loss: 0.5352 - accuracy: 0.6934\n",
      "Epoch 100/100\n",
      "274/274 [==============================] - 0s 95us/step - loss: 0.5412 - accuracy: 0.7080\n",
      "Model took 3.355381965637207 seconds to train.\n"
     ]
    }
   ],
   "source": [
    "t_start = time.time()\n",
    "\n",
    "history_nos = model_nos.fit(x_train_nos, y_train, epochs=100, batch_size=10)\n",
    "\n",
    "t_end = time.time()\n",
    "print(f'Model took {t_end-t_start} seconds to train.')"
   ]
  },
  {
   "cell_type": "code",
   "execution_count": 733,
   "metadata": {
    "scrolled": false
   },
   "outputs": [
    {
     "data": {
      "image/png": "[encoded data removed]",
      "text/plain": [
       "<Figure size 432x288 with 1 Axes>"
      ]
     },
     "metadata": {
      "needs_background": "light"
     },
     "output_type": "display_data"
    }
   ],
   "source": [
    "plt.plot(history_nos.history['accuracy'])\n",
    "# plt.plot(history.history['val_accuracy'])\n",
    "plt.title('Model Accuracy')\n",
    "plt.ylabel('accuracy')\n",
    "plt.xlabel('epoch')\n",
    "# plt.legend(['train', 'test'], loc='upper left')\n",
    "plt.show()"
   ]
  },
  {
   "cell_type": "code",
   "execution_count": 734,
   "metadata": {
    "scrolled": false
   },
   "outputs": [
    {
     "data": {
      "text/plain": [
       "0.5254237288135594"
      ]
     },
     "execution_count": 734,
     "metadata": {},
     "output_type": "execute_result"
    }
   ],
   "source": [
    "y_pred = model_nos.predict_classes(x_test_nos)\n",
    "# y_test_int = np.argmax(y_test, axis = 1)\n",
    "f1_score(y_test, y_pred, average='micro')"
   ]
  },
  {
   "cell_type": "code",
   "execution_count": 509,
   "metadata": {
    "scrolled": true
   },
   "outputs": [
    {
     "data": {
      "text/plain": [
       "(79, 12)"
      ]
     },
     "execution_count": 509,
     "metadata": {},
     "output_type": "execute_result"
    }
   ],
   "source": [
    "x_test.shape"
   ]
  },
  {
   "cell_type": "code",
   "execution_count": 738,
   "metadata": {
    "scrolled": true
   },
   "outputs": [
    {
     "name": "stdout",
     "output_type": "stream",
     "text": [
      "              precision    recall  f1-score   support\n",
      "\n",
      "           0       0.56      0.74      0.64        66\n",
      "           1       0.43      0.25      0.32        52\n",
      "\n",
      "    accuracy                           0.53       118\n",
      "   macro avg       0.50      0.50      0.48       118\n",
      "weighted avg       0.50      0.53      0.50       118\n",
      "\n"
     ]
    }
   ],
   "source": [
    "y_pred = model_nos.predict_classes(x_test_nos)\n",
    "print(classification_report(y_test, y_pred))"
   ]
  },
  {
   "cell_type": "code",
   "execution_count": 739,
   "metadata": {
    "scrolled": false
   },
   "outputs": [
    {
     "name": "stdout",
     "output_type": "stream",
     "text": [
      "Accuracy score for NN model: 0.53\n"
     ]
    }
   ],
   "source": [
    "print(f'Accuracy score for NN model: {accuracy_score(y_test, y_pred):.2f}')"
   ]
  },
  {
   "cell_type": "markdown",
   "metadata": {},
   "source": [
    "### With sentiment"
   ]
  },
  {
   "cell_type": "code",
   "execution_count": 740,
   "metadata": {},
   "outputs": [
    {
     "data": {
      "text/html": [
       "<div>\n",
       "<style scoped>\n",
       "    .dataframe tbody tr th:only-of-type {\n",
       "        vertical-align: middle;\n",
       "    }\n",
       "\n",
       "    .dataframe tbody tr th {\n",
       "        vertical-align: top;\n",
       "    }\n",
       "\n",
       "    .dataframe thead th {\n",
       "        text-align: right;\n",
       "    }\n",
       "</style>\n",
       "<table border=\"1\" class=\"dataframe\">\n",
       "  <thead>\n",
       "    <tr style=\"text-align: right;\">\n",
       "      <th></th>\n",
       "      <th>Age</th>\n",
       "      <th>AccountWeeks</th>\n",
       "      <th>AvgRides</th>\n",
       "      <th>AvgSpend</th>\n",
       "      <th>Gender_Male</th>\n",
       "      <th>Subscription_Yes</th>\n",
       "      <th>LastRating_1</th>\n",
       "      <th>LastRating_2</th>\n",
       "      <th>LastRating_3</th>\n",
       "      <th>LastRating_4</th>\n",
       "      <th>LastReview_neg</th>\n",
       "      <th>LastReview_neu</th>\n",
       "    </tr>\n",
       "  </thead>\n",
       "  <tbody>\n",
       "    <tr>\n",
       "      <td>0</td>\n",
       "      <td>0.271429</td>\n",
       "      <td>0.699552</td>\n",
       "      <td>0.848485</td>\n",
       "      <td>0.778351</td>\n",
       "      <td>0</td>\n",
       "      <td>1</td>\n",
       "      <td>0</td>\n",
       "      <td>0</td>\n",
       "      <td>0</td>\n",
       "      <td>1</td>\n",
       "      <td>0</td>\n",
       "      <td>1</td>\n",
       "    </tr>\n",
       "    <tr>\n",
       "      <td>1</td>\n",
       "      <td>0.214286</td>\n",
       "      <td>0.040359</td>\n",
       "      <td>0.424242</td>\n",
       "      <td>0.984536</td>\n",
       "      <td>1</td>\n",
       "      <td>0</td>\n",
       "      <td>0</td>\n",
       "      <td>1</td>\n",
       "      <td>0</td>\n",
       "      <td>0</td>\n",
       "      <td>0</td>\n",
       "      <td>0</td>\n",
       "    </tr>\n",
       "    <tr>\n",
       "      <td>2</td>\n",
       "      <td>0.742857</td>\n",
       "      <td>0.286996</td>\n",
       "      <td>0.212121</td>\n",
       "      <td>0.907216</td>\n",
       "      <td>0</td>\n",
       "      <td>0</td>\n",
       "      <td>0</td>\n",
       "      <td>0</td>\n",
       "      <td>1</td>\n",
       "      <td>0</td>\n",
       "      <td>1</td>\n",
       "      <td>0</td>\n",
       "    </tr>\n",
       "    <tr>\n",
       "      <td>3</td>\n",
       "      <td>0.357143</td>\n",
       "      <td>0.363229</td>\n",
       "      <td>0.606061</td>\n",
       "      <td>0.505155</td>\n",
       "      <td>0</td>\n",
       "      <td>0</td>\n",
       "      <td>1</td>\n",
       "      <td>0</td>\n",
       "      <td>0</td>\n",
       "      <td>0</td>\n",
       "      <td>1</td>\n",
       "      <td>0</td>\n",
       "    </tr>\n",
       "    <tr>\n",
       "      <td>4</td>\n",
       "      <td>0.400000</td>\n",
       "      <td>0.421525</td>\n",
       "      <td>0.545455</td>\n",
       "      <td>0.180412</td>\n",
       "      <td>1</td>\n",
       "      <td>0</td>\n",
       "      <td>0</td>\n",
       "      <td>0</td>\n",
       "      <td>0</td>\n",
       "      <td>0</td>\n",
       "      <td>0</td>\n",
       "      <td>0</td>\n",
       "    </tr>\n",
       "    <tr>\n",
       "      <td>...</td>\n",
       "      <td>...</td>\n",
       "      <td>...</td>\n",
       "      <td>...</td>\n",
       "      <td>...</td>\n",
       "      <td>...</td>\n",
       "      <td>...</td>\n",
       "      <td>...</td>\n",
       "      <td>...</td>\n",
       "      <td>...</td>\n",
       "      <td>...</td>\n",
       "      <td>...</td>\n",
       "      <td>...</td>\n",
       "    </tr>\n",
       "    <tr>\n",
       "      <td>387</td>\n",
       "      <td>0.928571</td>\n",
       "      <td>0.511211</td>\n",
       "      <td>0.848485</td>\n",
       "      <td>0.221649</td>\n",
       "      <td>0</td>\n",
       "      <td>0</td>\n",
       "      <td>0</td>\n",
       "      <td>1</td>\n",
       "      <td>0</td>\n",
       "      <td>0</td>\n",
       "      <td>0</td>\n",
       "      <td>0</td>\n",
       "    </tr>\n",
       "    <tr>\n",
       "      <td>388</td>\n",
       "      <td>0.271429</td>\n",
       "      <td>0.430493</td>\n",
       "      <td>0.727273</td>\n",
       "      <td>0.123711</td>\n",
       "      <td>1</td>\n",
       "      <td>0</td>\n",
       "      <td>0</td>\n",
       "      <td>0</td>\n",
       "      <td>0</td>\n",
       "      <td>0</td>\n",
       "      <td>1</td>\n",
       "      <td>0</td>\n",
       "    </tr>\n",
       "    <tr>\n",
       "      <td>389</td>\n",
       "      <td>0.428571</td>\n",
       "      <td>0.358744</td>\n",
       "      <td>0.606061</td>\n",
       "      <td>0.742268</td>\n",
       "      <td>0</td>\n",
       "      <td>0</td>\n",
       "      <td>0</td>\n",
       "      <td>0</td>\n",
       "      <td>0</td>\n",
       "      <td>0</td>\n",
       "      <td>1</td>\n",
       "      <td>0</td>\n",
       "    </tr>\n",
       "    <tr>\n",
       "      <td>390</td>\n",
       "      <td>0.585714</td>\n",
       "      <td>0.511211</td>\n",
       "      <td>0.272727</td>\n",
       "      <td>0.061856</td>\n",
       "      <td>0</td>\n",
       "      <td>0</td>\n",
       "      <td>0</td>\n",
       "      <td>0</td>\n",
       "      <td>1</td>\n",
       "      <td>0</td>\n",
       "      <td>0</td>\n",
       "      <td>0</td>\n",
       "    </tr>\n",
       "    <tr>\n",
       "      <td>391</td>\n",
       "      <td>0.642857</td>\n",
       "      <td>0.390135</td>\n",
       "      <td>0.242424</td>\n",
       "      <td>0.123711</td>\n",
       "      <td>1</td>\n",
       "      <td>0</td>\n",
       "      <td>0</td>\n",
       "      <td>0</td>\n",
       "      <td>1</td>\n",
       "      <td>0</td>\n",
       "      <td>1</td>\n",
       "      <td>0</td>\n",
       "    </tr>\n",
       "  </tbody>\n",
       "</table>\n",
       "<p>392 rows × 12 columns</p>\n",
       "</div>"
      ],
      "text/plain": [
       "          Age  AccountWeeks  AvgRides  AvgSpend  Gender_Male  \\\n",
       "0    0.271429      0.699552  0.848485  0.778351            0   \n",
       "1    0.214286      0.040359  0.424242  0.984536            1   \n",
       "2    0.742857      0.286996  0.212121  0.907216            0   \n",
       "3    0.357143      0.363229  0.606061  0.505155            0   \n",
       "4    0.400000      0.421525  0.545455  0.180412            1   \n",
       "..        ...           ...       ...       ...          ...   \n",
       "387  0.928571      0.511211  0.848485  0.221649            0   \n",
       "388  0.271429      0.430493  0.727273  0.123711            1   \n",
       "389  0.428571      0.358744  0.606061  0.742268            0   \n",
       "390  0.585714      0.511211  0.272727  0.061856            0   \n",
       "391  0.642857      0.390135  0.242424  0.123711            1   \n",
       "\n",
       "     Subscription_Yes  LastRating_1  LastRating_2  LastRating_3  LastRating_4  \\\n",
       "0                   1             0             0             0             1   \n",
       "1                   0             0             1             0             0   \n",
       "2                   0             0             0             1             0   \n",
       "3                   0             1             0             0             0   \n",
       "4                   0             0             0             0             0   \n",
       "..                ...           ...           ...           ...           ...   \n",
       "387                 0             0             1             0             0   \n",
       "388                 0             0             0             0             0   \n",
       "389                 0             0             0             0             0   \n",
       "390                 0             0             0             1             0   \n",
       "391                 0             0             0             1             0   \n",
       "\n",
       "     LastReview_neg  LastReview_neu  \n",
       "0                 0               1  \n",
       "1                 0               0  \n",
       "2                 1               0  \n",
       "3                 1               0  \n",
       "4                 0               0  \n",
       "..              ...             ...  \n",
       "387               0               0  \n",
       "388               1               0  \n",
       "389               1               0  \n",
       "390               0               0  \n",
       "391               1               0  \n",
       "\n",
       "[392 rows x 12 columns]"
      ]
     },
     "execution_count": 740,
     "metadata": {},
     "output_type": "execute_result"
    }
   ],
   "source": [
    "X_with_sentiment = X\n",
    "X_with_sentiment"
   ]
  },
  {
   "cell_type": "code",
   "execution_count": 741,
   "metadata": {},
   "outputs": [],
   "source": [
    "x_train_s,x_test_s,y_train,y_test = train_test_split(X_with_sentiment,Y,test_size=0.2, random_state=42)"
   ]
  },
  {
   "cell_type": "markdown",
   "metadata": {},
   "source": [
    "## Trying sklearn"
   ]
  },
  {
   "cell_type": "code",
   "execution_count": 257,
   "metadata": {},
   "outputs": [],
   "source": [
    "t = [('cat', OneHotEncoder(), categorical_ix), \n",
    "     ('num', StandardScaler(), numerical_ix)]\n",
    "col_transform = ColumnTransformer(transformers=t)"
   ]
  },
  {
   "cell_type": "code",
   "execution_count": 258,
   "metadata": {},
   "outputs": [],
   "source": [
    "t_2 = [('cat', OneHotEncoder(), categorical_ix), \n",
    "     ('num', MinMaxScaler(), numerical_ix)]\n",
    "col_transform_2 = ColumnTransformer(transformers=t_2)"
   ]
  },
  {
   "cell_type": "code",
   "execution_count": 742,
   "metadata": {
    "scrolled": false
   },
   "outputs": [],
   "source": [
    "model_nn = MLPClassifier(activation='tanh', solver='adam')\n",
    "model_nn.fit(x_train_s, y_train)\n",
    "y_pred = model_nn.predict(x_test_s)"
   ]
  },
  {
   "cell_type": "code",
   "execution_count": 743,
   "metadata": {
    "scrolled": true
   },
   "outputs": [
    {
     "name": "stdout",
     "output_type": "stream",
     "text": [
      "              precision    recall  f1-score   support\n",
      "\n",
      "           0       0.59      0.89      0.71        45\n",
      "           1       0.55      0.18      0.27        34\n",
      "\n",
      "    accuracy                           0.58        79\n",
      "   macro avg       0.57      0.53      0.49        79\n",
      "weighted avg       0.57      0.58      0.52        79\n",
      "\n"
     ]
    }
   ],
   "source": [
    "print(classification_report(y_test, y_pred))"
   ]
  },
  {
   "cell_type": "code",
   "execution_count": 744,
   "metadata": {
    "scrolled": true
   },
   "outputs": [
    {
     "name": "stdout",
     "output_type": "stream",
     "text": [
      "Accuracy score for MLPClassifier: 0.58\n"
     ]
    }
   ],
   "source": [
    "print(f'Accuracy score for MLPClassifier: {accuracy_score(y_test, y_pred):.2f}')"
   ]
  },
  {
   "cell_type": "code",
   "execution_count": 745,
   "metadata": {
    "scrolled": true
   },
   "outputs": [
    {
     "name": "stdout",
     "output_type": "stream",
     "text": [
      "Accuracy score for Multinomial Naive Bayes model: 0.57\n"
     ]
    }
   ],
   "source": [
    "model_nb = MultinomialNB()\n",
    "model_nb.fit(x_train_s, y_train)\n",
    "y_pred_nb = model_nb.predict(x_test_s)\n",
    "print(f'Accuracy score for Multinomial Naive Bayes model: {accuracy_score(y_test, y_pred_nb):.2f}')"
   ]
  },
  {
   "cell_type": "code",
   "execution_count": 746,
   "metadata": {},
   "outputs": [
    {
     "name": "stdout",
     "output_type": "stream",
     "text": [
      "              precision    recall  f1-score   support\n",
      "\n",
      "           0       0.57      0.96      0.72        45\n",
      "           1       0.50      0.06      0.11        34\n",
      "\n",
      "    accuracy                           0.57        79\n",
      "   macro avg       0.54      0.51      0.41        79\n",
      "weighted avg       0.54      0.57      0.45        79\n",
      "\n"
     ]
    }
   ],
   "source": [
    "print(classification_report(y_test, y_pred_nb))"
   ]
  },
  {
   "cell_type": "code",
   "execution_count": 750,
   "metadata": {
    "scrolled": false
   },
   "outputs": [],
   "source": [
    "logistic_s = LogisticRegression(solver='lbfgs')\n",
    "logistic_s.fit(x_train_s, y_train)\n",
    "y_pred_logistic_s = logistic_s.predict(x_test_s)"
   ]
  },
  {
   "cell_type": "code",
   "execution_count": 751,
   "metadata": {
    "scrolled": true
   },
   "outputs": [
    {
     "name": "stdout",
     "output_type": "stream",
     "text": [
      "              precision    recall  f1-score   support\n",
      "\n",
      "           0       0.60      0.96      0.74        45\n",
      "           1       0.71      0.15      0.24        34\n",
      "\n",
      "    accuracy                           0.61        79\n",
      "   macro avg       0.66      0.55      0.49        79\n",
      "weighted avg       0.65      0.61      0.52        79\n",
      "\n"
     ]
    }
   ],
   "source": [
    "print(classification_report(y_test, y_pred_logistic_s))"
   ]
  },
  {
   "cell_type": "code",
   "execution_count": 689,
   "metadata": {},
   "outputs": [
    {
     "name": "stdout",
     "output_type": "stream",
     "text": [
      "              precision    recall  f1-score   support\n",
      "\n",
      "           0       0.56      0.93      0.70        45\n",
      "           1       0.25      0.03      0.05        34\n",
      "\n",
      "    accuracy                           0.54        79\n",
      "   macro avg       0.41      0.48      0.38        79\n",
      "weighted avg       0.43      0.54      0.42        79\n",
      "\n"
     ]
    }
   ],
   "source": [
    "from sklearn.ensemble import RandomForestClassifier\n",
    "# X_train, X_test, y_train, y_test = train_test_split(X, y, test_size=0.2, random_state=101)\n",
    "model_rf = RandomForestClassifier(n_estimators=1000 , oob_score = True, n_jobs = -1,\n",
    "                                  random_state =50, max_features = \"auto\",\n",
    "                                  max_leaf_nodes = 30)\n",
    "model_rf.fit(x_train_s, y_train)\n",
    "\n",
    "# Make predictions\n",
    "prediction_test = model_rf.predict(x_test_s)\n",
    "print (classification_report(y_test, prediction_test))"
   ]
  },
  {
   "cell_type": "markdown",
   "metadata": {},
   "source": [
    "## Trying Keras"
   ]
  },
  {
   "cell_type": "code",
   "execution_count": 59,
   "metadata": {
    "scrolled": true
   },
   "outputs": [
    {
     "data": {
      "text/plain": [
       "12"
      ]
     },
     "execution_count": 59,
     "metadata": {},
     "output_type": "execute_result"
    }
   ],
   "source": [
    "x_train.shape[1]"
   ]
  },
  {
   "cell_type": "code",
   "execution_count": 752,
   "metadata": {},
   "outputs": [
    {
     "name": "stdout",
     "output_type": "stream",
     "text": [
      "Model: \"sequential_21\"\n",
      "_________________________________________________________________\n",
      "Layer (type)                 Output Shape              Param #   \n",
      "=================================================================\n",
      "dense_61 (Dense)             (None, 16)                208       \n",
      "_________________________________________________________________\n",
      "dropout_41 (Dropout)         (None, 16)                0         \n",
      "_________________________________________________________________\n",
      "dense_62 (Dense)             (None, 8)                 136       \n",
      "_________________________________________________________________\n",
      "dropout_42 (Dropout)         (None, 8)                 0         \n",
      "_________________________________________________________________\n",
      "dense_63 (Dense)             (None, 1)                 9         \n",
      "=================================================================\n",
      "Total params: 353\n",
      "Trainable params: 353\n",
      "Non-trainable params: 0\n",
      "_________________________________________________________________\n"
     ]
    }
   ],
   "source": [
    "model = Sequential()\n",
    "model.add(Dense(16, input_dim=x_train_s.shape[1], activation='relu'))\n",
    "model.add(Dropout(rate=0.2))\n",
    "model.add(Dense(8, activation='tanh'))\n",
    "model.add(Dropout(rate=0.2))\n",
    "model.add(Dense(1, activation='sigmoid'))\n",
    "model.compile(loss='binary_crossentropy', optimizer='adam', metrics=['accuracy'])\n",
    "model.summary()"
   ]
  },
  {
   "cell_type": "code",
   "execution_count": 753,
   "metadata": {
    "scrolled": true
   },
   "outputs": [
    {
     "name": "stdout",
     "output_type": "stream",
     "text": [
      "Epoch 1/100\n",
      "313/313 [==============================] - 0s 550us/step - loss: 0.7377 - accuracy: 0.4505\n",
      "Epoch 2/100\n",
      "313/313 [==============================] - 0s 11us/step - loss: 0.7420 - accuracy: 0.4473\n",
      "Epoch 3/100\n",
      "313/313 [==============================] - 0s 11us/step - loss: 0.7327 - accuracy: 0.4601\n",
      "Epoch 4/100\n",
      "313/313 [==============================] - 0s 11us/step - loss: 0.7148 - accuracy: 0.5048\n",
      "Epoch 5/100\n",
      "313/313 [==============================] - 0s 12us/step - loss: 0.7110 - accuracy: 0.4952\n",
      "Epoch 6/100\n",
      "313/313 [==============================] - 0s 11us/step - loss: 0.7049 - accuracy: 0.5240\n",
      "Epoch 7/100\n",
      "313/313 [==============================] - 0s 11us/step - loss: 0.6965 - accuracy: 0.5176\n",
      "Epoch 8/100\n",
      "313/313 [==============================] - 0s 12us/step - loss: 0.7013 - accuracy: 0.5208\n",
      "Epoch 9/100\n",
      "313/313 [==============================] - 0s 10us/step - loss: 0.6978 - accuracy: 0.5527\n",
      "Epoch 10/100\n",
      "313/313 [==============================] - 0s 11us/step - loss: 0.6799 - accuracy: 0.5272\n",
      "Epoch 11/100\n",
      "313/313 [==============================] - 0s 12us/step - loss: 0.6943 - accuracy: 0.5240\n",
      "Epoch 12/100\n",
      "313/313 [==============================] - 0s 13us/step - loss: 0.6798 - accuracy: 0.6038\n",
      "Epoch 13/100\n",
      "313/313 [==============================] - 0s 13us/step - loss: 0.6780 - accuracy: 0.5879\n",
      "Epoch 14/100\n",
      "313/313 [==============================] - 0s 11us/step - loss: 0.6707 - accuracy: 0.5879\n",
      "Epoch 15/100\n",
      "313/313 [==============================] - 0s 14us/step - loss: 0.6770 - accuracy: 0.5847\n",
      "Epoch 16/100\n",
      "313/313 [==============================] - 0s 13us/step - loss: 0.6671 - accuracy: 0.5815\n",
      "Epoch 17/100\n",
      "313/313 [==============================] - 0s 12us/step - loss: 0.6748 - accuracy: 0.6070\n",
      "Epoch 18/100\n",
      "313/313 [==============================] - 0s 14us/step - loss: 0.6639 - accuracy: 0.5719\n",
      "Epoch 19/100\n",
      "313/313 [==============================] - 0s 13us/step - loss: 0.6752 - accuracy: 0.5623\n",
      "Epoch 20/100\n",
      "313/313 [==============================] - 0s 12us/step - loss: 0.6680 - accuracy: 0.5815\n",
      "Epoch 21/100\n",
      "313/313 [==============================] - 0s 11us/step - loss: 0.6612 - accuracy: 0.6038\n",
      "Epoch 22/100\n",
      "313/313 [==============================] - 0s 10us/step - loss: 0.6626 - accuracy: 0.5942\n",
      "Epoch 23/100\n",
      "313/313 [==============================] - 0s 11us/step - loss: 0.6701 - accuracy: 0.5879\n",
      "Epoch 24/100\n",
      "313/313 [==============================] - 0s 14us/step - loss: 0.6540 - accuracy: 0.6102\n",
      "Epoch 25/100\n",
      "313/313 [==============================] - 0s 14us/step - loss: 0.6596 - accuracy: 0.6038\n",
      "Epoch 26/100\n",
      "313/313 [==============================] - 0s 12us/step - loss: 0.6592 - accuracy: 0.5942\n",
      "Epoch 27/100\n",
      "313/313 [==============================] - 0s 11us/step - loss: 0.6504 - accuracy: 0.6198\n",
      "Epoch 28/100\n",
      "313/313 [==============================] - 0s 12us/step - loss: 0.6522 - accuracy: 0.6166\n",
      "Epoch 29/100\n",
      "313/313 [==============================] - 0s 14us/step - loss: 0.6525 - accuracy: 0.6102\n",
      "Epoch 30/100\n",
      "313/313 [==============================] - 0s 13us/step - loss: 0.6518 - accuracy: 0.6454\n",
      "Epoch 31/100\n",
      "313/313 [==============================] - 0s 12us/step - loss: 0.6524 - accuracy: 0.6262\n",
      "Epoch 32/100\n",
      "313/313 [==============================] - 0s 16us/step - loss: 0.6452 - accuracy: 0.6198\n",
      "Epoch 33/100\n",
      "313/313 [==============================] - 0s 12us/step - loss: 0.6583 - accuracy: 0.6102\n",
      "Epoch 34/100\n",
      "313/313 [==============================] - 0s 11us/step - loss: 0.6431 - accuracy: 0.6326\n",
      "Epoch 35/100\n",
      "313/313 [==============================] - 0s 14us/step - loss: 0.6535 - accuracy: 0.6230\n",
      "Epoch 36/100\n",
      "313/313 [==============================] - 0s 13us/step - loss: 0.6472 - accuracy: 0.6262\n",
      "Epoch 37/100\n",
      "313/313 [==============================] - 0s 11us/step - loss: 0.6427 - accuracy: 0.6262\n",
      "Epoch 38/100\n",
      "313/313 [==============================] - 0s 14us/step - loss: 0.6513 - accuracy: 0.6006\n",
      "Epoch 39/100\n",
      "313/313 [==============================] - 0s 13us/step - loss: 0.6462 - accuracy: 0.6262\n",
      "Epoch 40/100\n",
      "313/313 [==============================] - 0s 11us/step - loss: 0.6454 - accuracy: 0.6422\n",
      "Epoch 41/100\n",
      "313/313 [==============================] - 0s 12us/step - loss: 0.6622 - accuracy: 0.6262\n",
      "Epoch 42/100\n",
      "313/313 [==============================] - 0s 12us/step - loss: 0.6549 - accuracy: 0.6390\n",
      "Epoch 43/100\n",
      "313/313 [==============================] - 0s 11us/step - loss: 0.6534 - accuracy: 0.5942\n",
      "Epoch 44/100\n",
      "313/313 [==============================] - 0s 11us/step - loss: 0.6541 - accuracy: 0.6358\n",
      "Epoch 45/100\n",
      "313/313 [==============================] - 0s 14us/step - loss: 0.6484 - accuracy: 0.6262\n",
      "Epoch 46/100\n",
      "313/313 [==============================] - 0s 13us/step - loss: 0.6596 - accuracy: 0.6230\n",
      "Epoch 47/100\n",
      "313/313 [==============================] - 0s 13us/step - loss: 0.6553 - accuracy: 0.6166\n",
      "Epoch 48/100\n",
      "313/313 [==============================] - 0s 15us/step - loss: 0.6578 - accuracy: 0.6166\n",
      "Epoch 49/100\n",
      "313/313 [==============================] - 0s 14us/step - loss: 0.6653 - accuracy: 0.6230\n",
      "Epoch 50/100\n",
      "313/313 [==============================] - 0s 15us/step - loss: 0.6462 - accuracy: 0.6198\n",
      "Epoch 51/100\n",
      "313/313 [==============================] - 0s 18us/step - loss: 0.6527 - accuracy: 0.6326\n",
      "Epoch 52/100\n",
      "313/313 [==============================] - 0s 13us/step - loss: 0.6516 - accuracy: 0.6134\n",
      "Epoch 53/100\n",
      "313/313 [==============================] - 0s 12us/step - loss: 0.6400 - accuracy: 0.6358\n",
      "Epoch 54/100\n",
      "313/313 [==============================] - 0s 14us/step - loss: 0.6473 - accuracy: 0.6422\n",
      "Epoch 55/100\n",
      "313/313 [==============================] - 0s 17us/step - loss: 0.6512 - accuracy: 0.6198\n",
      "Epoch 56/100\n",
      "313/313 [==============================] - 0s 11us/step - loss: 0.6596 - accuracy: 0.6070\n",
      "Epoch 57/100\n",
      "313/313 [==============================] - 0s 11us/step - loss: 0.6406 - accuracy: 0.6230\n",
      "Epoch 58/100\n",
      "313/313 [==============================] - 0s 16us/step - loss: 0.6589 - accuracy: 0.6166\n",
      "Epoch 59/100\n",
      "313/313 [==============================] - 0s 11us/step - loss: 0.6494 - accuracy: 0.6326\n",
      "Epoch 60/100\n",
      "313/313 [==============================] - 0s 14us/step - loss: 0.6406 - accuracy: 0.6390\n",
      "Epoch 61/100\n",
      "313/313 [==============================] - 0s 13us/step - loss: 0.6496 - accuracy: 0.6454\n",
      "Epoch 62/100\n",
      "313/313 [==============================] - 0s 16us/step - loss: 0.6487 - accuracy: 0.6358\n",
      "Epoch 63/100\n",
      "313/313 [==============================] - 0s 12us/step - loss: 0.6411 - accuracy: 0.6358\n",
      "Epoch 64/100\n",
      "313/313 [==============================] - 0s 15us/step - loss: 0.6511 - accuracy: 0.6326\n",
      "Epoch 65/100\n",
      "313/313 [==============================] - 0s 12us/step - loss: 0.6468 - accuracy: 0.6326\n",
      "Epoch 66/100\n",
      "313/313 [==============================] - 0s 17us/step - loss: 0.6437 - accuracy: 0.6262\n",
      "Epoch 67/100\n",
      "313/313 [==============================] - 0s 11us/step - loss: 0.6431 - accuracy: 0.6166\n",
      "Epoch 68/100\n",
      "313/313 [==============================] - 0s 10us/step - loss: 0.6377 - accuracy: 0.6294\n",
      "Epoch 69/100\n",
      "313/313 [==============================] - 0s 13us/step - loss: 0.6404 - accuracy: 0.6262\n",
      "Epoch 70/100\n",
      "313/313 [==============================] - 0s 16us/step - loss: 0.6418 - accuracy: 0.6166\n",
      "Epoch 71/100\n",
      "313/313 [==============================] - 0s 15us/step - loss: 0.6515 - accuracy: 0.6166\n",
      "Epoch 72/100\n",
      "313/313 [==============================] - 0s 14us/step - loss: 0.6513 - accuracy: 0.6134\n",
      "Epoch 73/100\n",
      "313/313 [==============================] - 0s 13us/step - loss: 0.6459 - accuracy: 0.6262\n",
      "Epoch 74/100\n",
      "313/313 [==============================] - 0s 13us/step - loss: 0.6594 - accuracy: 0.6038\n",
      "Epoch 75/100\n",
      "313/313 [==============================] - 0s 13us/step - loss: 0.6410 - accuracy: 0.6390\n",
      "Epoch 76/100\n",
      "313/313 [==============================] - 0s 13us/step - loss: 0.6551 - accuracy: 0.6166\n",
      "Epoch 77/100\n",
      "313/313 [==============================] - 0s 16us/step - loss: 0.6520 - accuracy: 0.6262\n",
      "Epoch 78/100\n",
      "313/313 [==============================] - 0s 14us/step - loss: 0.6493 - accuracy: 0.6358\n",
      "Epoch 79/100\n",
      "313/313 [==============================] - 0s 16us/step - loss: 0.6395 - accuracy: 0.6294\n",
      "Epoch 80/100\n"
     ]
    },
    {
     "name": "stdout",
     "output_type": "stream",
     "text": [
      "313/313 [==============================] - 0s 12us/step - loss: 0.6376 - accuracy: 0.6294\n",
      "Epoch 81/100\n",
      "313/313 [==============================] - 0s 11us/step - loss: 0.6555 - accuracy: 0.6102\n",
      "Epoch 82/100\n",
      "313/313 [==============================] - 0s 13us/step - loss: 0.6414 - accuracy: 0.6166\n",
      "Epoch 83/100\n",
      "313/313 [==============================] - 0s 13us/step - loss: 0.6398 - accuracy: 0.6358\n",
      "Epoch 84/100\n",
      "313/313 [==============================] - 0s 12us/step - loss: 0.6481 - accuracy: 0.6294\n",
      "Epoch 85/100\n",
      "313/313 [==============================] - 0s 16us/step - loss: 0.6447 - accuracy: 0.6230\n",
      "Epoch 86/100\n",
      "313/313 [==============================] - 0s 16us/step - loss: 0.6513 - accuracy: 0.6326\n",
      "Epoch 87/100\n",
      "313/313 [==============================] - 0s 12us/step - loss: 0.6427 - accuracy: 0.6422\n",
      "Epoch 88/100\n",
      "313/313 [==============================] - 0s 11us/step - loss: 0.6439 - accuracy: 0.6262\n",
      "Epoch 89/100\n",
      "313/313 [==============================] - 0s 14us/step - loss: 0.6446 - accuracy: 0.5911\n",
      "Epoch 90/100\n",
      "313/313 [==============================] - 0s 13us/step - loss: 0.6456 - accuracy: 0.6166\n",
      "Epoch 91/100\n",
      "313/313 [==============================] - 0s 11us/step - loss: 0.6310 - accuracy: 0.6262\n",
      "Epoch 92/100\n",
      "313/313 [==============================] - 0s 13us/step - loss: 0.6385 - accuracy: 0.6262\n",
      "Epoch 93/100\n",
      "313/313 [==============================] - 0s 19us/step - loss: 0.6402 - accuracy: 0.6390\n",
      "Epoch 94/100\n",
      "313/313 [==============================] - 0s 16us/step - loss: 0.6464 - accuracy: 0.6262\n",
      "Epoch 95/100\n",
      "313/313 [==============================] - 0s 11us/step - loss: 0.6399 - accuracy: 0.6230\n",
      "Epoch 96/100\n",
      "313/313 [==============================] - 0s 12us/step - loss: 0.6546 - accuracy: 0.6166\n",
      "Epoch 97/100\n",
      "313/313 [==============================] - 0s 13us/step - loss: 0.6422 - accuracy: 0.6038\n",
      "Epoch 98/100\n",
      "313/313 [==============================] - 0s 12us/step - loss: 0.6384 - accuracy: 0.6230\n",
      "Epoch 99/100\n",
      "313/313 [==============================] - 0s 12us/step - loss: 0.6427 - accuracy: 0.6294\n",
      "Epoch 100/100\n",
      "313/313 [==============================] - 0s 11us/step - loss: 0.6352 - accuracy: 0.6390\n",
      "Model took 1.0706970691680908 seconds to train.\n"
     ]
    }
   ],
   "source": [
    "t_start = time.time()\n",
    "\n",
    "history = model.fit(x_train_s, y_train,\n",
    "                   epochs=100, batch_size=200)\n",
    "\n",
    "t_end = time.time()\n",
    "print(f'Model took {t_end-t_start} seconds to train.')"
   ]
  },
  {
   "cell_type": "code",
   "execution_count": 754,
   "metadata": {
    "scrolled": false
   },
   "outputs": [
    {
     "data": {
      "image/png": "[encoded data removed]",
      "text/plain": [
       "<Figure size 432x288 with 1 Axes>"
      ]
     },
     "metadata": {
      "needs_background": "light"
     },
     "output_type": "display_data"
    }
   ],
   "source": [
    "plt.plot(history.history['accuracy'])\n",
    "# plt.plot(history.history['val_accuracy'])\n",
    "plt.title('Model Accuracy')\n",
    "plt.ylabel('accuracy')\n",
    "plt.xlabel('epoch')\n",
    "# plt.legend(['train', 'test'], loc='upper left')\n",
    "plt.show()"
   ]
  },
  {
   "cell_type": "code",
   "execution_count": 537,
   "metadata": {
    "scrolled": true
   },
   "outputs": [
    {
     "data": {
      "text/plain": [
       "0.5569620253164557"
      ]
     },
     "execution_count": 537,
     "metadata": {},
     "output_type": "execute_result"
    }
   ],
   "source": [
    "y_pred = model.predict_classes(x_test_s)\n",
    "# y_test_int = np.argmax(y_test, axis = 1)\n",
    "f1_score(y_test, y_pred, average='micro')"
   ]
  },
  {
   "cell_type": "code",
   "execution_count": 417,
   "metadata": {
    "scrolled": true
   },
   "outputs": [
    {
     "data": {
      "text/plain": [
       "(79, 12)"
      ]
     },
     "execution_count": 417,
     "metadata": {},
     "output_type": "execute_result"
    }
   ],
   "source": [
    "x_test.shape"
   ]
  },
  {
   "cell_type": "code",
   "execution_count": 755,
   "metadata": {
    "scrolled": true
   },
   "outputs": [
    {
     "name": "stdout",
     "output_type": "stream",
     "text": [
      "              precision    recall  f1-score   support\n",
      "\n",
      "           0       0.58      1.00      0.73        45\n",
      "           1       1.00      0.03      0.06        34\n",
      "\n",
      "    accuracy                           0.58        79\n",
      "   macro avg       0.79      0.51      0.39        79\n",
      "weighted avg       0.76      0.58      0.44        79\n",
      "\n"
     ]
    }
   ],
   "source": [
    "y_pred = model.predict_classes(x_test_s)\n",
    "print(classification_report(y_test, y_pred))"
   ]
  },
  {
   "cell_type": "code",
   "execution_count": 756,
   "metadata": {
    "scrolled": true
   },
   "outputs": [
    {
     "name": "stdout",
     "output_type": "stream",
     "text": [
      "Accuracy score for NN model: 0.58\n"
     ]
    }
   ],
   "source": [
    "print(f'Accuracy score for NN model: {accuracy_score(y_test, y_pred):.2f}')"
   ]
  },
  {
   "cell_type": "code",
   "execution_count": null,
   "metadata": {},
   "outputs": [],
   "source": []
  },
  {
   "cell_type": "code",
   "execution_count": 261,
   "metadata": {
    "scrolled": true
   },
   "outputs": [
    {
     "data": {
      "text/plain": [
       "array([[0],\n",
       "       [0],\n",
       "       [0],\n",
       "       [0],\n",
       "       [1],\n",
       "       [0],\n",
       "       [0],\n",
       "       [0],\n",
       "       [0],\n",
       "       [0],\n",
       "       [0],\n",
       "       [0],\n",
       "       [1],\n",
       "       [0],\n",
       "       [0],\n",
       "       [0],\n",
       "       [0],\n",
       "       [1],\n",
       "       [1],\n",
       "       [0],\n",
       "       [0],\n",
       "       [0],\n",
       "       [0],\n",
       "       [0],\n",
       "       [1],\n",
       "       [0],\n",
       "       [0],\n",
       "       [0],\n",
       "       [1],\n",
       "       [0],\n",
       "       [0],\n",
       "       [1],\n",
       "       [0],\n",
       "       [0],\n",
       "       [0],\n",
       "       [0],\n",
       "       [1],\n",
       "       [0],\n",
       "       [1],\n",
       "       [1],\n",
       "       [0],\n",
       "       [1],\n",
       "       [0],\n",
       "       [1],\n",
       "       [0],\n",
       "       [1],\n",
       "       [0],\n",
       "       [0],\n",
       "       [1],\n",
       "       [0],\n",
       "       [0]], dtype=int32)"
      ]
     },
     "execution_count": 261,
     "metadata": {},
     "output_type": "execute_result"
    }
   ],
   "source": [
    "y_pred"
   ]
  },
  {
   "cell_type": "code",
   "execution_count": null,
   "metadata": {},
   "outputs": [],
   "source": []
  },
  {
   "cell_type": "code",
   "execution_count": null,
   "metadata": {},
   "outputs": [],
   "source": []
  },
  {
   "cell_type": "code",
   "execution_count": null,
   "metadata": {},
   "outputs": [],
   "source": []
  },
  {
   "cell_type": "code",
   "execution_count": 612,
   "metadata": {},
   "outputs": [],
   "source": [
    "X = data.drop(['Reviews', 'Churn'], axis=1)\n",
    "Y = data['Churn']"
   ]
  },
  {
   "cell_type": "code",
   "execution_count": 583,
   "metadata": {},
   "outputs": [
    {
     "data": {
      "text/html": [
       "<div>\n",
       "<style scoped>\n",
       "    .dataframe tbody tr th:only-of-type {\n",
       "        vertical-align: middle;\n",
       "    }\n",
       "\n",
       "    .dataframe tbody tr th {\n",
       "        vertical-align: top;\n",
       "    }\n",
       "\n",
       "    .dataframe thead th {\n",
       "        text-align: right;\n",
       "    }\n",
       "</style>\n",
       "<table border=\"1\" class=\"dataframe\">\n",
       "  <thead>\n",
       "    <tr style=\"text-align: right;\">\n",
       "      <th></th>\n",
       "      <th>Gender_Male</th>\n",
       "      <th>Subscription_Yes</th>\n",
       "      <th>LastRating_1</th>\n",
       "      <th>LastRating_2</th>\n",
       "      <th>LastRating_3</th>\n",
       "      <th>LastRating_4</th>\n",
       "      <th>LastReview_neg</th>\n",
       "      <th>LastReview_neu</th>\n",
       "      <th>idx</th>\n",
       "    </tr>\n",
       "  </thead>\n",
       "  <tbody>\n",
       "    <tr>\n",
       "      <td>0</td>\n",
       "      <td>0</td>\n",
       "      <td>1</td>\n",
       "      <td>0</td>\n",
       "      <td>0</td>\n",
       "      <td>0</td>\n",
       "      <td>1</td>\n",
       "      <td>0</td>\n",
       "      <td>1</td>\n",
       "      <td>0</td>\n",
       "    </tr>\n",
       "    <tr>\n",
       "      <td>1</td>\n",
       "      <td>1</td>\n",
       "      <td>0</td>\n",
       "      <td>0</td>\n",
       "      <td>1</td>\n",
       "      <td>0</td>\n",
       "      <td>0</td>\n",
       "      <td>0</td>\n",
       "      <td>0</td>\n",
       "      <td>1</td>\n",
       "    </tr>\n",
       "    <tr>\n",
       "      <td>2</td>\n",
       "      <td>0</td>\n",
       "      <td>0</td>\n",
       "      <td>0</td>\n",
       "      <td>0</td>\n",
       "      <td>1</td>\n",
       "      <td>0</td>\n",
       "      <td>1</td>\n",
       "      <td>0</td>\n",
       "      <td>2</td>\n",
       "    </tr>\n",
       "    <tr>\n",
       "      <td>3</td>\n",
       "      <td>0</td>\n",
       "      <td>0</td>\n",
       "      <td>1</td>\n",
       "      <td>0</td>\n",
       "      <td>0</td>\n",
       "      <td>0</td>\n",
       "      <td>1</td>\n",
       "      <td>0</td>\n",
       "      <td>3</td>\n",
       "    </tr>\n",
       "    <tr>\n",
       "      <td>4</td>\n",
       "      <td>1</td>\n",
       "      <td>0</td>\n",
       "      <td>0</td>\n",
       "      <td>0</td>\n",
       "      <td>0</td>\n",
       "      <td>0</td>\n",
       "      <td>0</td>\n",
       "      <td>0</td>\n",
       "      <td>4</td>\n",
       "    </tr>\n",
       "    <tr>\n",
       "      <td>...</td>\n",
       "      <td>...</td>\n",
       "      <td>...</td>\n",
       "      <td>...</td>\n",
       "      <td>...</td>\n",
       "      <td>...</td>\n",
       "      <td>...</td>\n",
       "      <td>...</td>\n",
       "      <td>...</td>\n",
       "      <td>...</td>\n",
       "    </tr>\n",
       "    <tr>\n",
       "      <td>387</td>\n",
       "      <td>0</td>\n",
       "      <td>0</td>\n",
       "      <td>0</td>\n",
       "      <td>1</td>\n",
       "      <td>0</td>\n",
       "      <td>0</td>\n",
       "      <td>0</td>\n",
       "      <td>0</td>\n",
       "      <td>387</td>\n",
       "    </tr>\n",
       "    <tr>\n",
       "      <td>388</td>\n",
       "      <td>1</td>\n",
       "      <td>0</td>\n",
       "      <td>0</td>\n",
       "      <td>0</td>\n",
       "      <td>0</td>\n",
       "      <td>0</td>\n",
       "      <td>1</td>\n",
       "      <td>0</td>\n",
       "      <td>388</td>\n",
       "    </tr>\n",
       "    <tr>\n",
       "      <td>389</td>\n",
       "      <td>0</td>\n",
       "      <td>0</td>\n",
       "      <td>0</td>\n",
       "      <td>0</td>\n",
       "      <td>0</td>\n",
       "      <td>0</td>\n",
       "      <td>1</td>\n",
       "      <td>0</td>\n",
       "      <td>389</td>\n",
       "    </tr>\n",
       "    <tr>\n",
       "      <td>390</td>\n",
       "      <td>0</td>\n",
       "      <td>0</td>\n",
       "      <td>0</td>\n",
       "      <td>0</td>\n",
       "      <td>1</td>\n",
       "      <td>0</td>\n",
       "      <td>0</td>\n",
       "      <td>0</td>\n",
       "      <td>390</td>\n",
       "    </tr>\n",
       "    <tr>\n",
       "      <td>391</td>\n",
       "      <td>1</td>\n",
       "      <td>0</td>\n",
       "      <td>0</td>\n",
       "      <td>0</td>\n",
       "      <td>1</td>\n",
       "      <td>0</td>\n",
       "      <td>1</td>\n",
       "      <td>0</td>\n",
       "      <td>391</td>\n",
       "    </tr>\n",
       "  </tbody>\n",
       "</table>\n",
       "<p>392 rows × 9 columns</p>\n",
       "</div>"
      ],
      "text/plain": [
       "     Gender_Male  Subscription_Yes  LastRating_1  LastRating_2  LastRating_3  \\\n",
       "0              0                 1             0             0             0   \n",
       "1              1                 0             0             1             0   \n",
       "2              0                 0             0             0             1   \n",
       "3              0                 0             1             0             0   \n",
       "4              1                 0             0             0             0   \n",
       "..           ...               ...           ...           ...           ...   \n",
       "387            0                 0             0             1             0   \n",
       "388            1                 0             0             0             0   \n",
       "389            0                 0             0             0             0   \n",
       "390            0                 0             0             0             1   \n",
       "391            1                 0             0             0             1   \n",
       "\n",
       "     LastRating_4  LastReview_neg  LastReview_neu  idx  \n",
       "0               1               0               1    0  \n",
       "1               0               0               0    1  \n",
       "2               0               1               0    2  \n",
       "3               0               1               0    3  \n",
       "4               0               0               0    4  \n",
       "..            ...             ...             ...  ...  \n",
       "387             0               0               0  387  \n",
       "388             0               1               0  388  \n",
       "389             0               1               0  389  \n",
       "390             0               0               0  390  \n",
       "391             0               1               0  391  \n",
       "\n",
       "[392 rows x 9 columns]"
      ]
     },
     "execution_count": 583,
     "metadata": {},
     "output_type": "execute_result"
    }
   ],
   "source": [
    "X_cat"
   ]
  },
  {
   "cell_type": "code",
   "execution_count": 614,
   "metadata": {
    "scrolled": false
   },
   "outputs": [
    {
     "data": {
      "text/html": [
       "<div>\n",
       "<style scoped>\n",
       "    .dataframe tbody tr th:only-of-type {\n",
       "        vertical-align: middle;\n",
       "    }\n",
       "\n",
       "    .dataframe tbody tr th {\n",
       "        vertical-align: top;\n",
       "    }\n",
       "\n",
       "    .dataframe thead th {\n",
       "        text-align: right;\n",
       "    }\n",
       "</style>\n",
       "<table border=\"1\" class=\"dataframe\">\n",
       "  <thead>\n",
       "    <tr style=\"text-align: right;\">\n",
       "      <th></th>\n",
       "      <th>Gender</th>\n",
       "      <th>Age</th>\n",
       "      <th>AccountWeeks</th>\n",
       "      <th>Subscription</th>\n",
       "      <th>AvgRides</th>\n",
       "      <th>AvgSpend</th>\n",
       "      <th>LastReview</th>\n",
       "      <th>LastRating_1</th>\n",
       "      <th>LastRating_2</th>\n",
       "      <th>LastRating_3</th>\n",
       "      <th>LastRating_4</th>\n",
       "    </tr>\n",
       "  </thead>\n",
       "  <tbody>\n",
       "    <tr>\n",
       "      <td>0</td>\n",
       "      <td>Female</td>\n",
       "      <td>26</td>\n",
       "      <td>157</td>\n",
       "      <td>Yes</td>\n",
       "      <td>29</td>\n",
       "      <td>156</td>\n",
       "      <td>neu</td>\n",
       "      <td>0</td>\n",
       "      <td>0</td>\n",
       "      <td>0</td>\n",
       "      <td>1</td>\n",
       "    </tr>\n",
       "    <tr>\n",
       "      <td>1</td>\n",
       "      <td>Male</td>\n",
       "      <td>22</td>\n",
       "      <td>10</td>\n",
       "      <td>No</td>\n",
       "      <td>15</td>\n",
       "      <td>196</td>\n",
       "      <td>pos</td>\n",
       "      <td>0</td>\n",
       "      <td>1</td>\n",
       "      <td>0</td>\n",
       "      <td>0</td>\n",
       "    </tr>\n",
       "    <tr>\n",
       "      <td>2</td>\n",
       "      <td>Female</td>\n",
       "      <td>59</td>\n",
       "      <td>65</td>\n",
       "      <td>No</td>\n",
       "      <td>8</td>\n",
       "      <td>181</td>\n",
       "      <td>neg</td>\n",
       "      <td>0</td>\n",
       "      <td>0</td>\n",
       "      <td>1</td>\n",
       "      <td>0</td>\n",
       "    </tr>\n",
       "    <tr>\n",
       "      <td>3</td>\n",
       "      <td>Female</td>\n",
       "      <td>32</td>\n",
       "      <td>82</td>\n",
       "      <td>No</td>\n",
       "      <td>21</td>\n",
       "      <td>103</td>\n",
       "      <td>neg</td>\n",
       "      <td>1</td>\n",
       "      <td>0</td>\n",
       "      <td>0</td>\n",
       "      <td>0</td>\n",
       "    </tr>\n",
       "    <tr>\n",
       "      <td>4</td>\n",
       "      <td>Male</td>\n",
       "      <td>35</td>\n",
       "      <td>95</td>\n",
       "      <td>No</td>\n",
       "      <td>19</td>\n",
       "      <td>40</td>\n",
       "      <td>pos</td>\n",
       "      <td>0</td>\n",
       "      <td>0</td>\n",
       "      <td>0</td>\n",
       "      <td>0</td>\n",
       "    </tr>\n",
       "    <tr>\n",
       "      <td>...</td>\n",
       "      <td>...</td>\n",
       "      <td>...</td>\n",
       "      <td>...</td>\n",
       "      <td>...</td>\n",
       "      <td>...</td>\n",
       "      <td>...</td>\n",
       "      <td>...</td>\n",
       "      <td>...</td>\n",
       "      <td>...</td>\n",
       "      <td>...</td>\n",
       "      <td>...</td>\n",
       "    </tr>\n",
       "    <tr>\n",
       "      <td>387</td>\n",
       "      <td>Female</td>\n",
       "      <td>72</td>\n",
       "      <td>115</td>\n",
       "      <td>No</td>\n",
       "      <td>29</td>\n",
       "      <td>48</td>\n",
       "      <td>pos</td>\n",
       "      <td>0</td>\n",
       "      <td>1</td>\n",
       "      <td>0</td>\n",
       "      <td>0</td>\n",
       "    </tr>\n",
       "    <tr>\n",
       "      <td>388</td>\n",
       "      <td>Male</td>\n",
       "      <td>26</td>\n",
       "      <td>97</td>\n",
       "      <td>No</td>\n",
       "      <td>25</td>\n",
       "      <td>29</td>\n",
       "      <td>neg</td>\n",
       "      <td>0</td>\n",
       "      <td>0</td>\n",
       "      <td>0</td>\n",
       "      <td>0</td>\n",
       "    </tr>\n",
       "    <tr>\n",
       "      <td>389</td>\n",
       "      <td>Female</td>\n",
       "      <td>37</td>\n",
       "      <td>81</td>\n",
       "      <td>No</td>\n",
       "      <td>21</td>\n",
       "      <td>149</td>\n",
       "      <td>neg</td>\n",
       "      <td>0</td>\n",
       "      <td>0</td>\n",
       "      <td>0</td>\n",
       "      <td>0</td>\n",
       "    </tr>\n",
       "    <tr>\n",
       "      <td>390</td>\n",
       "      <td>Female</td>\n",
       "      <td>48</td>\n",
       "      <td>115</td>\n",
       "      <td>No</td>\n",
       "      <td>10</td>\n",
       "      <td>17</td>\n",
       "      <td>pos</td>\n",
       "      <td>0</td>\n",
       "      <td>0</td>\n",
       "      <td>1</td>\n",
       "      <td>0</td>\n",
       "    </tr>\n",
       "    <tr>\n",
       "      <td>391</td>\n",
       "      <td>Male</td>\n",
       "      <td>52</td>\n",
       "      <td>88</td>\n",
       "      <td>No</td>\n",
       "      <td>9</td>\n",
       "      <td>29</td>\n",
       "      <td>neg</td>\n",
       "      <td>0</td>\n",
       "      <td>0</td>\n",
       "      <td>1</td>\n",
       "      <td>0</td>\n",
       "    </tr>\n",
       "  </tbody>\n",
       "</table>\n",
       "<p>392 rows × 11 columns</p>\n",
       "</div>"
      ],
      "text/plain": [
       "     Gender  Age  AccountWeeks Subscription  AvgRides  AvgSpend LastReview  \\\n",
       "0    Female   26           157          Yes        29       156        neu   \n",
       "1      Male   22            10           No        15       196        pos   \n",
       "2    Female   59            65           No         8       181        neg   \n",
       "3    Female   32            82           No        21       103        neg   \n",
       "4      Male   35            95           No        19        40        pos   \n",
       "..      ...  ...           ...          ...       ...       ...        ...   \n",
       "387  Female   72           115           No        29        48        pos   \n",
       "388    Male   26            97           No        25        29        neg   \n",
       "389  Female   37            81           No        21       149        neg   \n",
       "390  Female   48           115           No        10        17        pos   \n",
       "391    Male   52            88           No         9        29        neg   \n",
       "\n",
       "     LastRating_1  LastRating_2  LastRating_3  LastRating_4  \n",
       "0               0             0             0             1  \n",
       "1               0             1             0             0  \n",
       "2               0             0             1             0  \n",
       "3               1             0             0             0  \n",
       "4               0             0             0             0  \n",
       "..            ...           ...           ...           ...  \n",
       "387             0             1             0             0  \n",
       "388             0             0             0             0  \n",
       "389             0             0             0             0  \n",
       "390             0             0             1             0  \n",
       "391             0             0             1             0  \n",
       "\n",
       "[392 rows x 11 columns]"
      ]
     },
     "execution_count": 614,
     "metadata": {},
     "output_type": "execute_result"
    }
   ],
   "source": [
    "X = pd.concat([X, X_cat[['LastRating_1', 'LastRating_2', 'LastRating_3', 'LastRating_4']]], axis=1)\n",
    "X.drop('LastRating', axis=1, inplace=True)\n",
    "X"
   ]
  },
  {
   "cell_type": "code",
   "execution_count": 543,
   "metadata": {},
   "outputs": [],
   "source": [
    "X['LastRating'] = X['LastRating'].astype('str')"
   ]
  },
  {
   "cell_type": "code",
   "execution_count": 615,
   "metadata": {
    "scrolled": true
   },
   "outputs": [
    {
     "name": "stdout",
     "output_type": "stream",
     "text": [
      "<class 'pandas.core.frame.DataFrame'>\n",
      "RangeIndex: 392 entries, 0 to 391\n",
      "Data columns (total 11 columns):\n",
      "Gender          392 non-null object\n",
      "Age             392 non-null int64\n",
      "AccountWeeks    392 non-null int64\n",
      "Subscription    392 non-null object\n",
      "AvgRides        392 non-null int64\n",
      "AvgSpend        392 non-null int64\n",
      "LastReview      392 non-null object\n",
      "LastRating_1    392 non-null uint8\n",
      "LastRating_2    392 non-null uint8\n",
      "LastRating_3    392 non-null uint8\n",
      "LastRating_4    392 non-null uint8\n",
      "dtypes: int64(4), object(3), uint8(4)\n",
      "memory usage: 23.1+ KB\n"
     ]
    }
   ],
   "source": [
    "X.info()"
   ]
  },
  {
   "cell_type": "code",
   "execution_count": 648,
   "metadata": {},
   "outputs": [],
   "source": [
    "X['LastRating_1'] = X['LastRating_1'].astype('int64')\n",
    "X['LastRating_2'] = X['LastRating_2'].astype('int64')\n",
    "X['LastRating_3'] = X['LastRating_3'].astype('int64')\n",
    "X['LastRating_4'] = X['LastRating_4'].astype('int64')"
   ]
  },
  {
   "cell_type": "code",
   "execution_count": 649,
   "metadata": {},
   "outputs": [
    {
     "data": {
      "text/html": [
       "<div>\n",
       "<style scoped>\n",
       "    .dataframe tbody tr th:only-of-type {\n",
       "        vertical-align: middle;\n",
       "    }\n",
       "\n",
       "    .dataframe tbody tr th {\n",
       "        vertical-align: top;\n",
       "    }\n",
       "\n",
       "    .dataframe thead th {\n",
       "        text-align: right;\n",
       "    }\n",
       "</style>\n",
       "<table border=\"1\" class=\"dataframe\">\n",
       "  <thead>\n",
       "    <tr style=\"text-align: right;\">\n",
       "      <th></th>\n",
       "      <th>Gender</th>\n",
       "      <th>Age</th>\n",
       "      <th>AccountWeeks</th>\n",
       "      <th>Subscription</th>\n",
       "      <th>AvgRides</th>\n",
       "      <th>AvgSpend</th>\n",
       "      <th>LastReview</th>\n",
       "      <th>LastRating_1</th>\n",
       "      <th>LastRating_2</th>\n",
       "      <th>LastRating_3</th>\n",
       "      <th>LastRating_4</th>\n",
       "    </tr>\n",
       "  </thead>\n",
       "  <tbody>\n",
       "    <tr>\n",
       "      <td>0</td>\n",
       "      <td>Female</td>\n",
       "      <td>26</td>\n",
       "      <td>157</td>\n",
       "      <td>Yes</td>\n",
       "      <td>29</td>\n",
       "      <td>156</td>\n",
       "      <td>neu</td>\n",
       "      <td>0</td>\n",
       "      <td>0</td>\n",
       "      <td>0</td>\n",
       "      <td>1</td>\n",
       "    </tr>\n",
       "    <tr>\n",
       "      <td>1</td>\n",
       "      <td>Male</td>\n",
       "      <td>22</td>\n",
       "      <td>10</td>\n",
       "      <td>No</td>\n",
       "      <td>15</td>\n",
       "      <td>196</td>\n",
       "      <td>pos</td>\n",
       "      <td>0</td>\n",
       "      <td>1</td>\n",
       "      <td>0</td>\n",
       "      <td>0</td>\n",
       "    </tr>\n",
       "    <tr>\n",
       "      <td>2</td>\n",
       "      <td>Female</td>\n",
       "      <td>59</td>\n",
       "      <td>65</td>\n",
       "      <td>No</td>\n",
       "      <td>8</td>\n",
       "      <td>181</td>\n",
       "      <td>neg</td>\n",
       "      <td>0</td>\n",
       "      <td>0</td>\n",
       "      <td>1</td>\n",
       "      <td>0</td>\n",
       "    </tr>\n",
       "    <tr>\n",
       "      <td>3</td>\n",
       "      <td>Female</td>\n",
       "      <td>32</td>\n",
       "      <td>82</td>\n",
       "      <td>No</td>\n",
       "      <td>21</td>\n",
       "      <td>103</td>\n",
       "      <td>neg</td>\n",
       "      <td>1</td>\n",
       "      <td>0</td>\n",
       "      <td>0</td>\n",
       "      <td>0</td>\n",
       "    </tr>\n",
       "    <tr>\n",
       "      <td>4</td>\n",
       "      <td>Male</td>\n",
       "      <td>35</td>\n",
       "      <td>95</td>\n",
       "      <td>No</td>\n",
       "      <td>19</td>\n",
       "      <td>40</td>\n",
       "      <td>pos</td>\n",
       "      <td>0</td>\n",
       "      <td>0</td>\n",
       "      <td>0</td>\n",
       "      <td>0</td>\n",
       "    </tr>\n",
       "    <tr>\n",
       "      <td>...</td>\n",
       "      <td>...</td>\n",
       "      <td>...</td>\n",
       "      <td>...</td>\n",
       "      <td>...</td>\n",
       "      <td>...</td>\n",
       "      <td>...</td>\n",
       "      <td>...</td>\n",
       "      <td>...</td>\n",
       "      <td>...</td>\n",
       "      <td>...</td>\n",
       "      <td>...</td>\n",
       "    </tr>\n",
       "    <tr>\n",
       "      <td>387</td>\n",
       "      <td>Female</td>\n",
       "      <td>72</td>\n",
       "      <td>115</td>\n",
       "      <td>No</td>\n",
       "      <td>29</td>\n",
       "      <td>48</td>\n",
       "      <td>pos</td>\n",
       "      <td>0</td>\n",
       "      <td>1</td>\n",
       "      <td>0</td>\n",
       "      <td>0</td>\n",
       "    </tr>\n",
       "    <tr>\n",
       "      <td>388</td>\n",
       "      <td>Male</td>\n",
       "      <td>26</td>\n",
       "      <td>97</td>\n",
       "      <td>No</td>\n",
       "      <td>25</td>\n",
       "      <td>29</td>\n",
       "      <td>neg</td>\n",
       "      <td>0</td>\n",
       "      <td>0</td>\n",
       "      <td>0</td>\n",
       "      <td>0</td>\n",
       "    </tr>\n",
       "    <tr>\n",
       "      <td>389</td>\n",
       "      <td>Female</td>\n",
       "      <td>37</td>\n",
       "      <td>81</td>\n",
       "      <td>No</td>\n",
       "      <td>21</td>\n",
       "      <td>149</td>\n",
       "      <td>neg</td>\n",
       "      <td>0</td>\n",
       "      <td>0</td>\n",
       "      <td>0</td>\n",
       "      <td>0</td>\n",
       "    </tr>\n",
       "    <tr>\n",
       "      <td>390</td>\n",
       "      <td>Female</td>\n",
       "      <td>48</td>\n",
       "      <td>115</td>\n",
       "      <td>No</td>\n",
       "      <td>10</td>\n",
       "      <td>17</td>\n",
       "      <td>pos</td>\n",
       "      <td>0</td>\n",
       "      <td>0</td>\n",
       "      <td>1</td>\n",
       "      <td>0</td>\n",
       "    </tr>\n",
       "    <tr>\n",
       "      <td>391</td>\n",
       "      <td>Male</td>\n",
       "      <td>52</td>\n",
       "      <td>88</td>\n",
       "      <td>No</td>\n",
       "      <td>9</td>\n",
       "      <td>29</td>\n",
       "      <td>neg</td>\n",
       "      <td>0</td>\n",
       "      <td>0</td>\n",
       "      <td>1</td>\n",
       "      <td>0</td>\n",
       "    </tr>\n",
       "  </tbody>\n",
       "</table>\n",
       "<p>392 rows × 11 columns</p>\n",
       "</div>"
      ],
      "text/plain": [
       "     Gender  Age  AccountWeeks Subscription  AvgRides  AvgSpend LastReview  \\\n",
       "0    Female   26           157          Yes        29       156        neu   \n",
       "1      Male   22            10           No        15       196        pos   \n",
       "2    Female   59            65           No         8       181        neg   \n",
       "3    Female   32            82           No        21       103        neg   \n",
       "4      Male   35            95           No        19        40        pos   \n",
       "..      ...  ...           ...          ...       ...       ...        ...   \n",
       "387  Female   72           115           No        29        48        pos   \n",
       "388    Male   26            97           No        25        29        neg   \n",
       "389  Female   37            81           No        21       149        neg   \n",
       "390  Female   48           115           No        10        17        pos   \n",
       "391    Male   52            88           No         9        29        neg   \n",
       "\n",
       "     LastRating_1  LastRating_2  LastRating_3  LastRating_4  \n",
       "0               0             0             0             1  \n",
       "1               0             1             0             0  \n",
       "2               0             0             1             0  \n",
       "3               1             0             0             0  \n",
       "4               0             0             0             0  \n",
       "..            ...           ...           ...           ...  \n",
       "387             0             1             0             0  \n",
       "388             0             0             0             0  \n",
       "389             0             0             0             0  \n",
       "390             0             0             1             0  \n",
       "391             0             0             1             0  \n",
       "\n",
       "[392 rows x 11 columns]"
      ]
     },
     "execution_count": 649,
     "metadata": {},
     "output_type": "execute_result"
    }
   ],
   "source": [
    "X"
   ]
  },
  {
   "cell_type": "code",
   "execution_count": 650,
   "metadata": {},
   "outputs": [
    {
     "name": "stdout",
     "output_type": "stream",
     "text": [
      "<class 'pandas.core.frame.DataFrame'>\n",
      "RangeIndex: 392 entries, 0 to 391\n",
      "Data columns (total 11 columns):\n",
      "Gender          392 non-null object\n",
      "Age             392 non-null int64\n",
      "AccountWeeks    392 non-null int64\n",
      "Subscription    392 non-null object\n",
      "AvgRides        392 non-null int64\n",
      "AvgSpend        392 non-null int64\n",
      "LastReview      392 non-null object\n",
      "LastRating_1    392 non-null int64\n",
      "LastRating_2    392 non-null int64\n",
      "LastRating_3    392 non-null int64\n",
      "LastRating_4    392 non-null int64\n",
      "dtypes: int64(8), object(3)\n",
      "memory usage: 33.8+ KB\n"
     ]
    }
   ],
   "source": [
    "X.info()"
   ]
  },
  {
   "cell_type": "code",
   "execution_count": 651,
   "metadata": {},
   "outputs": [],
   "source": [
    "x_train,x_test,y_train,y_test = train_test_split(X,Y,test_size=0.2, random_state=42)"
   ]
  },
  {
   "cell_type": "code",
   "execution_count": 652,
   "metadata": {},
   "outputs": [],
   "source": [
    "categorical_columns = ['Gender', 'Subscription', 'LastRating_1', 'LastRating_2', 'LastRating_3', 'LastRating_4', 'LastReview']\n",
    "numerical_columns = ['Age', 'AccountWeeks', 'AvgRides', 'AvgSpend']"
   ]
  },
  {
   "cell_type": "code",
   "execution_count": 653,
   "metadata": {},
   "outputs": [],
   "source": [
    "feature_columns = []\n",
    "\n",
    "for feature_name in categorical_columns:\n",
    "    vocabulary = x_train[feature_name].unique()\n",
    "    feature_columns.append(tf.feature_column.categorical_column_with_vocabulary_list(feature_name, vocabulary))\n",
    "    \n",
    "for feature_name in numerical_columns:\n",
    "    feature_columns.append(tf.feature_column.numeric_column(feature_name, dtype=tf.float32))"
   ]
  },
  {
   "cell_type": "code",
   "execution_count": 644,
   "metadata": {},
   "outputs": [],
   "source": [
    "def make_input_fn(data_df, label_df, num_epochs=10, shuffle=True, batch_size=32):\n",
    "    def input_function():\n",
    "        ds = tf.data.Dataset.from_tensor_slices((dict(data_df), label_df))\n",
    "        \n",
    "        if shuffle:\n",
    "            ds = ds.shuffle(1000)\n",
    "            \n",
    "        ds = ds.batch(batch_size).repeat(num_epochs)\n",
    "        \n",
    "        return ds\n",
    "    \n",
    "    return input_function"
   ]
  },
  {
   "cell_type": "code",
   "execution_count": 654,
   "metadata": {},
   "outputs": [],
   "source": [
    "def make_input_fn(df):\n",
    "    def pandas_to_tf(pdcol):\n",
    "    # convert the pandas column values to float\n",
    "        t = tf.constant(pdcol.astype('float32').values)\n",
    "    # take the column which is of shape (N) and make it (N, 1)\n",
    "        return tf.expand_dims(t, -1)\n",
    "\n",
    "    def input_fn():\n",
    "    # create features, columns\n",
    "        features = {k: pandas_to_tf(df[k]) for k in FEATURES}\n",
    "        labels = tf.constant(df[TARGET].values)\n",
    "        return features, labels\n",
    "    return input_fn\n",
    "\n",
    "def make_feature_cols():\n",
    "    input_columns = [tf.contrib.layers.real_valued_column(k) for k in FEATURES]\n",
    "    return input_columns"
   ]
  },
  {
   "cell_type": "code",
   "execution_count": 655,
   "metadata": {},
   "outputs": [
    {
     "ename": "TypeError",
     "evalue": "make_input_fn() takes 1 positional argument but 2 were given",
     "output_type": "error",
     "traceback": [
      "\u001b[0;31m---------------------------------------------------------------------------\u001b[0m",
      "\u001b[0;31mTypeError\u001b[0m                                 Traceback (most recent call last)",
      "\u001b[0;32m<ipython-input-655-b3f7d25d734d>\u001b[0m in \u001b[0;36m<module>\u001b[0;34m\u001b[0m\n\u001b[0;32m----> 1\u001b[0;31m \u001b[0mtrain_input_fn\u001b[0m \u001b[0;34m=\u001b[0m \u001b[0mmake_input_fn\u001b[0m\u001b[0;34m(\u001b[0m\u001b[0mx_train\u001b[0m\u001b[0;34m,\u001b[0m \u001b[0my_train\u001b[0m\u001b[0;34m)\u001b[0m\u001b[0;34m\u001b[0m\u001b[0;34m\u001b[0m\u001b[0m\n\u001b[0m\u001b[1;32m      2\u001b[0m \u001b[0meval_input_fn\u001b[0m \u001b[0;34m=\u001b[0m \u001b[0mmake_input_fn\u001b[0m\u001b[0;34m(\u001b[0m\u001b[0mx_test\u001b[0m\u001b[0;34m,\u001b[0m \u001b[0my_test\u001b[0m\u001b[0;34m,\u001b[0m \u001b[0mnum_epochs\u001b[0m\u001b[0;34m=\u001b[0m\u001b[0;36m1\u001b[0m\u001b[0;34m,\u001b[0m \u001b[0mshuffle\u001b[0m\u001b[0;34m=\u001b[0m\u001b[0;32mFalse\u001b[0m\u001b[0;34m)\u001b[0m\u001b[0;34m\u001b[0m\u001b[0;34m\u001b[0m\u001b[0m\n",
      "\u001b[0;31mTypeError\u001b[0m: make_input_fn() takes 1 positional argument but 2 were given"
     ]
    }
   ],
   "source": [
    "train_input_fn = make_input_fn(x_train, y_train)\n",
    "eval_input_fn = make_input_fn(x_test, y_test, num_epochs=1, shuffle=False)"
   ]
  },
  {
   "cell_type": "code",
   "execution_count": 646,
   "metadata": {},
   "outputs": [
    {
     "ename": "IndexError",
     "evalue": "list index out of range",
     "output_type": "error",
     "traceback": [
      "\u001b[0;31m---------------------------------------------------------------------------\u001b[0m",
      "\u001b[0;31mIndexError\u001b[0m                                Traceback (most recent call last)",
      "\u001b[0;32m<ipython-input-646-e4494ce1f695>\u001b[0m in \u001b[0;36m<module>\u001b[0;34m\u001b[0m\n\u001b[0;32m----> 1\u001b[0;31m \u001b[0mtf\u001b[0m\u001b[0;34m.\u001b[0m\u001b[0mkeras\u001b[0m\u001b[0;34m.\u001b[0m\u001b[0mlayers\u001b[0m\u001b[0;34m.\u001b[0m\u001b[0mDenseFeatures\u001b[0m\u001b[0;34m(\u001b[0m\u001b[0;34m[\u001b[0m\u001b[0mtf\u001b[0m\u001b[0;34m.\u001b[0m\u001b[0mfeature_column\u001b[0m\u001b[0;34m.\u001b[0m\u001b[0mindicator_column\u001b[0m\u001b[0;34m(\u001b[0m\u001b[0;34m[\u001b[0m\u001b[0mfeature_columns\u001b[0m\u001b[0;34m[\u001b[0m\u001b[0;36m2\u001b[0m\u001b[0;34m]\u001b[0m\u001b[0;34m]\u001b[0m\u001b[0;34m)\u001b[0m\u001b[0;34m]\u001b[0m\u001b[0;34m)\u001b[0m\u001b[0;34m(\u001b[0m\u001b[0mfeature_batch\u001b[0m\u001b[0;34m)\u001b[0m\u001b[0;34m.\u001b[0m\u001b[0mnumpy\u001b[0m\u001b[0;34m(\u001b[0m\u001b[0;34m)\u001b[0m\u001b[0;34m\u001b[0m\u001b[0;34m\u001b[0m\u001b[0m\n\u001b[0m",
      "\u001b[0;31mIndexError\u001b[0m: list index out of range"
     ]
    }
   ],
   "source": [
    "tf.keras.layers.DenseFeatures([tf.feature_column.indicator_column([feature_columns[2]])])(feature_batch).numpy()"
   ]
  },
  {
   "cell_type": "code",
   "execution_count": 647,
   "metadata": {},
   "outputs": [
    {
     "ename": "IndexError",
     "evalue": "list index out of range",
     "output_type": "error",
     "traceback": [
      "\u001b[0;31m---------------------------------------------------------------------------\u001b[0m",
      "\u001b[0;31mIndexError\u001b[0m                                Traceback (most recent call last)",
      "\u001b[0;32m<ipython-input-647-b2a49a0184f4>\u001b[0m in \u001b[0;36m<module>\u001b[0;34m\u001b[0m\n\u001b[0;32m----> 1\u001b[0;31m \u001b[0mtf\u001b[0m\u001b[0;34m.\u001b[0m\u001b[0mkeras\u001b[0m\u001b[0;34m.\u001b[0m\u001b[0mlayers\u001b[0m\u001b[0;34m.\u001b[0m\u001b[0mDenseFeatures\u001b[0m\u001b[0;34m(\u001b[0m\u001b[0;34m[\u001b[0m\u001b[0mfeature_columns\u001b[0m\u001b[0;34m[\u001b[0m\u001b[0;36m2\u001b[0m\u001b[0;34m]\u001b[0m\u001b[0;34m]\u001b[0m\u001b[0;34m)\u001b[0m\u001b[0;34m(\u001b[0m\u001b[0mfeature_batch\u001b[0m\u001b[0;34m)\u001b[0m\u001b[0;34m.\u001b[0m\u001b[0mnumpy\u001b[0m\u001b[0;34m(\u001b[0m\u001b[0;34m)\u001b[0m\u001b[0;34m\u001b[0m\u001b[0;34m\u001b[0m\u001b[0m\n\u001b[0m",
      "\u001b[0;31mIndexError\u001b[0m: list index out of range"
     ]
    }
   ],
   "source": [
    "tf.keras.layers.DenseFeatures([feature_columns[2]])(feature_batch).numpy()"
   ]
  },
  {
   "cell_type": "code",
   "execution_count": 621,
   "metadata": {},
   "outputs": [
    {
     "name": "stdout",
     "output_type": "stream",
     "text": [
      "INFO:tensorflow:Using default config.\n",
      "WARNING:tensorflow:Using temporary folder as model directory: /var/folders/s1/r6h4z6p93731tv7xgdlv55t40000gn/T/tmp5cs1g473\n",
      "INFO:tensorflow:Using config: {'_model_dir': '/var/folders/s1/r6h4z6p93731tv7xgdlv55t40000gn/T/tmp5cs1g473', '_tf_random_seed': None, '_save_summary_steps': 100, '_save_checkpoints_steps': None, '_save_checkpoints_secs': 600, '_session_config': allow_soft_placement: true\n",
      "graph_options {\n",
      "  rewrite_options {\n",
      "    meta_optimizer_iterations: ONE\n",
      "  }\n",
      "}\n",
      ", '_keep_checkpoint_max': 5, '_keep_checkpoint_every_n_hours': 10000, '_log_step_count_steps': 100, '_train_distribute': None, '_device_fn': None, '_protocol': None, '_eval_distribute': None, '_experimental_distribute': None, '_experimental_max_worker_delay_secs': None, '_session_creation_timeout_secs': 7200, '_service': None, '_cluster_spec': ClusterSpec({}), '_task_type': 'worker', '_task_id': 0, '_global_id_in_cluster': 0, '_master': '', '_evaluation_master': '', '_is_chief': True, '_num_ps_replicas': 0, '_num_worker_replicas': 1}\n",
      "INFO:tensorflow:Calling model_fn.\n",
      "INFO:tensorflow:Done calling model_fn.\n",
      "INFO:tensorflow:Create CheckpointSaverHook.\n",
      "INFO:tensorflow:Graph was finalized.\n",
      "INFO:tensorflow:Running local_init_op.\n",
      "INFO:tensorflow:Done running local_init_op.\n",
      "INFO:tensorflow:Calling checkpoint listeners before saving checkpoint 0...\n",
      "INFO:tensorflow:Saving checkpoints for 0 into /var/folders/s1/r6h4z6p93731tv7xgdlv55t40000gn/T/tmp5cs1g473/model.ckpt.\n",
      "INFO:tensorflow:Calling checkpoint listeners after saving checkpoint 0...\n"
     ]
    },
    {
     "ename": "UnimplementedError",
     "evalue": "Cast string to float is not supported\n\t [[node head/losses/Cast (defined at /Users/zhen/opt/anaconda3/lib/python3.7/site-packages/tensorflow_estimator/python/estimator/head/binary_class_head.py:258) ]]\n\nErrors may have originated from an input operation.\nInput Source operations connected to node head/losses/Cast:\n head/losses/labels (defined at /Users/zhen/opt/anaconda3/lib/python3.7/site-packages/tensorflow_estimator/python/estimator/head/base_head.py:469)\n\nOriginal stack trace for 'head/losses/Cast':\n  File \"/Users/zhen/opt/anaconda3/lib/python3.7/runpy.py\", line 193, in _run_module_as_main\n    \"__main__\", mod_spec)\n  File \"/Users/zhen/opt/anaconda3/lib/python3.7/runpy.py\", line 85, in _run_code\n    exec(code, run_globals)\n  File \"/Users/zhen/opt/anaconda3/lib/python3.7/site-packages/ipykernel_launcher.py\", line 16, in <module>\n    app.launch_new_instance()\n  File \"/Users/zhen/opt/anaconda3/lib/python3.7/site-packages/traitlets/config/application.py\", line 664, in launch_instance\n    app.start()\n  File \"/Users/zhen/opt/anaconda3/lib/python3.7/site-packages/ipykernel/kernelapp.py\", line 563, in start\n    self.io_loop.start()\n  File \"/Users/zhen/opt/anaconda3/lib/python3.7/site-packages/tornado/platform/asyncio.py\", line 148, in start\n    self.asyncio_loop.run_forever()\n  File \"/Users/zhen/opt/anaconda3/lib/python3.7/asyncio/base_events.py\", line 534, in run_forever\n    self._run_once()\n  File \"/Users/zhen/opt/anaconda3/lib/python3.7/asyncio/base_events.py\", line 1771, in _run_once\n    handle._run()\n  File \"/Users/zhen/opt/anaconda3/lib/python3.7/asyncio/events.py\", line 88, in _run\n    self._context.run(self._callback, *self._args)\n  File \"/Users/zhen/opt/anaconda3/lib/python3.7/site-packages/tornado/ioloop.py\", line 690, in <lambda>\n    lambda f: self._run_callback(functools.partial(callback, future))\n  File \"/Users/zhen/opt/anaconda3/lib/python3.7/site-packages/tornado/ioloop.py\", line 743, in _run_callback\n    ret = callback()\n  File \"/Users/zhen/opt/anaconda3/lib/python3.7/site-packages/tornado/gen.py\", line 787, in inner\n    self.run()\n  File \"/Users/zhen/opt/anaconda3/lib/python3.7/site-packages/tornado/gen.py\", line 748, in run\n    yielded = self.gen.send(value)\n  File \"/Users/zhen/opt/anaconda3/lib/python3.7/site-packages/ipykernel/kernelbase.py\", line 365, in process_one\n    yield gen.maybe_future(dispatch(*args))\n  File \"/Users/zhen/opt/anaconda3/lib/python3.7/site-packages/tornado/gen.py\", line 209, in wrapper\n    yielded = next(result)\n  File \"/Users/zhen/opt/anaconda3/lib/python3.7/site-packages/ipykernel/kernelbase.py\", line 272, in dispatch_shell\n    yield gen.maybe_future(handler(stream, idents, msg))\n  File \"/Users/zhen/opt/anaconda3/lib/python3.7/site-packages/tornado/gen.py\", line 209, in wrapper\n    yielded = next(result)\n  File \"/Users/zhen/opt/anaconda3/lib/python3.7/site-packages/ipykernel/kernelbase.py\", line 542, in execute_request\n    user_expressions, allow_stdin,\n  File \"/Users/zhen/opt/anaconda3/lib/python3.7/site-packages/tornado/gen.py\", line 209, in wrapper\n    yielded = next(result)\n  File \"/Users/zhen/opt/anaconda3/lib/python3.7/site-packages/ipykernel/ipkernel.py\", line 294, in do_execute\n    res = shell.run_cell(code, store_history=store_history, silent=silent)\n  File \"/Users/zhen/opt/anaconda3/lib/python3.7/site-packages/ipykernel/zmqshell.py\", line 536, in run_cell\n    return super(ZMQInteractiveShell, self).run_cell(*args, **kwargs)\n  File \"/Users/zhen/opt/anaconda3/lib/python3.7/site-packages/IPython/core/interactiveshell.py\", line 2855, in run_cell\n    raw_cell, store_history, silent, shell_futures)\n  File \"/Users/zhen/opt/anaconda3/lib/python3.7/site-packages/IPython/core/interactiveshell.py\", line 2881, in _run_cell\n    return runner(coro)\n  File \"/Users/zhen/opt/anaconda3/lib/python3.7/site-packages/IPython/core/async_helpers.py\", line 68, in _pseudo_sync_runner\n    coro.send(None)\n  File \"/Users/zhen/opt/anaconda3/lib/python3.7/site-packages/IPython/core/interactiveshell.py\", line 3058, in run_cell_async\n    interactivity=interactivity, compiler=compiler, result=result)\n  File \"/Users/zhen/opt/anaconda3/lib/python3.7/site-packages/IPython/core/interactiveshell.py\", line 3249, in run_ast_nodes\n    if (await self.run_code(code, result,  async_=asy)):\n  File \"/Users/zhen/opt/anaconda3/lib/python3.7/site-packages/IPython/core/interactiveshell.py\", line 3326, in run_code\n    exec(code_obj, self.user_global_ns, self.user_ns)\n  File \"<ipython-input-621-609ce7b7bdd0>\", line 2, in <module>\n    linear_est.train(train_input_fn)\n  File \"/Users/zhen/opt/anaconda3/lib/python3.7/site-packages/tensorflow_estimator/python/estimator/estimator.py\", line 349, in train\n    loss = self._train_model(input_fn, hooks, saving_listeners)\n  File \"/Users/zhen/opt/anaconda3/lib/python3.7/site-packages/tensorflow_estimator/python/estimator/estimator.py\", line 1182, in _train_model\n    return self._train_model_default(input_fn, hooks, saving_listeners)\n  File \"/Users/zhen/opt/anaconda3/lib/python3.7/site-packages/tensorflow_estimator/python/estimator/estimator.py\", line 1211, in _train_model_default\n    self.config)\n  File \"/Users/zhen/opt/anaconda3/lib/python3.7/site-packages/tensorflow_estimator/python/estimator/estimator.py\", line 1170, in _call_model_fn\n    model_fn_results = self._model_fn(features=features, **kwargs)\n  File \"/Users/zhen/opt/anaconda3/lib/python3.7/site-packages/tensorflow_estimator/python/estimator/canned/linear.py\", line 943, in _model_fn\n    sparse_combiner=sparse_combiner)\n  File \"/Users/zhen/opt/anaconda3/lib/python3.7/site-packages/tensorflow_estimator/python/estimator/canned/linear.py\", line 684, in _linear_model_fn_v2\n    logits=logits)\n  File \"/Users/zhen/opt/anaconda3/lib/python3.7/site-packages/tensorflow_estimator/python/estimator/head/base_head.py\", line 292, in create_estimator_spec\n    regularization_losses=regularization_losses))\n  File \"/Users/zhen/opt/anaconda3/lib/python3.7/site-packages/tensorflow_estimator/python/estimator/head/binary_class_head.py\", line 567, in _create_tpu_estimator_spec\n    regularization_losses=regularization_losses)\n  File \"/Users/zhen/opt/anaconda3/lib/python3.7/site-packages/tensorflow_estimator/python/estimator/head/binary_class_head.py\", line 288, in loss\n    labels = self._processed_labels(logits, labels)\n  File \"/Users/zhen/opt/anaconda3/lib/python3.7/site-packages/tensorflow_estimator/python/estimator/head/binary_class_head.py\", line 258, in _processed_labels\n    labels = tf.cast(labels, dtype=tf.dtypes.float32)\n  File \"/Users/zhen/opt/anaconda3/lib/python3.7/site-packages/tensorflow/python/util/dispatch.py\", line 180, in wrapper\n    return target(*args, **kwargs)\n  File \"/Users/zhen/opt/anaconda3/lib/python3.7/site-packages/tensorflow/python/ops/math_ops.py\", line 789, in cast\n    x = gen_math_ops.cast(x, base_type, name=name)\n  File \"/Users/zhen/opt/anaconda3/lib/python3.7/site-packages/tensorflow/python/ops/gen_math_ops.py\", line 1978, in cast\n    \"Cast\", x=x, DstT=DstT, Truncate=Truncate, name=name)\n  File \"/Users/zhen/opt/anaconda3/lib/python3.7/site-packages/tensorflow/python/framework/op_def_library.py\", line 744, in _apply_op_helper\n    attrs=attr_protos, op_def=op_def)\n  File \"/Users/zhen/opt/anaconda3/lib/python3.7/site-packages/tensorflow/python/framework/ops.py\", line 3327, in _create_op_internal\n    op_def=op_def)\n  File \"/Users/zhen/opt/anaconda3/lib/python3.7/site-packages/tensorflow/python/framework/ops.py\", line 1791, in __init__\n    self._traceback = tf_stack.extract_stack()\n",
     "output_type": "error",
     "traceback": [
      "\u001b[0;31m---------------------------------------------------------------------------\u001b[0m",
      "\u001b[0;31mUnimplementedError\u001b[0m                        Traceback (most recent call last)",
      "\u001b[0;32m~/opt/anaconda3/lib/python3.7/site-packages/tensorflow/python/client/session.py\u001b[0m in \u001b[0;36m_do_call\u001b[0;34m(self, fn, *args)\u001b[0m\n\u001b[1;32m   1364\u001b[0m     \u001b[0;32mtry\u001b[0m\u001b[0;34m:\u001b[0m\u001b[0;34m\u001b[0m\u001b[0;34m\u001b[0m\u001b[0m\n\u001b[0;32m-> 1365\u001b[0;31m       \u001b[0;32mreturn\u001b[0m \u001b[0mfn\u001b[0m\u001b[0;34m(\u001b[0m\u001b[0;34m*\u001b[0m\u001b[0margs\u001b[0m\u001b[0;34m)\u001b[0m\u001b[0;34m\u001b[0m\u001b[0;34m\u001b[0m\u001b[0m\n\u001b[0m\u001b[1;32m   1366\u001b[0m     \u001b[0;32mexcept\u001b[0m \u001b[0merrors\u001b[0m\u001b[0;34m.\u001b[0m\u001b[0mOpError\u001b[0m \u001b[0;32mas\u001b[0m \u001b[0me\u001b[0m\u001b[0;34m:\u001b[0m\u001b[0;34m\u001b[0m\u001b[0;34m\u001b[0m\u001b[0m\n",
      "\u001b[0;32m~/opt/anaconda3/lib/python3.7/site-packages/tensorflow/python/client/session.py\u001b[0m in \u001b[0;36m_run_fn\u001b[0;34m(feed_dict, fetch_list, target_list, options, run_metadata)\u001b[0m\n\u001b[1;32m   1349\u001b[0m       return self._call_tf_sessionrun(options, feed_dict, fetch_list,\n\u001b[0;32m-> 1350\u001b[0;31m                                       target_list, run_metadata)\n\u001b[0m\u001b[1;32m   1351\u001b[0m \u001b[0;34m\u001b[0m\u001b[0m\n",
      "\u001b[0;32m~/opt/anaconda3/lib/python3.7/site-packages/tensorflow/python/client/session.py\u001b[0m in \u001b[0;36m_call_tf_sessionrun\u001b[0;34m(self, options, feed_dict, fetch_list, target_list, run_metadata)\u001b[0m\n\u001b[1;32m   1442\u001b[0m                                             \u001b[0mfetch_list\u001b[0m\u001b[0;34m,\u001b[0m \u001b[0mtarget_list\u001b[0m\u001b[0;34m,\u001b[0m\u001b[0;34m\u001b[0m\u001b[0;34m\u001b[0m\u001b[0m\n\u001b[0;32m-> 1443\u001b[0;31m                                             run_metadata)\n\u001b[0m\u001b[1;32m   1444\u001b[0m \u001b[0;34m\u001b[0m\u001b[0m\n",
      "\u001b[0;31mUnimplementedError\u001b[0m: Cast string to float is not supported\n\t [[{{node head/losses/Cast}}]]",
      "\nDuring handling of the above exception, another exception occurred:\n",
      "\u001b[0;31mUnimplementedError\u001b[0m                        Traceback (most recent call last)",
      "\u001b[0;32m<ipython-input-621-609ce7b7bdd0>\u001b[0m in \u001b[0;36m<module>\u001b[0;34m\u001b[0m\n\u001b[1;32m      1\u001b[0m \u001b[0mlinear_est\u001b[0m \u001b[0;34m=\u001b[0m \u001b[0mtf\u001b[0m\u001b[0;34m.\u001b[0m\u001b[0mestimator\u001b[0m\u001b[0;34m.\u001b[0m\u001b[0mLinearClassifier\u001b[0m\u001b[0;34m(\u001b[0m\u001b[0mfeature_columns\u001b[0m\u001b[0;34m=\u001b[0m\u001b[0mfeature_columns\u001b[0m\u001b[0;34m)\u001b[0m\u001b[0;34m\u001b[0m\u001b[0;34m\u001b[0m\u001b[0m\n\u001b[0;32m----> 2\u001b[0;31m \u001b[0mlinear_est\u001b[0m\u001b[0;34m.\u001b[0m\u001b[0mtrain\u001b[0m\u001b[0;34m(\u001b[0m\u001b[0mtrain_input_fn\u001b[0m\u001b[0;34m)\u001b[0m\u001b[0;34m\u001b[0m\u001b[0;34m\u001b[0m\u001b[0m\n\u001b[0m\u001b[1;32m      3\u001b[0m \u001b[0mresult\u001b[0m \u001b[0;34m=\u001b[0m \u001b[0mlinear_est\u001b[0m\u001b[0;34m.\u001b[0m\u001b[0mevaluate\u001b[0m\u001b[0;34m(\u001b[0m\u001b[0meval_input_fn\u001b[0m\u001b[0;34m)\u001b[0m\u001b[0;34m\u001b[0m\u001b[0;34m\u001b[0m\u001b[0m\n\u001b[1;32m      4\u001b[0m \u001b[0;34m\u001b[0m\u001b[0m\n\u001b[1;32m      5\u001b[0m \u001b[0mprint\u001b[0m\u001b[0;34m(\u001b[0m\u001b[0mresult\u001b[0m\u001b[0;34m)\u001b[0m\u001b[0;34m\u001b[0m\u001b[0;34m\u001b[0m\u001b[0m\n",
      "\u001b[0;32m~/opt/anaconda3/lib/python3.7/site-packages/tensorflow_estimator/python/estimator/estimator.py\u001b[0m in \u001b[0;36mtrain\u001b[0;34m(self, input_fn, hooks, steps, max_steps, saving_listeners)\u001b[0m\n\u001b[1;32m    347\u001b[0m \u001b[0;34m\u001b[0m\u001b[0m\n\u001b[1;32m    348\u001b[0m       \u001b[0msaving_listeners\u001b[0m \u001b[0;34m=\u001b[0m \u001b[0m_check_listeners_type\u001b[0m\u001b[0;34m(\u001b[0m\u001b[0msaving_listeners\u001b[0m\u001b[0;34m)\u001b[0m\u001b[0;34m\u001b[0m\u001b[0;34m\u001b[0m\u001b[0m\n\u001b[0;32m--> 349\u001b[0;31m       \u001b[0mloss\u001b[0m \u001b[0;34m=\u001b[0m \u001b[0mself\u001b[0m\u001b[0;34m.\u001b[0m\u001b[0m_train_model\u001b[0m\u001b[0;34m(\u001b[0m\u001b[0minput_fn\u001b[0m\u001b[0;34m,\u001b[0m \u001b[0mhooks\u001b[0m\u001b[0;34m,\u001b[0m \u001b[0msaving_listeners\u001b[0m\u001b[0;34m)\u001b[0m\u001b[0;34m\u001b[0m\u001b[0;34m\u001b[0m\u001b[0m\n\u001b[0m\u001b[1;32m    350\u001b[0m       \u001b[0mlogging\u001b[0m\u001b[0;34m.\u001b[0m\u001b[0minfo\u001b[0m\u001b[0;34m(\u001b[0m\u001b[0;34m'Loss for final step: %s.'\u001b[0m\u001b[0;34m,\u001b[0m \u001b[0mloss\u001b[0m\u001b[0;34m)\u001b[0m\u001b[0;34m\u001b[0m\u001b[0;34m\u001b[0m\u001b[0m\n\u001b[1;32m    351\u001b[0m       \u001b[0;32mreturn\u001b[0m \u001b[0mself\u001b[0m\u001b[0;34m\u001b[0m\u001b[0;34m\u001b[0m\u001b[0m\n",
      "\u001b[0;32m~/opt/anaconda3/lib/python3.7/site-packages/tensorflow_estimator/python/estimator/estimator.py\u001b[0m in \u001b[0;36m_train_model\u001b[0;34m(self, input_fn, hooks, saving_listeners)\u001b[0m\n\u001b[1;32m   1180\u001b[0m       \u001b[0;32mreturn\u001b[0m \u001b[0mself\u001b[0m\u001b[0;34m.\u001b[0m\u001b[0m_train_model_distributed\u001b[0m\u001b[0;34m(\u001b[0m\u001b[0minput_fn\u001b[0m\u001b[0;34m,\u001b[0m \u001b[0mhooks\u001b[0m\u001b[0;34m,\u001b[0m \u001b[0msaving_listeners\u001b[0m\u001b[0;34m)\u001b[0m\u001b[0;34m\u001b[0m\u001b[0;34m\u001b[0m\u001b[0m\n\u001b[1;32m   1181\u001b[0m     \u001b[0;32melse\u001b[0m\u001b[0;34m:\u001b[0m\u001b[0;34m\u001b[0m\u001b[0;34m\u001b[0m\u001b[0m\n\u001b[0;32m-> 1182\u001b[0;31m       \u001b[0;32mreturn\u001b[0m \u001b[0mself\u001b[0m\u001b[0;34m.\u001b[0m\u001b[0m_train_model_default\u001b[0m\u001b[0;34m(\u001b[0m\u001b[0minput_fn\u001b[0m\u001b[0;34m,\u001b[0m \u001b[0mhooks\u001b[0m\u001b[0;34m,\u001b[0m \u001b[0msaving_listeners\u001b[0m\u001b[0;34m)\u001b[0m\u001b[0;34m\u001b[0m\u001b[0;34m\u001b[0m\u001b[0m\n\u001b[0m\u001b[1;32m   1183\u001b[0m \u001b[0;34m\u001b[0m\u001b[0m\n\u001b[1;32m   1184\u001b[0m   \u001b[0;32mdef\u001b[0m \u001b[0m_train_model_default\u001b[0m\u001b[0;34m(\u001b[0m\u001b[0mself\u001b[0m\u001b[0;34m,\u001b[0m \u001b[0minput_fn\u001b[0m\u001b[0;34m,\u001b[0m \u001b[0mhooks\u001b[0m\u001b[0;34m,\u001b[0m \u001b[0msaving_listeners\u001b[0m\u001b[0;34m)\u001b[0m\u001b[0;34m:\u001b[0m\u001b[0;34m\u001b[0m\u001b[0;34m\u001b[0m\u001b[0m\n",
      "\u001b[0;32m~/opt/anaconda3/lib/python3.7/site-packages/tensorflow_estimator/python/estimator/estimator.py\u001b[0m in \u001b[0;36m_train_model_default\u001b[0;34m(self, input_fn, hooks, saving_listeners)\u001b[0m\n\u001b[1;32m   1213\u001b[0m       return self._train_with_estimator_spec(estimator_spec, worker_hooks,\n\u001b[1;32m   1214\u001b[0m                                              \u001b[0mhooks\u001b[0m\u001b[0;34m,\u001b[0m \u001b[0mglobal_step_tensor\u001b[0m\u001b[0;34m,\u001b[0m\u001b[0;34m\u001b[0m\u001b[0;34m\u001b[0m\u001b[0m\n\u001b[0;32m-> 1215\u001b[0;31m                                              saving_listeners)\n\u001b[0m\u001b[1;32m   1216\u001b[0m \u001b[0;34m\u001b[0m\u001b[0m\n\u001b[1;32m   1217\u001b[0m   \u001b[0;32mdef\u001b[0m \u001b[0m_train_model_distributed\u001b[0m\u001b[0;34m(\u001b[0m\u001b[0mself\u001b[0m\u001b[0;34m,\u001b[0m \u001b[0minput_fn\u001b[0m\u001b[0;34m,\u001b[0m \u001b[0mhooks\u001b[0m\u001b[0;34m,\u001b[0m \u001b[0msaving_listeners\u001b[0m\u001b[0;34m)\u001b[0m\u001b[0;34m:\u001b[0m\u001b[0;34m\u001b[0m\u001b[0;34m\u001b[0m\u001b[0m\n",
      "\u001b[0;32m~/opt/anaconda3/lib/python3.7/site-packages/tensorflow_estimator/python/estimator/estimator.py\u001b[0m in \u001b[0;36m_train_with_estimator_spec\u001b[0;34m(self, estimator_spec, worker_hooks, hooks, global_step_tensor, saving_listeners)\u001b[0m\n\u001b[1;32m   1516\u001b[0m       \u001b[0many_step_done\u001b[0m \u001b[0;34m=\u001b[0m \u001b[0;32mFalse\u001b[0m\u001b[0;34m\u001b[0m\u001b[0;34m\u001b[0m\u001b[0m\n\u001b[1;32m   1517\u001b[0m       \u001b[0;32mwhile\u001b[0m \u001b[0;32mnot\u001b[0m \u001b[0mmon_sess\u001b[0m\u001b[0;34m.\u001b[0m\u001b[0mshould_stop\u001b[0m\u001b[0;34m(\u001b[0m\u001b[0;34m)\u001b[0m\u001b[0;34m:\u001b[0m\u001b[0;34m\u001b[0m\u001b[0;34m\u001b[0m\u001b[0m\n\u001b[0;32m-> 1518\u001b[0;31m         \u001b[0m_\u001b[0m\u001b[0;34m,\u001b[0m \u001b[0mloss\u001b[0m \u001b[0;34m=\u001b[0m \u001b[0mmon_sess\u001b[0m\u001b[0;34m.\u001b[0m\u001b[0mrun\u001b[0m\u001b[0;34m(\u001b[0m\u001b[0;34m[\u001b[0m\u001b[0mestimator_spec\u001b[0m\u001b[0;34m.\u001b[0m\u001b[0mtrain_op\u001b[0m\u001b[0;34m,\u001b[0m \u001b[0mestimator_spec\u001b[0m\u001b[0;34m.\u001b[0m\u001b[0mloss\u001b[0m\u001b[0;34m]\u001b[0m\u001b[0;34m)\u001b[0m\u001b[0;34m\u001b[0m\u001b[0;34m\u001b[0m\u001b[0m\n\u001b[0m\u001b[1;32m   1519\u001b[0m         \u001b[0many_step_done\u001b[0m \u001b[0;34m=\u001b[0m \u001b[0;32mTrue\u001b[0m\u001b[0;34m\u001b[0m\u001b[0;34m\u001b[0m\u001b[0m\n\u001b[1;32m   1520\u001b[0m     \u001b[0;32mif\u001b[0m \u001b[0;32mnot\u001b[0m \u001b[0many_step_done\u001b[0m\u001b[0;34m:\u001b[0m\u001b[0;34m\u001b[0m\u001b[0;34m\u001b[0m\u001b[0m\n",
      "\u001b[0;32m~/opt/anaconda3/lib/python3.7/site-packages/tensorflow/python/training/monitored_session.py\u001b[0m in \u001b[0;36mrun\u001b[0;34m(self, fetches, feed_dict, options, run_metadata)\u001b[0m\n\u001b[1;32m    776\u001b[0m         \u001b[0mfeed_dict\u001b[0m\u001b[0;34m=\u001b[0m\u001b[0mfeed_dict\u001b[0m\u001b[0;34m,\u001b[0m\u001b[0;34m\u001b[0m\u001b[0;34m\u001b[0m\u001b[0m\n\u001b[1;32m    777\u001b[0m         \u001b[0moptions\u001b[0m\u001b[0;34m=\u001b[0m\u001b[0moptions\u001b[0m\u001b[0;34m,\u001b[0m\u001b[0;34m\u001b[0m\u001b[0;34m\u001b[0m\u001b[0m\n\u001b[0;32m--> 778\u001b[0;31m         run_metadata=run_metadata)\n\u001b[0m\u001b[1;32m    779\u001b[0m \u001b[0;34m\u001b[0m\u001b[0m\n\u001b[1;32m    780\u001b[0m   \u001b[0;32mdef\u001b[0m \u001b[0mrun_step_fn\u001b[0m\u001b[0;34m(\u001b[0m\u001b[0mself\u001b[0m\u001b[0;34m,\u001b[0m \u001b[0mstep_fn\u001b[0m\u001b[0;34m)\u001b[0m\u001b[0;34m:\u001b[0m\u001b[0;34m\u001b[0m\u001b[0;34m\u001b[0m\u001b[0m\n",
      "\u001b[0;32m~/opt/anaconda3/lib/python3.7/site-packages/tensorflow/python/training/monitored_session.py\u001b[0m in \u001b[0;36mrun\u001b[0;34m(self, fetches, feed_dict, options, run_metadata)\u001b[0m\n\u001b[1;32m   1281\u001b[0m             \u001b[0mfeed_dict\u001b[0m\u001b[0;34m=\u001b[0m\u001b[0mfeed_dict\u001b[0m\u001b[0;34m,\u001b[0m\u001b[0;34m\u001b[0m\u001b[0;34m\u001b[0m\u001b[0m\n\u001b[1;32m   1282\u001b[0m             \u001b[0moptions\u001b[0m\u001b[0;34m=\u001b[0m\u001b[0moptions\u001b[0m\u001b[0;34m,\u001b[0m\u001b[0;34m\u001b[0m\u001b[0;34m\u001b[0m\u001b[0m\n\u001b[0;32m-> 1283\u001b[0;31m             run_metadata=run_metadata)\n\u001b[0m\u001b[1;32m   1284\u001b[0m       \u001b[0;32mexcept\u001b[0m \u001b[0m_PREEMPTION_ERRORS\u001b[0m \u001b[0;32mas\u001b[0m \u001b[0me\u001b[0m\u001b[0;34m:\u001b[0m\u001b[0;34m\u001b[0m\u001b[0;34m\u001b[0m\u001b[0m\n\u001b[1;32m   1285\u001b[0m         logging.info(\n",
      "\u001b[0;32m~/opt/anaconda3/lib/python3.7/site-packages/tensorflow/python/training/monitored_session.py\u001b[0m in \u001b[0;36mrun\u001b[0;34m(self, *args, **kwargs)\u001b[0m\n\u001b[1;32m   1382\u001b[0m         \u001b[0;32mraise\u001b[0m \u001b[0msix\u001b[0m\u001b[0;34m.\u001b[0m\u001b[0mreraise\u001b[0m\u001b[0;34m(\u001b[0m\u001b[0;34m*\u001b[0m\u001b[0moriginal_exc_info\u001b[0m\u001b[0;34m)\u001b[0m\u001b[0;34m\u001b[0m\u001b[0;34m\u001b[0m\u001b[0m\n\u001b[1;32m   1383\u001b[0m       \u001b[0;32melse\u001b[0m\u001b[0;34m:\u001b[0m\u001b[0;34m\u001b[0m\u001b[0;34m\u001b[0m\u001b[0m\n\u001b[0;32m-> 1384\u001b[0;31m         \u001b[0;32mraise\u001b[0m \u001b[0msix\u001b[0m\u001b[0;34m.\u001b[0m\u001b[0mreraise\u001b[0m\u001b[0;34m(\u001b[0m\u001b[0;34m*\u001b[0m\u001b[0moriginal_exc_info\u001b[0m\u001b[0;34m)\u001b[0m\u001b[0;34m\u001b[0m\u001b[0;34m\u001b[0m\u001b[0m\n\u001b[0m\u001b[1;32m   1385\u001b[0m \u001b[0;34m\u001b[0m\u001b[0m\n\u001b[1;32m   1386\u001b[0m \u001b[0;34m\u001b[0m\u001b[0m\n",
      "\u001b[0;32m~/opt/anaconda3/lib/python3.7/site-packages/six.py\u001b[0m in \u001b[0;36mreraise\u001b[0;34m(tp, value, tb)\u001b[0m\n\u001b[1;32m    691\u001b[0m             \u001b[0;32mif\u001b[0m \u001b[0mvalue\u001b[0m\u001b[0;34m.\u001b[0m\u001b[0m__traceback__\u001b[0m \u001b[0;32mis\u001b[0m \u001b[0;32mnot\u001b[0m \u001b[0mtb\u001b[0m\u001b[0;34m:\u001b[0m\u001b[0;34m\u001b[0m\u001b[0;34m\u001b[0m\u001b[0m\n\u001b[1;32m    692\u001b[0m                 \u001b[0;32mraise\u001b[0m \u001b[0mvalue\u001b[0m\u001b[0;34m.\u001b[0m\u001b[0mwith_traceback\u001b[0m\u001b[0;34m(\u001b[0m\u001b[0mtb\u001b[0m\u001b[0;34m)\u001b[0m\u001b[0;34m\u001b[0m\u001b[0;34m\u001b[0m\u001b[0m\n\u001b[0;32m--> 693\u001b[0;31m             \u001b[0;32mraise\u001b[0m \u001b[0mvalue\u001b[0m\u001b[0;34m\u001b[0m\u001b[0;34m\u001b[0m\u001b[0m\n\u001b[0m\u001b[1;32m    694\u001b[0m         \u001b[0;32mfinally\u001b[0m\u001b[0;34m:\u001b[0m\u001b[0;34m\u001b[0m\u001b[0;34m\u001b[0m\u001b[0m\n\u001b[1;32m    695\u001b[0m             \u001b[0mvalue\u001b[0m \u001b[0;34m=\u001b[0m \u001b[0;32mNone\u001b[0m\u001b[0;34m\u001b[0m\u001b[0;34m\u001b[0m\u001b[0m\n",
      "\u001b[0;32m~/opt/anaconda3/lib/python3.7/site-packages/tensorflow/python/training/monitored_session.py\u001b[0m in \u001b[0;36mrun\u001b[0;34m(self, *args, **kwargs)\u001b[0m\n\u001b[1;32m   1367\u001b[0m   \u001b[0;32mdef\u001b[0m \u001b[0mrun\u001b[0m\u001b[0;34m(\u001b[0m\u001b[0mself\u001b[0m\u001b[0;34m,\u001b[0m \u001b[0;34m*\u001b[0m\u001b[0margs\u001b[0m\u001b[0;34m,\u001b[0m \u001b[0;34m**\u001b[0m\u001b[0mkwargs\u001b[0m\u001b[0;34m)\u001b[0m\u001b[0;34m:\u001b[0m\u001b[0;34m\u001b[0m\u001b[0;34m\u001b[0m\u001b[0m\n\u001b[1;32m   1368\u001b[0m     \u001b[0;32mtry\u001b[0m\u001b[0;34m:\u001b[0m\u001b[0;34m\u001b[0m\u001b[0;34m\u001b[0m\u001b[0m\n\u001b[0;32m-> 1369\u001b[0;31m       \u001b[0;32mreturn\u001b[0m \u001b[0mself\u001b[0m\u001b[0;34m.\u001b[0m\u001b[0m_sess\u001b[0m\u001b[0;34m.\u001b[0m\u001b[0mrun\u001b[0m\u001b[0;34m(\u001b[0m\u001b[0;34m*\u001b[0m\u001b[0margs\u001b[0m\u001b[0;34m,\u001b[0m \u001b[0;34m**\u001b[0m\u001b[0mkwargs\u001b[0m\u001b[0;34m)\u001b[0m\u001b[0;34m\u001b[0m\u001b[0;34m\u001b[0m\u001b[0m\n\u001b[0m\u001b[1;32m   1370\u001b[0m     \u001b[0;32mexcept\u001b[0m \u001b[0m_PREEMPTION_ERRORS\u001b[0m\u001b[0;34m:\u001b[0m\u001b[0;34m\u001b[0m\u001b[0;34m\u001b[0m\u001b[0m\n\u001b[1;32m   1371\u001b[0m       \u001b[0;32mraise\u001b[0m\u001b[0;34m\u001b[0m\u001b[0;34m\u001b[0m\u001b[0m\n",
      "\u001b[0;32m~/opt/anaconda3/lib/python3.7/site-packages/tensorflow/python/training/monitored_session.py\u001b[0m in \u001b[0;36mrun\u001b[0;34m(self, fetches, feed_dict, options, run_metadata)\u001b[0m\n\u001b[1;32m   1440\u001b[0m         \u001b[0mfeed_dict\u001b[0m\u001b[0;34m=\u001b[0m\u001b[0mfeed_dict\u001b[0m\u001b[0;34m,\u001b[0m\u001b[0;34m\u001b[0m\u001b[0;34m\u001b[0m\u001b[0m\n\u001b[1;32m   1441\u001b[0m         \u001b[0moptions\u001b[0m\u001b[0;34m=\u001b[0m\u001b[0moptions\u001b[0m\u001b[0;34m,\u001b[0m\u001b[0;34m\u001b[0m\u001b[0;34m\u001b[0m\u001b[0m\n\u001b[0;32m-> 1442\u001b[0;31m         run_metadata=run_metadata)\n\u001b[0m\u001b[1;32m   1443\u001b[0m \u001b[0;34m\u001b[0m\u001b[0m\n\u001b[1;32m   1444\u001b[0m     \u001b[0;32mfor\u001b[0m \u001b[0mhook\u001b[0m \u001b[0;32min\u001b[0m \u001b[0mself\u001b[0m\u001b[0;34m.\u001b[0m\u001b[0m_hooks\u001b[0m\u001b[0;34m:\u001b[0m\u001b[0;34m\u001b[0m\u001b[0;34m\u001b[0m\u001b[0m\n",
      "\u001b[0;32m~/opt/anaconda3/lib/python3.7/site-packages/tensorflow/python/training/monitored_session.py\u001b[0m in \u001b[0;36mrun\u001b[0;34m(self, *args, **kwargs)\u001b[0m\n\u001b[1;32m   1198\u001b[0m \u001b[0;34m\u001b[0m\u001b[0m\n\u001b[1;32m   1199\u001b[0m   \u001b[0;32mdef\u001b[0m \u001b[0mrun\u001b[0m\u001b[0;34m(\u001b[0m\u001b[0mself\u001b[0m\u001b[0;34m,\u001b[0m \u001b[0;34m*\u001b[0m\u001b[0margs\u001b[0m\u001b[0;34m,\u001b[0m \u001b[0;34m**\u001b[0m\u001b[0mkwargs\u001b[0m\u001b[0;34m)\u001b[0m\u001b[0;34m:\u001b[0m\u001b[0;34m\u001b[0m\u001b[0;34m\u001b[0m\u001b[0m\n\u001b[0;32m-> 1200\u001b[0;31m     \u001b[0;32mreturn\u001b[0m \u001b[0mself\u001b[0m\u001b[0;34m.\u001b[0m\u001b[0m_sess\u001b[0m\u001b[0;34m.\u001b[0m\u001b[0mrun\u001b[0m\u001b[0;34m(\u001b[0m\u001b[0;34m*\u001b[0m\u001b[0margs\u001b[0m\u001b[0;34m,\u001b[0m \u001b[0;34m**\u001b[0m\u001b[0mkwargs\u001b[0m\u001b[0;34m)\u001b[0m\u001b[0;34m\u001b[0m\u001b[0;34m\u001b[0m\u001b[0m\n\u001b[0m\u001b[1;32m   1201\u001b[0m \u001b[0;34m\u001b[0m\u001b[0m\n\u001b[1;32m   1202\u001b[0m   \u001b[0;32mdef\u001b[0m \u001b[0mrun_step_fn\u001b[0m\u001b[0;34m(\u001b[0m\u001b[0mself\u001b[0m\u001b[0;34m,\u001b[0m \u001b[0mstep_fn\u001b[0m\u001b[0;34m,\u001b[0m \u001b[0mraw_session\u001b[0m\u001b[0;34m,\u001b[0m \u001b[0mrun_with_hooks\u001b[0m\u001b[0;34m)\u001b[0m\u001b[0;34m:\u001b[0m\u001b[0;34m\u001b[0m\u001b[0;34m\u001b[0m\u001b[0m\n",
      "\u001b[0;32m~/opt/anaconda3/lib/python3.7/site-packages/tensorflow/python/client/session.py\u001b[0m in \u001b[0;36mrun\u001b[0;34m(self, fetches, feed_dict, options, run_metadata)\u001b[0m\n\u001b[1;32m    956\u001b[0m     \u001b[0;32mtry\u001b[0m\u001b[0;34m:\u001b[0m\u001b[0;34m\u001b[0m\u001b[0;34m\u001b[0m\u001b[0m\n\u001b[1;32m    957\u001b[0m       result = self._run(None, fetches, feed_dict, options_ptr,\n\u001b[0;32m--> 958\u001b[0;31m                          run_metadata_ptr)\n\u001b[0m\u001b[1;32m    959\u001b[0m       \u001b[0;32mif\u001b[0m \u001b[0mrun_metadata\u001b[0m\u001b[0;34m:\u001b[0m\u001b[0;34m\u001b[0m\u001b[0;34m\u001b[0m\u001b[0m\n\u001b[1;32m    960\u001b[0m         \u001b[0mproto_data\u001b[0m \u001b[0;34m=\u001b[0m \u001b[0mtf_session\u001b[0m\u001b[0;34m.\u001b[0m\u001b[0mTF_GetBuffer\u001b[0m\u001b[0;34m(\u001b[0m\u001b[0mrun_metadata_ptr\u001b[0m\u001b[0;34m)\u001b[0m\u001b[0;34m\u001b[0m\u001b[0;34m\u001b[0m\u001b[0m\n",
      "\u001b[0;32m~/opt/anaconda3/lib/python3.7/site-packages/tensorflow/python/client/session.py\u001b[0m in \u001b[0;36m_run\u001b[0;34m(self, handle, fetches, feed_dict, options, run_metadata)\u001b[0m\n\u001b[1;32m   1179\u001b[0m     \u001b[0;32mif\u001b[0m \u001b[0mfinal_fetches\u001b[0m \u001b[0;32mor\u001b[0m \u001b[0mfinal_targets\u001b[0m \u001b[0;32mor\u001b[0m \u001b[0;34m(\u001b[0m\u001b[0mhandle\u001b[0m \u001b[0;32mand\u001b[0m \u001b[0mfeed_dict_tensor\u001b[0m\u001b[0;34m)\u001b[0m\u001b[0;34m:\u001b[0m\u001b[0;34m\u001b[0m\u001b[0;34m\u001b[0m\u001b[0m\n\u001b[1;32m   1180\u001b[0m       results = self._do_run(handle, final_targets, final_fetches,\n\u001b[0;32m-> 1181\u001b[0;31m                              feed_dict_tensor, options, run_metadata)\n\u001b[0m\u001b[1;32m   1182\u001b[0m     \u001b[0;32melse\u001b[0m\u001b[0;34m:\u001b[0m\u001b[0;34m\u001b[0m\u001b[0;34m\u001b[0m\u001b[0m\n\u001b[1;32m   1183\u001b[0m       \u001b[0mresults\u001b[0m \u001b[0;34m=\u001b[0m \u001b[0;34m[\u001b[0m\u001b[0;34m]\u001b[0m\u001b[0;34m\u001b[0m\u001b[0;34m\u001b[0m\u001b[0m\n",
      "\u001b[0;32m~/opt/anaconda3/lib/python3.7/site-packages/tensorflow/python/client/session.py\u001b[0m in \u001b[0;36m_do_run\u001b[0;34m(self, handle, target_list, fetch_list, feed_dict, options, run_metadata)\u001b[0m\n\u001b[1;32m   1357\u001b[0m     \u001b[0;32mif\u001b[0m \u001b[0mhandle\u001b[0m \u001b[0;32mis\u001b[0m \u001b[0;32mNone\u001b[0m\u001b[0;34m:\u001b[0m\u001b[0;34m\u001b[0m\u001b[0;34m\u001b[0m\u001b[0m\n\u001b[1;32m   1358\u001b[0m       return self._do_call(_run_fn, feeds, fetches, targets, options,\n\u001b[0;32m-> 1359\u001b[0;31m                            run_metadata)\n\u001b[0m\u001b[1;32m   1360\u001b[0m     \u001b[0;32melse\u001b[0m\u001b[0;34m:\u001b[0m\u001b[0;34m\u001b[0m\u001b[0;34m\u001b[0m\u001b[0m\n\u001b[1;32m   1361\u001b[0m       \u001b[0;32mreturn\u001b[0m \u001b[0mself\u001b[0m\u001b[0;34m.\u001b[0m\u001b[0m_do_call\u001b[0m\u001b[0;34m(\u001b[0m\u001b[0m_prun_fn\u001b[0m\u001b[0;34m,\u001b[0m \u001b[0mhandle\u001b[0m\u001b[0;34m,\u001b[0m \u001b[0mfeeds\u001b[0m\u001b[0;34m,\u001b[0m \u001b[0mfetches\u001b[0m\u001b[0;34m)\u001b[0m\u001b[0;34m\u001b[0m\u001b[0;34m\u001b[0m\u001b[0m\n",
      "\u001b[0;32m~/opt/anaconda3/lib/python3.7/site-packages/tensorflow/python/client/session.py\u001b[0m in \u001b[0;36m_do_call\u001b[0;34m(self, fn, *args)\u001b[0m\n\u001b[1;32m   1382\u001b[0m                     \u001b[0;34m'\\nsession_config.graph_options.rewrite_options.'\u001b[0m\u001b[0;34m\u001b[0m\u001b[0;34m\u001b[0m\u001b[0m\n\u001b[1;32m   1383\u001b[0m                     'disable_meta_optimizer = True')\n\u001b[0;32m-> 1384\u001b[0;31m       \u001b[0;32mraise\u001b[0m \u001b[0mtype\u001b[0m\u001b[0;34m(\u001b[0m\u001b[0me\u001b[0m\u001b[0;34m)\u001b[0m\u001b[0;34m(\u001b[0m\u001b[0mnode_def\u001b[0m\u001b[0;34m,\u001b[0m \u001b[0mop\u001b[0m\u001b[0;34m,\u001b[0m \u001b[0mmessage\u001b[0m\u001b[0;34m)\u001b[0m\u001b[0;34m\u001b[0m\u001b[0;34m\u001b[0m\u001b[0m\n\u001b[0m\u001b[1;32m   1385\u001b[0m \u001b[0;34m\u001b[0m\u001b[0m\n\u001b[1;32m   1386\u001b[0m   \u001b[0;32mdef\u001b[0m \u001b[0m_extend_graph\u001b[0m\u001b[0;34m(\u001b[0m\u001b[0mself\u001b[0m\u001b[0;34m)\u001b[0m\u001b[0;34m:\u001b[0m\u001b[0;34m\u001b[0m\u001b[0;34m\u001b[0m\u001b[0m\n",
      "\u001b[0;31mUnimplementedError\u001b[0m: Cast string to float is not supported\n\t [[node head/losses/Cast (defined at /Users/zhen/opt/anaconda3/lib/python3.7/site-packages/tensorflow_estimator/python/estimator/head/binary_class_head.py:258) ]]\n\nErrors may have originated from an input operation.\nInput Source operations connected to node head/losses/Cast:\n head/losses/labels (defined at /Users/zhen/opt/anaconda3/lib/python3.7/site-packages/tensorflow_estimator/python/estimator/head/base_head.py:469)\n\nOriginal stack trace for 'head/losses/Cast':\n  File \"/Users/zhen/opt/anaconda3/lib/python3.7/runpy.py\", line 193, in _run_module_as_main\n    \"__main__\", mod_spec)\n  File \"/Users/zhen/opt/anaconda3/lib/python3.7/runpy.py\", line 85, in _run_code\n    exec(code, run_globals)\n  File \"/Users/zhen/opt/anaconda3/lib/python3.7/site-packages/ipykernel_launcher.py\", line 16, in <module>\n    app.launch_new_instance()\n  File \"/Users/zhen/opt/anaconda3/lib/python3.7/site-packages/traitlets/config/application.py\", line 664, in launch_instance\n    app.start()\n  File \"/Users/zhen/opt/anaconda3/lib/python3.7/site-packages/ipykernel/kernelapp.py\", line 563, in start\n    self.io_loop.start()\n  File \"/Users/zhen/opt/anaconda3/lib/python3.7/site-packages/tornado/platform/asyncio.py\", line 148, in start\n    self.asyncio_loop.run_forever()\n  File \"/Users/zhen/opt/anaconda3/lib/python3.7/asyncio/base_events.py\", line 534, in run_forever\n    self._run_once()\n  File \"/Users/zhen/opt/anaconda3/lib/python3.7/asyncio/base_events.py\", line 1771, in _run_once\n    handle._run()\n  File \"/Users/zhen/opt/anaconda3/lib/python3.7/asyncio/events.py\", line 88, in _run\n    self._context.run(self._callback, *self._args)\n  File \"/Users/zhen/opt/anaconda3/lib/python3.7/site-packages/tornado/ioloop.py\", line 690, in <lambda>\n    lambda f: self._run_callback(functools.partial(callback, future))\n  File \"/Users/zhen/opt/anaconda3/lib/python3.7/site-packages/tornado/ioloop.py\", line 743, in _run_callback\n    ret = callback()\n  File \"/Users/zhen/opt/anaconda3/lib/python3.7/site-packages/tornado/gen.py\", line 787, in inner\n    self.run()\n  File \"/Users/zhen/opt/anaconda3/lib/python3.7/site-packages/tornado/gen.py\", line 748, in run\n    yielded = self.gen.send(value)\n  File \"/Users/zhen/opt/anaconda3/lib/python3.7/site-packages/ipykernel/kernelbase.py\", line 365, in process_one\n    yield gen.maybe_future(dispatch(*args))\n  File \"/Users/zhen/opt/anaconda3/lib/python3.7/site-packages/tornado/gen.py\", line 209, in wrapper\n    yielded = next(result)\n  File \"/Users/zhen/opt/anaconda3/lib/python3.7/site-packages/ipykernel/kernelbase.py\", line 272, in dispatch_shell\n    yield gen.maybe_future(handler(stream, idents, msg))\n  File \"/Users/zhen/opt/anaconda3/lib/python3.7/site-packages/tornado/gen.py\", line 209, in wrapper\n    yielded = next(result)\n  File \"/Users/zhen/opt/anaconda3/lib/python3.7/site-packages/ipykernel/kernelbase.py\", line 542, in execute_request\n    user_expressions, allow_stdin,\n  File \"/Users/zhen/opt/anaconda3/lib/python3.7/site-packages/tornado/gen.py\", line 209, in wrapper\n    yielded = next(result)\n  File \"/Users/zhen/opt/anaconda3/lib/python3.7/site-packages/ipykernel/ipkernel.py\", line 294, in do_execute\n    res = shell.run_cell(code, store_history=store_history, silent=silent)\n  File \"/Users/zhen/opt/anaconda3/lib/python3.7/site-packages/ipykernel/zmqshell.py\", line 536, in run_cell\n    return super(ZMQInteractiveShell, self).run_cell(*args, **kwargs)\n  File \"/Users/zhen/opt/anaconda3/lib/python3.7/site-packages/IPython/core/interactiveshell.py\", line 2855, in run_cell\n    raw_cell, store_history, silent, shell_futures)\n  File \"/Users/zhen/opt/anaconda3/lib/python3.7/site-packages/IPython/core/interactiveshell.py\", line 2881, in _run_cell\n    return runner(coro)\n  File \"/Users/zhen/opt/anaconda3/lib/python3.7/site-packages/IPython/core/async_helpers.py\", line 68, in _pseudo_sync_runner\n    coro.send(None)\n  File \"/Users/zhen/opt/anaconda3/lib/python3.7/site-packages/IPython/core/interactiveshell.py\", line 3058, in run_cell_async\n    interactivity=interactivity, compiler=compiler, result=result)\n  File \"/Users/zhen/opt/anaconda3/lib/python3.7/site-packages/IPython/core/interactiveshell.py\", line 3249, in run_ast_nodes\n    if (await self.run_code(code, result,  async_=asy)):\n  File \"/Users/zhen/opt/anaconda3/lib/python3.7/site-packages/IPython/core/interactiveshell.py\", line 3326, in run_code\n    exec(code_obj, self.user_global_ns, self.user_ns)\n  File \"<ipython-input-621-609ce7b7bdd0>\", line 2, in <module>\n    linear_est.train(train_input_fn)\n  File \"/Users/zhen/opt/anaconda3/lib/python3.7/site-packages/tensorflow_estimator/python/estimator/estimator.py\", line 349, in train\n    loss = self._train_model(input_fn, hooks, saving_listeners)\n  File \"/Users/zhen/opt/anaconda3/lib/python3.7/site-packages/tensorflow_estimator/python/estimator/estimator.py\", line 1182, in _train_model\n    return self._train_model_default(input_fn, hooks, saving_listeners)\n  File \"/Users/zhen/opt/anaconda3/lib/python3.7/site-packages/tensorflow_estimator/python/estimator/estimator.py\", line 1211, in _train_model_default\n    self.config)\n  File \"/Users/zhen/opt/anaconda3/lib/python3.7/site-packages/tensorflow_estimator/python/estimator/estimator.py\", line 1170, in _call_model_fn\n    model_fn_results = self._model_fn(features=features, **kwargs)\n  File \"/Users/zhen/opt/anaconda3/lib/python3.7/site-packages/tensorflow_estimator/python/estimator/canned/linear.py\", line 943, in _model_fn\n    sparse_combiner=sparse_combiner)\n  File \"/Users/zhen/opt/anaconda3/lib/python3.7/site-packages/tensorflow_estimator/python/estimator/canned/linear.py\", line 684, in _linear_model_fn_v2\n    logits=logits)\n  File \"/Users/zhen/opt/anaconda3/lib/python3.7/site-packages/tensorflow_estimator/python/estimator/head/base_head.py\", line 292, in create_estimator_spec\n    regularization_losses=regularization_losses))\n  File \"/Users/zhen/opt/anaconda3/lib/python3.7/site-packages/tensorflow_estimator/python/estimator/head/binary_class_head.py\", line 567, in _create_tpu_estimator_spec\n    regularization_losses=regularization_losses)\n  File \"/Users/zhen/opt/anaconda3/lib/python3.7/site-packages/tensorflow_estimator/python/estimator/head/binary_class_head.py\", line 288, in loss\n    labels = self._processed_labels(logits, labels)\n  File \"/Users/zhen/opt/anaconda3/lib/python3.7/site-packages/tensorflow_estimator/python/estimator/head/binary_class_head.py\", line 258, in _processed_labels\n    labels = tf.cast(labels, dtype=tf.dtypes.float32)\n  File \"/Users/zhen/opt/anaconda3/lib/python3.7/site-packages/tensorflow/python/util/dispatch.py\", line 180, in wrapper\n    return target(*args, **kwargs)\n  File \"/Users/zhen/opt/anaconda3/lib/python3.7/site-packages/tensorflow/python/ops/math_ops.py\", line 789, in cast\n    x = gen_math_ops.cast(x, base_type, name=name)\n  File \"/Users/zhen/opt/anaconda3/lib/python3.7/site-packages/tensorflow/python/ops/gen_math_ops.py\", line 1978, in cast\n    \"Cast\", x=x, DstT=DstT, Truncate=Truncate, name=name)\n  File \"/Users/zhen/opt/anaconda3/lib/python3.7/site-packages/tensorflow/python/framework/op_def_library.py\", line 744, in _apply_op_helper\n    attrs=attr_protos, op_def=op_def)\n  File \"/Users/zhen/opt/anaconda3/lib/python3.7/site-packages/tensorflow/python/framework/ops.py\", line 3327, in _create_op_internal\n    op_def=op_def)\n  File \"/Users/zhen/opt/anaconda3/lib/python3.7/site-packages/tensorflow/python/framework/ops.py\", line 1791, in __init__\n    self._traceback = tf_stack.extract_stack()\n"
     ]
    }
   ],
   "source": [
    "linear_est = tf.estimator.LinearClassifier(feature_columns=feature_columns)\n",
    "linear_est.train(train_input_fn)\n",
    "result = linear_est.evaluate(eval_input_fn)\n",
    "\n",
    "print(result)"
   ]
  },
  {
   "cell_type": "code",
   "execution_count": null,
   "metadata": {},
   "outputs": [],
   "source": []
  },
  {
   "cell_type": "code",
   "execution_count": 557,
   "metadata": {},
   "outputs": [],
   "source": [
    "age = tf.feature_column.numeric_column('Age')\n",
    "account_weeks = tf.feature_column.numeric_column('AccountWeeks')\n",
    "avg_rides = tf.feature_column.numeric_column('AvgRides')\n",
    "avg_spend = tf.feature_column.numeric_column('AvgSpend')"
   ]
  },
  {
   "cell_type": "code",
   "execution_count": 546,
   "metadata": {},
   "outputs": [
    {
     "name": "stdout",
     "output_type": "stream",
     "text": [
      "Gender -> ['Female' 'Male']\n",
      "Subscription -> ['Yes' 'No']\n",
      "LastRating -> ['4' '2' '3' '1' '5']\n",
      "LastReview -> ['neu' 'pos' 'neg']\n"
     ]
    }
   ],
   "source": [
    "col_unique_val_counts = []\n",
    "cat_columns = []\n",
    "for col in X.columns:\n",
    "    if X[col].dtype.name != 'object':\n",
    "        continue\n",
    "    unique_vals = X[col].unique()\n",
    "    col_unique_val_counts.append(len(unique_vals))\n",
    "    cat_columns.append(col)\n",
    "    \n",
    "    print(col, '->', unique_vals)"
   ]
  },
  {
   "cell_type": "code",
   "execution_count": 549,
   "metadata": {},
   "outputs": [],
   "source": [
    "cat_cols = [tf.feature_column.categorical_column_with_hash_bucket(col, hash_bucket_size=size)\n",
    "           for col, size in zip(cat_columns, col_unique_val_counts)]"
   ]
  },
  {
   "cell_type": "code",
   "execution_count": 560,
   "metadata": {},
   "outputs": [],
   "source": [
    "num_cols = [age, account_weeks, avg_rides, avg_spend]\n",
    "feature_columns = num_cols + cat_cols"
   ]
  },
  {
   "cell_type": "code",
   "execution_count": 561,
   "metadata": {},
   "outputs": [],
   "source": [
    "n_classes = 2\n",
    "batch_size = 100"
   ]
  },
  {
   "cell_type": "code",
   "execution_count": 562,
   "metadata": {},
   "outputs": [],
   "source": [
    "input_func = tf.compat.v1.estimator.inputs.pandas_input_fn(x=x_train, y=y_train,\n",
    "                                                batch_size=batch_size,\n",
    "                                                num_epochs=1000,\n",
    "                                                shuffle=True)"
   ]
  },
  {
   "cell_type": "code",
   "execution_count": 563,
   "metadata": {},
   "outputs": [
    {
     "name": "stdout",
     "output_type": "stream",
     "text": [
      "INFO:tensorflow:Using default config.\n",
      "WARNING:tensorflow:Using temporary folder as model directory: /var/folders/s1/r6h4z6p93731tv7xgdlv55t40000gn/T/tmpyn52azyt\n",
      "INFO:tensorflow:Using config: {'_model_dir': '/var/folders/s1/r6h4z6p93731tv7xgdlv55t40000gn/T/tmpyn52azyt', '_tf_random_seed': None, '_save_summary_steps': 100, '_save_checkpoints_steps': None, '_save_checkpoints_secs': 600, '_session_config': allow_soft_placement: true\n",
      "graph_options {\n",
      "  rewrite_options {\n",
      "    meta_optimizer_iterations: ONE\n",
      "  }\n",
      "}\n",
      ", '_keep_checkpoint_max': 5, '_keep_checkpoint_every_n_hours': 10000, '_log_step_count_steps': 100, '_train_distribute': None, '_device_fn': None, '_protocol': None, '_eval_distribute': None, '_experimental_distribute': None, '_experimental_max_worker_delay_secs': None, '_session_creation_timeout_secs': 7200, '_service': None, '_cluster_spec': ClusterSpec({}), '_task_type': 'worker', '_task_id': 0, '_global_id_in_cluster': 0, '_master': '', '_evaluation_master': '', '_is_chief': True, '_num_ps_replicas': 0, '_num_worker_replicas': 1}\n"
     ]
    }
   ],
   "source": [
    "linear_model = tf.estimator.LinearClassifier(feature_columns=feature_columns,\n",
    "                                            n_classes=n_classes)"
   ]
  },
  {
   "cell_type": "code",
   "execution_count": 564,
   "metadata": {},
   "outputs": [
    {
     "name": "stdout",
     "output_type": "stream",
     "text": [
      "INFO:tensorflow:Calling model_fn.\n",
      "WARNING:tensorflow:From /Users/zhen/opt/anaconda3/lib/python3.7/site-packages/tensorflow/python/feature_column/feature_column_v2.py:540: Layer.add_variable (from tensorflow.python.keras.engine.base_layer_v1) is deprecated and will be removed in a future version.\n",
      "Instructions for updating:\n",
      "Please use `layer.add_weight` method instead.\n",
      "WARNING:tensorflow:From /Users/zhen/opt/anaconda3/lib/python3.7/site-packages/tensorflow/python/keras/optimizer_v2/ftrl.py:144: calling Constant.__init__ (from tensorflow.python.ops.init_ops) with dtype is deprecated and will be removed in a future version.\n",
      "Instructions for updating:\n",
      "Call initializer instance with the dtype argument instead of passing it to the constructor\n",
      "INFO:tensorflow:Done calling model_fn.\n",
      "INFO:tensorflow:Create CheckpointSaverHook.\n",
      "INFO:tensorflow:Graph was finalized.\n",
      "INFO:tensorflow:Running local_init_op.\n",
      "INFO:tensorflow:Done running local_init_op.\n",
      "WARNING:tensorflow:From /Users/zhen/opt/anaconda3/lib/python3.7/site-packages/tensorflow/python/training/monitored_session.py:906: start_queue_runners (from tensorflow.python.training.queue_runner_impl) is deprecated and will be removed in a future version.\n",
      "Instructions for updating:\n",
      "To construct input pipelines, use the `tf.data` module.\n",
      "INFO:tensorflow:Calling checkpoint listeners before saving checkpoint 0...\n",
      "INFO:tensorflow:Saving checkpoints for 0 into /var/folders/s1/r6h4z6p93731tv7xgdlv55t40000gn/T/tmpyn52azyt/model.ckpt.\n",
      "INFO:tensorflow:Calling checkpoint listeners after saving checkpoint 0...\n"
     ]
    },
    {
     "ename": "UnimplementedError",
     "evalue": "Cast string to float is not supported\n\t [[node head/losses/Cast (defined at /Users/zhen/opt/anaconda3/lib/python3.7/site-packages/tensorflow_estimator/python/estimator/head/binary_class_head.py:258) ]]\n\nErrors may have originated from an input operation.\nInput Source operations connected to node head/losses/Cast:\n head/losses/labels (defined at /Users/zhen/opt/anaconda3/lib/python3.7/site-packages/tensorflow_estimator/python/estimator/head/base_head.py:469)\n\nOriginal stack trace for 'head/losses/Cast':\n  File \"/Users/zhen/opt/anaconda3/lib/python3.7/runpy.py\", line 193, in _run_module_as_main\n    \"__main__\", mod_spec)\n  File \"/Users/zhen/opt/anaconda3/lib/python3.7/runpy.py\", line 85, in _run_code\n    exec(code, run_globals)\n  File \"/Users/zhen/opt/anaconda3/lib/python3.7/site-packages/ipykernel_launcher.py\", line 16, in <module>\n    app.launch_new_instance()\n  File \"/Users/zhen/opt/anaconda3/lib/python3.7/site-packages/traitlets/config/application.py\", line 664, in launch_instance\n    app.start()\n  File \"/Users/zhen/opt/anaconda3/lib/python3.7/site-packages/ipykernel/kernelapp.py\", line 563, in start\n    self.io_loop.start()\n  File \"/Users/zhen/opt/anaconda3/lib/python3.7/site-packages/tornado/platform/asyncio.py\", line 148, in start\n    self.asyncio_loop.run_forever()\n  File \"/Users/zhen/opt/anaconda3/lib/python3.7/asyncio/base_events.py\", line 534, in run_forever\n    self._run_once()\n  File \"/Users/zhen/opt/anaconda3/lib/python3.7/asyncio/base_events.py\", line 1771, in _run_once\n    handle._run()\n  File \"/Users/zhen/opt/anaconda3/lib/python3.7/asyncio/events.py\", line 88, in _run\n    self._context.run(self._callback, *self._args)\n  File \"/Users/zhen/opt/anaconda3/lib/python3.7/site-packages/tornado/ioloop.py\", line 690, in <lambda>\n    lambda f: self._run_callback(functools.partial(callback, future))\n  File \"/Users/zhen/opt/anaconda3/lib/python3.7/site-packages/tornado/ioloop.py\", line 743, in _run_callback\n    ret = callback()\n  File \"/Users/zhen/opt/anaconda3/lib/python3.7/site-packages/tornado/gen.py\", line 787, in inner\n    self.run()\n  File \"/Users/zhen/opt/anaconda3/lib/python3.7/site-packages/tornado/gen.py\", line 748, in run\n    yielded = self.gen.send(value)\n  File \"/Users/zhen/opt/anaconda3/lib/python3.7/site-packages/ipykernel/kernelbase.py\", line 365, in process_one\n    yield gen.maybe_future(dispatch(*args))\n  File \"/Users/zhen/opt/anaconda3/lib/python3.7/site-packages/tornado/gen.py\", line 209, in wrapper\n    yielded = next(result)\n  File \"/Users/zhen/opt/anaconda3/lib/python3.7/site-packages/ipykernel/kernelbase.py\", line 272, in dispatch_shell\n    yield gen.maybe_future(handler(stream, idents, msg))\n  File \"/Users/zhen/opt/anaconda3/lib/python3.7/site-packages/tornado/gen.py\", line 209, in wrapper\n    yielded = next(result)\n  File \"/Users/zhen/opt/anaconda3/lib/python3.7/site-packages/ipykernel/kernelbase.py\", line 542, in execute_request\n    user_expressions, allow_stdin,\n  File \"/Users/zhen/opt/anaconda3/lib/python3.7/site-packages/tornado/gen.py\", line 209, in wrapper\n    yielded = next(result)\n  File \"/Users/zhen/opt/anaconda3/lib/python3.7/site-packages/ipykernel/ipkernel.py\", line 294, in do_execute\n    res = shell.run_cell(code, store_history=store_history, silent=silent)\n  File \"/Users/zhen/opt/anaconda3/lib/python3.7/site-packages/ipykernel/zmqshell.py\", line 536, in run_cell\n    return super(ZMQInteractiveShell, self).run_cell(*args, **kwargs)\n  File \"/Users/zhen/opt/anaconda3/lib/python3.7/site-packages/IPython/core/interactiveshell.py\", line 2855, in run_cell\n    raw_cell, store_history, silent, shell_futures)\n  File \"/Users/zhen/opt/anaconda3/lib/python3.7/site-packages/IPython/core/interactiveshell.py\", line 2881, in _run_cell\n    return runner(coro)\n  File \"/Users/zhen/opt/anaconda3/lib/python3.7/site-packages/IPython/core/async_helpers.py\", line 68, in _pseudo_sync_runner\n    coro.send(None)\n  File \"/Users/zhen/opt/anaconda3/lib/python3.7/site-packages/IPython/core/interactiveshell.py\", line 3058, in run_cell_async\n    interactivity=interactivity, compiler=compiler, result=result)\n  File \"/Users/zhen/opt/anaconda3/lib/python3.7/site-packages/IPython/core/interactiveshell.py\", line 3249, in run_ast_nodes\n    if (await self.run_code(code, result,  async_=asy)):\n  File \"/Users/zhen/opt/anaconda3/lib/python3.7/site-packages/IPython/core/interactiveshell.py\", line 3326, in run_code\n    exec(code_obj, self.user_global_ns, self.user_ns)\n  File \"<ipython-input-564-c2302a67c05e>\", line 1, in <module>\n    linear_model.train(input_fn=input_func, steps=10000)\n  File \"/Users/zhen/opt/anaconda3/lib/python3.7/site-packages/tensorflow_estimator/python/estimator/estimator.py\", line 349, in train\n    loss = self._train_model(input_fn, hooks, saving_listeners)\n  File \"/Users/zhen/opt/anaconda3/lib/python3.7/site-packages/tensorflow_estimator/python/estimator/estimator.py\", line 1182, in _train_model\n    return self._train_model_default(input_fn, hooks, saving_listeners)\n  File \"/Users/zhen/opt/anaconda3/lib/python3.7/site-packages/tensorflow_estimator/python/estimator/estimator.py\", line 1211, in _train_model_default\n    self.config)\n  File \"/Users/zhen/opt/anaconda3/lib/python3.7/site-packages/tensorflow_estimator/python/estimator/estimator.py\", line 1170, in _call_model_fn\n    model_fn_results = self._model_fn(features=features, **kwargs)\n  File \"/Users/zhen/opt/anaconda3/lib/python3.7/site-packages/tensorflow_estimator/python/estimator/canned/linear.py\", line 943, in _model_fn\n    sparse_combiner=sparse_combiner)\n  File \"/Users/zhen/opt/anaconda3/lib/python3.7/site-packages/tensorflow_estimator/python/estimator/canned/linear.py\", line 684, in _linear_model_fn_v2\n    logits=logits)\n  File \"/Users/zhen/opt/anaconda3/lib/python3.7/site-packages/tensorflow_estimator/python/estimator/head/base_head.py\", line 292, in create_estimator_spec\n    regularization_losses=regularization_losses))\n  File \"/Users/zhen/opt/anaconda3/lib/python3.7/site-packages/tensorflow_estimator/python/estimator/head/binary_class_head.py\", line 567, in _create_tpu_estimator_spec\n    regularization_losses=regularization_losses)\n  File \"/Users/zhen/opt/anaconda3/lib/python3.7/site-packages/tensorflow_estimator/python/estimator/head/binary_class_head.py\", line 288, in loss\n    labels = self._processed_labels(logits, labels)\n  File \"/Users/zhen/opt/anaconda3/lib/python3.7/site-packages/tensorflow_estimator/python/estimator/head/binary_class_head.py\", line 258, in _processed_labels\n    labels = tf.cast(labels, dtype=tf.dtypes.float32)\n  File \"/Users/zhen/opt/anaconda3/lib/python3.7/site-packages/tensorflow/python/util/dispatch.py\", line 180, in wrapper\n    return target(*args, **kwargs)\n  File \"/Users/zhen/opt/anaconda3/lib/python3.7/site-packages/tensorflow/python/ops/math_ops.py\", line 789, in cast\n    x = gen_math_ops.cast(x, base_type, name=name)\n  File \"/Users/zhen/opt/anaconda3/lib/python3.7/site-packages/tensorflow/python/ops/gen_math_ops.py\", line 1978, in cast\n    \"Cast\", x=x, DstT=DstT, Truncate=Truncate, name=name)\n  File \"/Users/zhen/opt/anaconda3/lib/python3.7/site-packages/tensorflow/python/framework/op_def_library.py\", line 744, in _apply_op_helper\n    attrs=attr_protos, op_def=op_def)\n  File \"/Users/zhen/opt/anaconda3/lib/python3.7/site-packages/tensorflow/python/framework/ops.py\", line 3327, in _create_op_internal\n    op_def=op_def)\n  File \"/Users/zhen/opt/anaconda3/lib/python3.7/site-packages/tensorflow/python/framework/ops.py\", line 1791, in __init__\n    self._traceback = tf_stack.extract_stack()\n",
     "output_type": "error",
     "traceback": [
      "\u001b[0;31m---------------------------------------------------------------------------\u001b[0m",
      "\u001b[0;31mUnimplementedError\u001b[0m                        Traceback (most recent call last)",
      "\u001b[0;32m~/opt/anaconda3/lib/python3.7/site-packages/tensorflow/python/client/session.py\u001b[0m in \u001b[0;36m_do_call\u001b[0;34m(self, fn, *args)\u001b[0m\n\u001b[1;32m   1364\u001b[0m     \u001b[0;32mtry\u001b[0m\u001b[0;34m:\u001b[0m\u001b[0;34m\u001b[0m\u001b[0;34m\u001b[0m\u001b[0m\n\u001b[0;32m-> 1365\u001b[0;31m       \u001b[0;32mreturn\u001b[0m \u001b[0mfn\u001b[0m\u001b[0;34m(\u001b[0m\u001b[0;34m*\u001b[0m\u001b[0margs\u001b[0m\u001b[0;34m)\u001b[0m\u001b[0;34m\u001b[0m\u001b[0;34m\u001b[0m\u001b[0m\n\u001b[0m\u001b[1;32m   1366\u001b[0m     \u001b[0;32mexcept\u001b[0m \u001b[0merrors\u001b[0m\u001b[0;34m.\u001b[0m\u001b[0mOpError\u001b[0m \u001b[0;32mas\u001b[0m \u001b[0me\u001b[0m\u001b[0;34m:\u001b[0m\u001b[0;34m\u001b[0m\u001b[0;34m\u001b[0m\u001b[0m\n",
      "\u001b[0;32m~/opt/anaconda3/lib/python3.7/site-packages/tensorflow/python/client/session.py\u001b[0m in \u001b[0;36m_run_fn\u001b[0;34m(feed_dict, fetch_list, target_list, options, run_metadata)\u001b[0m\n\u001b[1;32m   1349\u001b[0m       return self._call_tf_sessionrun(options, feed_dict, fetch_list,\n\u001b[0;32m-> 1350\u001b[0;31m                                       target_list, run_metadata)\n\u001b[0m\u001b[1;32m   1351\u001b[0m \u001b[0;34m\u001b[0m\u001b[0m\n",
      "\u001b[0;32m~/opt/anaconda3/lib/python3.7/site-packages/tensorflow/python/client/session.py\u001b[0m in \u001b[0;36m_call_tf_sessionrun\u001b[0;34m(self, options, feed_dict, fetch_list, target_list, run_metadata)\u001b[0m\n\u001b[1;32m   1442\u001b[0m                                             \u001b[0mfetch_list\u001b[0m\u001b[0;34m,\u001b[0m \u001b[0mtarget_list\u001b[0m\u001b[0;34m,\u001b[0m\u001b[0;34m\u001b[0m\u001b[0;34m\u001b[0m\u001b[0m\n\u001b[0;32m-> 1443\u001b[0;31m                                             run_metadata)\n\u001b[0m\u001b[1;32m   1444\u001b[0m \u001b[0;34m\u001b[0m\u001b[0m\n",
      "\u001b[0;31mUnimplementedError\u001b[0m: Cast string to float is not supported\n\t [[{{node head/losses/Cast}}]]",
      "\nDuring handling of the above exception, another exception occurred:\n",
      "\u001b[0;31mUnimplementedError\u001b[0m                        Traceback (most recent call last)",
      "\u001b[0;32m<ipython-input-564-c2302a67c05e>\u001b[0m in \u001b[0;36m<module>\u001b[0;34m\u001b[0m\n\u001b[0;32m----> 1\u001b[0;31m \u001b[0mlinear_model\u001b[0m\u001b[0;34m.\u001b[0m\u001b[0mtrain\u001b[0m\u001b[0;34m(\u001b[0m\u001b[0minput_fn\u001b[0m\u001b[0;34m=\u001b[0m\u001b[0minput_func\u001b[0m\u001b[0;34m,\u001b[0m \u001b[0msteps\u001b[0m\u001b[0;34m=\u001b[0m\u001b[0;36m10000\u001b[0m\u001b[0;34m)\u001b[0m\u001b[0;34m\u001b[0m\u001b[0;34m\u001b[0m\u001b[0m\n\u001b[0m",
      "\u001b[0;32m~/opt/anaconda3/lib/python3.7/site-packages/tensorflow_estimator/python/estimator/estimator.py\u001b[0m in \u001b[0;36mtrain\u001b[0;34m(self, input_fn, hooks, steps, max_steps, saving_listeners)\u001b[0m\n\u001b[1;32m    347\u001b[0m \u001b[0;34m\u001b[0m\u001b[0m\n\u001b[1;32m    348\u001b[0m       \u001b[0msaving_listeners\u001b[0m \u001b[0;34m=\u001b[0m \u001b[0m_check_listeners_type\u001b[0m\u001b[0;34m(\u001b[0m\u001b[0msaving_listeners\u001b[0m\u001b[0;34m)\u001b[0m\u001b[0;34m\u001b[0m\u001b[0;34m\u001b[0m\u001b[0m\n\u001b[0;32m--> 349\u001b[0;31m       \u001b[0mloss\u001b[0m \u001b[0;34m=\u001b[0m \u001b[0mself\u001b[0m\u001b[0;34m.\u001b[0m\u001b[0m_train_model\u001b[0m\u001b[0;34m(\u001b[0m\u001b[0minput_fn\u001b[0m\u001b[0;34m,\u001b[0m \u001b[0mhooks\u001b[0m\u001b[0;34m,\u001b[0m \u001b[0msaving_listeners\u001b[0m\u001b[0;34m)\u001b[0m\u001b[0;34m\u001b[0m\u001b[0;34m\u001b[0m\u001b[0m\n\u001b[0m\u001b[1;32m    350\u001b[0m       \u001b[0mlogging\u001b[0m\u001b[0;34m.\u001b[0m\u001b[0minfo\u001b[0m\u001b[0;34m(\u001b[0m\u001b[0;34m'Loss for final step: %s.'\u001b[0m\u001b[0;34m,\u001b[0m \u001b[0mloss\u001b[0m\u001b[0;34m)\u001b[0m\u001b[0;34m\u001b[0m\u001b[0;34m\u001b[0m\u001b[0m\n\u001b[1;32m    351\u001b[0m       \u001b[0;32mreturn\u001b[0m \u001b[0mself\u001b[0m\u001b[0;34m\u001b[0m\u001b[0;34m\u001b[0m\u001b[0m\n",
      "\u001b[0;32m~/opt/anaconda3/lib/python3.7/site-packages/tensorflow_estimator/python/estimator/estimator.py\u001b[0m in \u001b[0;36m_train_model\u001b[0;34m(self, input_fn, hooks, saving_listeners)\u001b[0m\n\u001b[1;32m   1180\u001b[0m       \u001b[0;32mreturn\u001b[0m \u001b[0mself\u001b[0m\u001b[0;34m.\u001b[0m\u001b[0m_train_model_distributed\u001b[0m\u001b[0;34m(\u001b[0m\u001b[0minput_fn\u001b[0m\u001b[0;34m,\u001b[0m \u001b[0mhooks\u001b[0m\u001b[0;34m,\u001b[0m \u001b[0msaving_listeners\u001b[0m\u001b[0;34m)\u001b[0m\u001b[0;34m\u001b[0m\u001b[0;34m\u001b[0m\u001b[0m\n\u001b[1;32m   1181\u001b[0m     \u001b[0;32melse\u001b[0m\u001b[0;34m:\u001b[0m\u001b[0;34m\u001b[0m\u001b[0;34m\u001b[0m\u001b[0m\n\u001b[0;32m-> 1182\u001b[0;31m       \u001b[0;32mreturn\u001b[0m \u001b[0mself\u001b[0m\u001b[0;34m.\u001b[0m\u001b[0m_train_model_default\u001b[0m\u001b[0;34m(\u001b[0m\u001b[0minput_fn\u001b[0m\u001b[0;34m,\u001b[0m \u001b[0mhooks\u001b[0m\u001b[0;34m,\u001b[0m \u001b[0msaving_listeners\u001b[0m\u001b[0;34m)\u001b[0m\u001b[0;34m\u001b[0m\u001b[0;34m\u001b[0m\u001b[0m\n\u001b[0m\u001b[1;32m   1183\u001b[0m \u001b[0;34m\u001b[0m\u001b[0m\n\u001b[1;32m   1184\u001b[0m   \u001b[0;32mdef\u001b[0m \u001b[0m_train_model_default\u001b[0m\u001b[0;34m(\u001b[0m\u001b[0mself\u001b[0m\u001b[0;34m,\u001b[0m \u001b[0minput_fn\u001b[0m\u001b[0;34m,\u001b[0m \u001b[0mhooks\u001b[0m\u001b[0;34m,\u001b[0m \u001b[0msaving_listeners\u001b[0m\u001b[0;34m)\u001b[0m\u001b[0;34m:\u001b[0m\u001b[0;34m\u001b[0m\u001b[0;34m\u001b[0m\u001b[0m\n",
      "\u001b[0;32m~/opt/anaconda3/lib/python3.7/site-packages/tensorflow_estimator/python/estimator/estimator.py\u001b[0m in \u001b[0;36m_train_model_default\u001b[0;34m(self, input_fn, hooks, saving_listeners)\u001b[0m\n\u001b[1;32m   1213\u001b[0m       return self._train_with_estimator_spec(estimator_spec, worker_hooks,\n\u001b[1;32m   1214\u001b[0m                                              \u001b[0mhooks\u001b[0m\u001b[0;34m,\u001b[0m \u001b[0mglobal_step_tensor\u001b[0m\u001b[0;34m,\u001b[0m\u001b[0;34m\u001b[0m\u001b[0;34m\u001b[0m\u001b[0m\n\u001b[0;32m-> 1215\u001b[0;31m                                              saving_listeners)\n\u001b[0m\u001b[1;32m   1216\u001b[0m \u001b[0;34m\u001b[0m\u001b[0m\n\u001b[1;32m   1217\u001b[0m   \u001b[0;32mdef\u001b[0m \u001b[0m_train_model_distributed\u001b[0m\u001b[0;34m(\u001b[0m\u001b[0mself\u001b[0m\u001b[0;34m,\u001b[0m \u001b[0minput_fn\u001b[0m\u001b[0;34m,\u001b[0m \u001b[0mhooks\u001b[0m\u001b[0;34m,\u001b[0m \u001b[0msaving_listeners\u001b[0m\u001b[0;34m)\u001b[0m\u001b[0;34m:\u001b[0m\u001b[0;34m\u001b[0m\u001b[0;34m\u001b[0m\u001b[0m\n",
      "\u001b[0;32m~/opt/anaconda3/lib/python3.7/site-packages/tensorflow_estimator/python/estimator/estimator.py\u001b[0m in \u001b[0;36m_train_with_estimator_spec\u001b[0;34m(self, estimator_spec, worker_hooks, hooks, global_step_tensor, saving_listeners)\u001b[0m\n\u001b[1;32m   1516\u001b[0m       \u001b[0many_step_done\u001b[0m \u001b[0;34m=\u001b[0m \u001b[0;32mFalse\u001b[0m\u001b[0;34m\u001b[0m\u001b[0;34m\u001b[0m\u001b[0m\n\u001b[1;32m   1517\u001b[0m       \u001b[0;32mwhile\u001b[0m \u001b[0;32mnot\u001b[0m \u001b[0mmon_sess\u001b[0m\u001b[0;34m.\u001b[0m\u001b[0mshould_stop\u001b[0m\u001b[0;34m(\u001b[0m\u001b[0;34m)\u001b[0m\u001b[0;34m:\u001b[0m\u001b[0;34m\u001b[0m\u001b[0;34m\u001b[0m\u001b[0m\n\u001b[0;32m-> 1518\u001b[0;31m         \u001b[0m_\u001b[0m\u001b[0;34m,\u001b[0m \u001b[0mloss\u001b[0m \u001b[0;34m=\u001b[0m \u001b[0mmon_sess\u001b[0m\u001b[0;34m.\u001b[0m\u001b[0mrun\u001b[0m\u001b[0;34m(\u001b[0m\u001b[0;34m[\u001b[0m\u001b[0mestimator_spec\u001b[0m\u001b[0;34m.\u001b[0m\u001b[0mtrain_op\u001b[0m\u001b[0;34m,\u001b[0m \u001b[0mestimator_spec\u001b[0m\u001b[0;34m.\u001b[0m\u001b[0mloss\u001b[0m\u001b[0;34m]\u001b[0m\u001b[0;34m)\u001b[0m\u001b[0;34m\u001b[0m\u001b[0;34m\u001b[0m\u001b[0m\n\u001b[0m\u001b[1;32m   1519\u001b[0m         \u001b[0many_step_done\u001b[0m \u001b[0;34m=\u001b[0m \u001b[0;32mTrue\u001b[0m\u001b[0;34m\u001b[0m\u001b[0;34m\u001b[0m\u001b[0m\n\u001b[1;32m   1520\u001b[0m     \u001b[0;32mif\u001b[0m \u001b[0;32mnot\u001b[0m \u001b[0many_step_done\u001b[0m\u001b[0;34m:\u001b[0m\u001b[0;34m\u001b[0m\u001b[0;34m\u001b[0m\u001b[0m\n",
      "\u001b[0;32m~/opt/anaconda3/lib/python3.7/site-packages/tensorflow/python/training/monitored_session.py\u001b[0m in \u001b[0;36mrun\u001b[0;34m(self, fetches, feed_dict, options, run_metadata)\u001b[0m\n\u001b[1;32m    776\u001b[0m         \u001b[0mfeed_dict\u001b[0m\u001b[0;34m=\u001b[0m\u001b[0mfeed_dict\u001b[0m\u001b[0;34m,\u001b[0m\u001b[0;34m\u001b[0m\u001b[0;34m\u001b[0m\u001b[0m\n\u001b[1;32m    777\u001b[0m         \u001b[0moptions\u001b[0m\u001b[0;34m=\u001b[0m\u001b[0moptions\u001b[0m\u001b[0;34m,\u001b[0m\u001b[0;34m\u001b[0m\u001b[0;34m\u001b[0m\u001b[0m\n\u001b[0;32m--> 778\u001b[0;31m         run_metadata=run_metadata)\n\u001b[0m\u001b[1;32m    779\u001b[0m \u001b[0;34m\u001b[0m\u001b[0m\n\u001b[1;32m    780\u001b[0m   \u001b[0;32mdef\u001b[0m \u001b[0mrun_step_fn\u001b[0m\u001b[0;34m(\u001b[0m\u001b[0mself\u001b[0m\u001b[0;34m,\u001b[0m \u001b[0mstep_fn\u001b[0m\u001b[0;34m)\u001b[0m\u001b[0;34m:\u001b[0m\u001b[0;34m\u001b[0m\u001b[0;34m\u001b[0m\u001b[0m\n",
      "\u001b[0;32m~/opt/anaconda3/lib/python3.7/site-packages/tensorflow/python/training/monitored_session.py\u001b[0m in \u001b[0;36mrun\u001b[0;34m(self, fetches, feed_dict, options, run_metadata)\u001b[0m\n\u001b[1;32m   1281\u001b[0m             \u001b[0mfeed_dict\u001b[0m\u001b[0;34m=\u001b[0m\u001b[0mfeed_dict\u001b[0m\u001b[0;34m,\u001b[0m\u001b[0;34m\u001b[0m\u001b[0;34m\u001b[0m\u001b[0m\n\u001b[1;32m   1282\u001b[0m             \u001b[0moptions\u001b[0m\u001b[0;34m=\u001b[0m\u001b[0moptions\u001b[0m\u001b[0;34m,\u001b[0m\u001b[0;34m\u001b[0m\u001b[0;34m\u001b[0m\u001b[0m\n\u001b[0;32m-> 1283\u001b[0;31m             run_metadata=run_metadata)\n\u001b[0m\u001b[1;32m   1284\u001b[0m       \u001b[0;32mexcept\u001b[0m \u001b[0m_PREEMPTION_ERRORS\u001b[0m \u001b[0;32mas\u001b[0m \u001b[0me\u001b[0m\u001b[0;34m:\u001b[0m\u001b[0;34m\u001b[0m\u001b[0;34m\u001b[0m\u001b[0m\n\u001b[1;32m   1285\u001b[0m         logging.info(\n",
      "\u001b[0;32m~/opt/anaconda3/lib/python3.7/site-packages/tensorflow/python/training/monitored_session.py\u001b[0m in \u001b[0;36mrun\u001b[0;34m(self, *args, **kwargs)\u001b[0m\n\u001b[1;32m   1382\u001b[0m         \u001b[0;32mraise\u001b[0m \u001b[0msix\u001b[0m\u001b[0;34m.\u001b[0m\u001b[0mreraise\u001b[0m\u001b[0;34m(\u001b[0m\u001b[0;34m*\u001b[0m\u001b[0moriginal_exc_info\u001b[0m\u001b[0;34m)\u001b[0m\u001b[0;34m\u001b[0m\u001b[0;34m\u001b[0m\u001b[0m\n\u001b[1;32m   1383\u001b[0m       \u001b[0;32melse\u001b[0m\u001b[0;34m:\u001b[0m\u001b[0;34m\u001b[0m\u001b[0;34m\u001b[0m\u001b[0m\n\u001b[0;32m-> 1384\u001b[0;31m         \u001b[0;32mraise\u001b[0m \u001b[0msix\u001b[0m\u001b[0;34m.\u001b[0m\u001b[0mreraise\u001b[0m\u001b[0;34m(\u001b[0m\u001b[0;34m*\u001b[0m\u001b[0moriginal_exc_info\u001b[0m\u001b[0;34m)\u001b[0m\u001b[0;34m\u001b[0m\u001b[0;34m\u001b[0m\u001b[0m\n\u001b[0m\u001b[1;32m   1385\u001b[0m \u001b[0;34m\u001b[0m\u001b[0m\n\u001b[1;32m   1386\u001b[0m \u001b[0;34m\u001b[0m\u001b[0m\n",
      "\u001b[0;32m~/opt/anaconda3/lib/python3.7/site-packages/six.py\u001b[0m in \u001b[0;36mreraise\u001b[0;34m(tp, value, tb)\u001b[0m\n\u001b[1;32m    691\u001b[0m             \u001b[0;32mif\u001b[0m \u001b[0mvalue\u001b[0m\u001b[0;34m.\u001b[0m\u001b[0m__traceback__\u001b[0m \u001b[0;32mis\u001b[0m \u001b[0;32mnot\u001b[0m \u001b[0mtb\u001b[0m\u001b[0;34m:\u001b[0m\u001b[0;34m\u001b[0m\u001b[0;34m\u001b[0m\u001b[0m\n\u001b[1;32m    692\u001b[0m                 \u001b[0;32mraise\u001b[0m \u001b[0mvalue\u001b[0m\u001b[0;34m.\u001b[0m\u001b[0mwith_traceback\u001b[0m\u001b[0;34m(\u001b[0m\u001b[0mtb\u001b[0m\u001b[0;34m)\u001b[0m\u001b[0;34m\u001b[0m\u001b[0;34m\u001b[0m\u001b[0m\n\u001b[0;32m--> 693\u001b[0;31m             \u001b[0;32mraise\u001b[0m \u001b[0mvalue\u001b[0m\u001b[0;34m\u001b[0m\u001b[0;34m\u001b[0m\u001b[0m\n\u001b[0m\u001b[1;32m    694\u001b[0m         \u001b[0;32mfinally\u001b[0m\u001b[0;34m:\u001b[0m\u001b[0;34m\u001b[0m\u001b[0;34m\u001b[0m\u001b[0m\n\u001b[1;32m    695\u001b[0m             \u001b[0mvalue\u001b[0m \u001b[0;34m=\u001b[0m \u001b[0;32mNone\u001b[0m\u001b[0;34m\u001b[0m\u001b[0;34m\u001b[0m\u001b[0m\n",
      "\u001b[0;32m~/opt/anaconda3/lib/python3.7/site-packages/tensorflow/python/training/monitored_session.py\u001b[0m in \u001b[0;36mrun\u001b[0;34m(self, *args, **kwargs)\u001b[0m\n\u001b[1;32m   1367\u001b[0m   \u001b[0;32mdef\u001b[0m \u001b[0mrun\u001b[0m\u001b[0;34m(\u001b[0m\u001b[0mself\u001b[0m\u001b[0;34m,\u001b[0m \u001b[0;34m*\u001b[0m\u001b[0margs\u001b[0m\u001b[0;34m,\u001b[0m \u001b[0;34m**\u001b[0m\u001b[0mkwargs\u001b[0m\u001b[0;34m)\u001b[0m\u001b[0;34m:\u001b[0m\u001b[0;34m\u001b[0m\u001b[0;34m\u001b[0m\u001b[0m\n\u001b[1;32m   1368\u001b[0m     \u001b[0;32mtry\u001b[0m\u001b[0;34m:\u001b[0m\u001b[0;34m\u001b[0m\u001b[0;34m\u001b[0m\u001b[0m\n\u001b[0;32m-> 1369\u001b[0;31m       \u001b[0;32mreturn\u001b[0m \u001b[0mself\u001b[0m\u001b[0;34m.\u001b[0m\u001b[0m_sess\u001b[0m\u001b[0;34m.\u001b[0m\u001b[0mrun\u001b[0m\u001b[0;34m(\u001b[0m\u001b[0;34m*\u001b[0m\u001b[0margs\u001b[0m\u001b[0;34m,\u001b[0m \u001b[0;34m**\u001b[0m\u001b[0mkwargs\u001b[0m\u001b[0;34m)\u001b[0m\u001b[0;34m\u001b[0m\u001b[0;34m\u001b[0m\u001b[0m\n\u001b[0m\u001b[1;32m   1370\u001b[0m     \u001b[0;32mexcept\u001b[0m \u001b[0m_PREEMPTION_ERRORS\u001b[0m\u001b[0;34m:\u001b[0m\u001b[0;34m\u001b[0m\u001b[0;34m\u001b[0m\u001b[0m\n\u001b[1;32m   1371\u001b[0m       \u001b[0;32mraise\u001b[0m\u001b[0;34m\u001b[0m\u001b[0;34m\u001b[0m\u001b[0m\n",
      "\u001b[0;32m~/opt/anaconda3/lib/python3.7/site-packages/tensorflow/python/training/monitored_session.py\u001b[0m in \u001b[0;36mrun\u001b[0;34m(self, fetches, feed_dict, options, run_metadata)\u001b[0m\n\u001b[1;32m   1440\u001b[0m         \u001b[0mfeed_dict\u001b[0m\u001b[0;34m=\u001b[0m\u001b[0mfeed_dict\u001b[0m\u001b[0;34m,\u001b[0m\u001b[0;34m\u001b[0m\u001b[0;34m\u001b[0m\u001b[0m\n\u001b[1;32m   1441\u001b[0m         \u001b[0moptions\u001b[0m\u001b[0;34m=\u001b[0m\u001b[0moptions\u001b[0m\u001b[0;34m,\u001b[0m\u001b[0;34m\u001b[0m\u001b[0;34m\u001b[0m\u001b[0m\n\u001b[0;32m-> 1442\u001b[0;31m         run_metadata=run_metadata)\n\u001b[0m\u001b[1;32m   1443\u001b[0m \u001b[0;34m\u001b[0m\u001b[0m\n\u001b[1;32m   1444\u001b[0m     \u001b[0;32mfor\u001b[0m \u001b[0mhook\u001b[0m \u001b[0;32min\u001b[0m \u001b[0mself\u001b[0m\u001b[0;34m.\u001b[0m\u001b[0m_hooks\u001b[0m\u001b[0;34m:\u001b[0m\u001b[0;34m\u001b[0m\u001b[0;34m\u001b[0m\u001b[0m\n",
      "\u001b[0;32m~/opt/anaconda3/lib/python3.7/site-packages/tensorflow/python/training/monitored_session.py\u001b[0m in \u001b[0;36mrun\u001b[0;34m(self, *args, **kwargs)\u001b[0m\n\u001b[1;32m   1198\u001b[0m \u001b[0;34m\u001b[0m\u001b[0m\n\u001b[1;32m   1199\u001b[0m   \u001b[0;32mdef\u001b[0m \u001b[0mrun\u001b[0m\u001b[0;34m(\u001b[0m\u001b[0mself\u001b[0m\u001b[0;34m,\u001b[0m \u001b[0;34m*\u001b[0m\u001b[0margs\u001b[0m\u001b[0;34m,\u001b[0m \u001b[0;34m**\u001b[0m\u001b[0mkwargs\u001b[0m\u001b[0;34m)\u001b[0m\u001b[0;34m:\u001b[0m\u001b[0;34m\u001b[0m\u001b[0;34m\u001b[0m\u001b[0m\n\u001b[0;32m-> 1200\u001b[0;31m     \u001b[0;32mreturn\u001b[0m \u001b[0mself\u001b[0m\u001b[0;34m.\u001b[0m\u001b[0m_sess\u001b[0m\u001b[0;34m.\u001b[0m\u001b[0mrun\u001b[0m\u001b[0;34m(\u001b[0m\u001b[0;34m*\u001b[0m\u001b[0margs\u001b[0m\u001b[0;34m,\u001b[0m \u001b[0;34m**\u001b[0m\u001b[0mkwargs\u001b[0m\u001b[0;34m)\u001b[0m\u001b[0;34m\u001b[0m\u001b[0;34m\u001b[0m\u001b[0m\n\u001b[0m\u001b[1;32m   1201\u001b[0m \u001b[0;34m\u001b[0m\u001b[0m\n\u001b[1;32m   1202\u001b[0m   \u001b[0;32mdef\u001b[0m \u001b[0mrun_step_fn\u001b[0m\u001b[0;34m(\u001b[0m\u001b[0mself\u001b[0m\u001b[0;34m,\u001b[0m \u001b[0mstep_fn\u001b[0m\u001b[0;34m,\u001b[0m \u001b[0mraw_session\u001b[0m\u001b[0;34m,\u001b[0m \u001b[0mrun_with_hooks\u001b[0m\u001b[0;34m)\u001b[0m\u001b[0;34m:\u001b[0m\u001b[0;34m\u001b[0m\u001b[0;34m\u001b[0m\u001b[0m\n",
      "\u001b[0;32m~/opt/anaconda3/lib/python3.7/site-packages/tensorflow/python/client/session.py\u001b[0m in \u001b[0;36mrun\u001b[0;34m(self, fetches, feed_dict, options, run_metadata)\u001b[0m\n\u001b[1;32m    956\u001b[0m     \u001b[0;32mtry\u001b[0m\u001b[0;34m:\u001b[0m\u001b[0;34m\u001b[0m\u001b[0;34m\u001b[0m\u001b[0m\n\u001b[1;32m    957\u001b[0m       result = self._run(None, fetches, feed_dict, options_ptr,\n\u001b[0;32m--> 958\u001b[0;31m                          run_metadata_ptr)\n\u001b[0m\u001b[1;32m    959\u001b[0m       \u001b[0;32mif\u001b[0m \u001b[0mrun_metadata\u001b[0m\u001b[0;34m:\u001b[0m\u001b[0;34m\u001b[0m\u001b[0;34m\u001b[0m\u001b[0m\n\u001b[1;32m    960\u001b[0m         \u001b[0mproto_data\u001b[0m \u001b[0;34m=\u001b[0m \u001b[0mtf_session\u001b[0m\u001b[0;34m.\u001b[0m\u001b[0mTF_GetBuffer\u001b[0m\u001b[0;34m(\u001b[0m\u001b[0mrun_metadata_ptr\u001b[0m\u001b[0;34m)\u001b[0m\u001b[0;34m\u001b[0m\u001b[0;34m\u001b[0m\u001b[0m\n",
      "\u001b[0;32m~/opt/anaconda3/lib/python3.7/site-packages/tensorflow/python/client/session.py\u001b[0m in \u001b[0;36m_run\u001b[0;34m(self, handle, fetches, feed_dict, options, run_metadata)\u001b[0m\n\u001b[1;32m   1179\u001b[0m     \u001b[0;32mif\u001b[0m \u001b[0mfinal_fetches\u001b[0m \u001b[0;32mor\u001b[0m \u001b[0mfinal_targets\u001b[0m \u001b[0;32mor\u001b[0m \u001b[0;34m(\u001b[0m\u001b[0mhandle\u001b[0m \u001b[0;32mand\u001b[0m \u001b[0mfeed_dict_tensor\u001b[0m\u001b[0;34m)\u001b[0m\u001b[0;34m:\u001b[0m\u001b[0;34m\u001b[0m\u001b[0;34m\u001b[0m\u001b[0m\n\u001b[1;32m   1180\u001b[0m       results = self._do_run(handle, final_targets, final_fetches,\n\u001b[0;32m-> 1181\u001b[0;31m                              feed_dict_tensor, options, run_metadata)\n\u001b[0m\u001b[1;32m   1182\u001b[0m     \u001b[0;32melse\u001b[0m\u001b[0;34m:\u001b[0m\u001b[0;34m\u001b[0m\u001b[0;34m\u001b[0m\u001b[0m\n\u001b[1;32m   1183\u001b[0m       \u001b[0mresults\u001b[0m \u001b[0;34m=\u001b[0m \u001b[0;34m[\u001b[0m\u001b[0;34m]\u001b[0m\u001b[0;34m\u001b[0m\u001b[0;34m\u001b[0m\u001b[0m\n",
      "\u001b[0;32m~/opt/anaconda3/lib/python3.7/site-packages/tensorflow/python/client/session.py\u001b[0m in \u001b[0;36m_do_run\u001b[0;34m(self, handle, target_list, fetch_list, feed_dict, options, run_metadata)\u001b[0m\n\u001b[1;32m   1357\u001b[0m     \u001b[0;32mif\u001b[0m \u001b[0mhandle\u001b[0m \u001b[0;32mis\u001b[0m \u001b[0;32mNone\u001b[0m\u001b[0;34m:\u001b[0m\u001b[0;34m\u001b[0m\u001b[0;34m\u001b[0m\u001b[0m\n\u001b[1;32m   1358\u001b[0m       return self._do_call(_run_fn, feeds, fetches, targets, options,\n\u001b[0;32m-> 1359\u001b[0;31m                            run_metadata)\n\u001b[0m\u001b[1;32m   1360\u001b[0m     \u001b[0;32melse\u001b[0m\u001b[0;34m:\u001b[0m\u001b[0;34m\u001b[0m\u001b[0;34m\u001b[0m\u001b[0m\n\u001b[1;32m   1361\u001b[0m       \u001b[0;32mreturn\u001b[0m \u001b[0mself\u001b[0m\u001b[0;34m.\u001b[0m\u001b[0m_do_call\u001b[0m\u001b[0;34m(\u001b[0m\u001b[0m_prun_fn\u001b[0m\u001b[0;34m,\u001b[0m \u001b[0mhandle\u001b[0m\u001b[0;34m,\u001b[0m \u001b[0mfeeds\u001b[0m\u001b[0;34m,\u001b[0m \u001b[0mfetches\u001b[0m\u001b[0;34m)\u001b[0m\u001b[0;34m\u001b[0m\u001b[0;34m\u001b[0m\u001b[0m\n",
      "\u001b[0;32m~/opt/anaconda3/lib/python3.7/site-packages/tensorflow/python/client/session.py\u001b[0m in \u001b[0;36m_do_call\u001b[0;34m(self, fn, *args)\u001b[0m\n\u001b[1;32m   1382\u001b[0m                     \u001b[0;34m'\\nsession_config.graph_options.rewrite_options.'\u001b[0m\u001b[0;34m\u001b[0m\u001b[0;34m\u001b[0m\u001b[0m\n\u001b[1;32m   1383\u001b[0m                     'disable_meta_optimizer = True')\n\u001b[0;32m-> 1384\u001b[0;31m       \u001b[0;32mraise\u001b[0m \u001b[0mtype\u001b[0m\u001b[0;34m(\u001b[0m\u001b[0me\u001b[0m\u001b[0;34m)\u001b[0m\u001b[0;34m(\u001b[0m\u001b[0mnode_def\u001b[0m\u001b[0;34m,\u001b[0m \u001b[0mop\u001b[0m\u001b[0;34m,\u001b[0m \u001b[0mmessage\u001b[0m\u001b[0;34m)\u001b[0m\u001b[0;34m\u001b[0m\u001b[0;34m\u001b[0m\u001b[0m\n\u001b[0m\u001b[1;32m   1385\u001b[0m \u001b[0;34m\u001b[0m\u001b[0m\n\u001b[1;32m   1386\u001b[0m   \u001b[0;32mdef\u001b[0m \u001b[0m_extend_graph\u001b[0m\u001b[0;34m(\u001b[0m\u001b[0mself\u001b[0m\u001b[0;34m)\u001b[0m\u001b[0;34m:\u001b[0m\u001b[0;34m\u001b[0m\u001b[0;34m\u001b[0m\u001b[0m\n",
      "\u001b[0;31mUnimplementedError\u001b[0m: Cast string to float is not supported\n\t [[node head/losses/Cast (defined at /Users/zhen/opt/anaconda3/lib/python3.7/site-packages/tensorflow_estimator/python/estimator/head/binary_class_head.py:258) ]]\n\nErrors may have originated from an input operation.\nInput Source operations connected to node head/losses/Cast:\n head/losses/labels (defined at /Users/zhen/opt/anaconda3/lib/python3.7/site-packages/tensorflow_estimator/python/estimator/head/base_head.py:469)\n\nOriginal stack trace for 'head/losses/Cast':\n  File \"/Users/zhen/opt/anaconda3/lib/python3.7/runpy.py\", line 193, in _run_module_as_main\n    \"__main__\", mod_spec)\n  File \"/Users/zhen/opt/anaconda3/lib/python3.7/runpy.py\", line 85, in _run_code\n    exec(code, run_globals)\n  File \"/Users/zhen/opt/anaconda3/lib/python3.7/site-packages/ipykernel_launcher.py\", line 16, in <module>\n    app.launch_new_instance()\n  File \"/Users/zhen/opt/anaconda3/lib/python3.7/site-packages/traitlets/config/application.py\", line 664, in launch_instance\n    app.start()\n  File \"/Users/zhen/opt/anaconda3/lib/python3.7/site-packages/ipykernel/kernelapp.py\", line 563, in start\n    self.io_loop.start()\n  File \"/Users/zhen/opt/anaconda3/lib/python3.7/site-packages/tornado/platform/asyncio.py\", line 148, in start\n    self.asyncio_loop.run_forever()\n  File \"/Users/zhen/opt/anaconda3/lib/python3.7/asyncio/base_events.py\", line 534, in run_forever\n    self._run_once()\n  File \"/Users/zhen/opt/anaconda3/lib/python3.7/asyncio/base_events.py\", line 1771, in _run_once\n    handle._run()\n  File \"/Users/zhen/opt/anaconda3/lib/python3.7/asyncio/events.py\", line 88, in _run\n    self._context.run(self._callback, *self._args)\n  File \"/Users/zhen/opt/anaconda3/lib/python3.7/site-packages/tornado/ioloop.py\", line 690, in <lambda>\n    lambda f: self._run_callback(functools.partial(callback, future))\n  File \"/Users/zhen/opt/anaconda3/lib/python3.7/site-packages/tornado/ioloop.py\", line 743, in _run_callback\n    ret = callback()\n  File \"/Users/zhen/opt/anaconda3/lib/python3.7/site-packages/tornado/gen.py\", line 787, in inner\n    self.run()\n  File \"/Users/zhen/opt/anaconda3/lib/python3.7/site-packages/tornado/gen.py\", line 748, in run\n    yielded = self.gen.send(value)\n  File \"/Users/zhen/opt/anaconda3/lib/python3.7/site-packages/ipykernel/kernelbase.py\", line 365, in process_one\n    yield gen.maybe_future(dispatch(*args))\n  File \"/Users/zhen/opt/anaconda3/lib/python3.7/site-packages/tornado/gen.py\", line 209, in wrapper\n    yielded = next(result)\n  File \"/Users/zhen/opt/anaconda3/lib/python3.7/site-packages/ipykernel/kernelbase.py\", line 272, in dispatch_shell\n    yield gen.maybe_future(handler(stream, idents, msg))\n  File \"/Users/zhen/opt/anaconda3/lib/python3.7/site-packages/tornado/gen.py\", line 209, in wrapper\n    yielded = next(result)\n  File \"/Users/zhen/opt/anaconda3/lib/python3.7/site-packages/ipykernel/kernelbase.py\", line 542, in execute_request\n    user_expressions, allow_stdin,\n  File \"/Users/zhen/opt/anaconda3/lib/python3.7/site-packages/tornado/gen.py\", line 209, in wrapper\n    yielded = next(result)\n  File \"/Users/zhen/opt/anaconda3/lib/python3.7/site-packages/ipykernel/ipkernel.py\", line 294, in do_execute\n    res = shell.run_cell(code, store_history=store_history, silent=silent)\n  File \"/Users/zhen/opt/anaconda3/lib/python3.7/site-packages/ipykernel/zmqshell.py\", line 536, in run_cell\n    return super(ZMQInteractiveShell, self).run_cell(*args, **kwargs)\n  File \"/Users/zhen/opt/anaconda3/lib/python3.7/site-packages/IPython/core/interactiveshell.py\", line 2855, in run_cell\n    raw_cell, store_history, silent, shell_futures)\n  File \"/Users/zhen/opt/anaconda3/lib/python3.7/site-packages/IPython/core/interactiveshell.py\", line 2881, in _run_cell\n    return runner(coro)\n  File \"/Users/zhen/opt/anaconda3/lib/python3.7/site-packages/IPython/core/async_helpers.py\", line 68, in _pseudo_sync_runner\n    coro.send(None)\n  File \"/Users/zhen/opt/anaconda3/lib/python3.7/site-packages/IPython/core/interactiveshell.py\", line 3058, in run_cell_async\n    interactivity=interactivity, compiler=compiler, result=result)\n  File \"/Users/zhen/opt/anaconda3/lib/python3.7/site-packages/IPython/core/interactiveshell.py\", line 3249, in run_ast_nodes\n    if (await self.run_code(code, result,  async_=asy)):\n  File \"/Users/zhen/opt/anaconda3/lib/python3.7/site-packages/IPython/core/interactiveshell.py\", line 3326, in run_code\n    exec(code_obj, self.user_global_ns, self.user_ns)\n  File \"<ipython-input-564-c2302a67c05e>\", line 1, in <module>\n    linear_model.train(input_fn=input_func, steps=10000)\n  File \"/Users/zhen/opt/anaconda3/lib/python3.7/site-packages/tensorflow_estimator/python/estimator/estimator.py\", line 349, in train\n    loss = self._train_model(input_fn, hooks, saving_listeners)\n  File \"/Users/zhen/opt/anaconda3/lib/python3.7/site-packages/tensorflow_estimator/python/estimator/estimator.py\", line 1182, in _train_model\n    return self._train_model_default(input_fn, hooks, saving_listeners)\n  File \"/Users/zhen/opt/anaconda3/lib/python3.7/site-packages/tensorflow_estimator/python/estimator/estimator.py\", line 1211, in _train_model_default\n    self.config)\n  File \"/Users/zhen/opt/anaconda3/lib/python3.7/site-packages/tensorflow_estimator/python/estimator/estimator.py\", line 1170, in _call_model_fn\n    model_fn_results = self._model_fn(features=features, **kwargs)\n  File \"/Users/zhen/opt/anaconda3/lib/python3.7/site-packages/tensorflow_estimator/python/estimator/canned/linear.py\", line 943, in _model_fn\n    sparse_combiner=sparse_combiner)\n  File \"/Users/zhen/opt/anaconda3/lib/python3.7/site-packages/tensorflow_estimator/python/estimator/canned/linear.py\", line 684, in _linear_model_fn_v2\n    logits=logits)\n  File \"/Users/zhen/opt/anaconda3/lib/python3.7/site-packages/tensorflow_estimator/python/estimator/head/base_head.py\", line 292, in create_estimator_spec\n    regularization_losses=regularization_losses))\n  File \"/Users/zhen/opt/anaconda3/lib/python3.7/site-packages/tensorflow_estimator/python/estimator/head/binary_class_head.py\", line 567, in _create_tpu_estimator_spec\n    regularization_losses=regularization_losses)\n  File \"/Users/zhen/opt/anaconda3/lib/python3.7/site-packages/tensorflow_estimator/python/estimator/head/binary_class_head.py\", line 288, in loss\n    labels = self._processed_labels(logits, labels)\n  File \"/Users/zhen/opt/anaconda3/lib/python3.7/site-packages/tensorflow_estimator/python/estimator/head/binary_class_head.py\", line 258, in _processed_labels\n    labels = tf.cast(labels, dtype=tf.dtypes.float32)\n  File \"/Users/zhen/opt/anaconda3/lib/python3.7/site-packages/tensorflow/python/util/dispatch.py\", line 180, in wrapper\n    return target(*args, **kwargs)\n  File \"/Users/zhen/opt/anaconda3/lib/python3.7/site-packages/tensorflow/python/ops/math_ops.py\", line 789, in cast\n    x = gen_math_ops.cast(x, base_type, name=name)\n  File \"/Users/zhen/opt/anaconda3/lib/python3.7/site-packages/tensorflow/python/ops/gen_math_ops.py\", line 1978, in cast\n    \"Cast\", x=x, DstT=DstT, Truncate=Truncate, name=name)\n  File \"/Users/zhen/opt/anaconda3/lib/python3.7/site-packages/tensorflow/python/framework/op_def_library.py\", line 744, in _apply_op_helper\n    attrs=attr_protos, op_def=op_def)\n  File \"/Users/zhen/opt/anaconda3/lib/python3.7/site-packages/tensorflow/python/framework/ops.py\", line 3327, in _create_op_internal\n    op_def=op_def)\n  File \"/Users/zhen/opt/anaconda3/lib/python3.7/site-packages/tensorflow/python/framework/ops.py\", line 1791, in __init__\n    self._traceback = tf_stack.extract_stack()\n"
     ]
    }
   ],
   "source": [
    "linear_model.train(input_fn=input_func, steps=10000)"
   ]
  },
  {
   "cell_type": "code",
   "execution_count": null,
   "metadata": {},
   "outputs": [],
   "source": []
  }
 ],
 "metadata": {
  "kernelspec": {
   "display_name": "Python 3",
   "language": "python",
   "name": "python3"
  },
  "language_info": {
   "codemirror_mode": {
    "name": "ipython",
    "version": 3
   },
   "file_extension": ".py",
   "mimetype": "text/x-python",
   "name": "python",
   "nbconvert_exporter": "python",
   "pygments_lexer": "ipython3",
   "version": "3.7.4"
  }
 },
 "nbformat": 4,
 "nbformat_minor": 2
}
